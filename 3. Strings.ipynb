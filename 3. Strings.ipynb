{
 "cells": [
  {
   "cell_type": "markdown",
   "id": "dcf39c29-60cb-4e8a-bcd8-1d7355b4776f",
   "metadata": {},
   "source": [
    "## Indentation\n",
    "    Indentation refers to the spaces at the beginning of a code line. It is very important as Python uses indentation to indicate a block of code.If the indentation is not correct we will endup with IndentationError error.\n"
   ]
  },
  {
   "cell_type": "code",
   "execution_count": 1,
   "id": "1736d436-8d3c-4a6d-9d9f-b427175209c3",
   "metadata": {},
   "outputs": [
    {
     "name": "stdout",
     "output_type": "stream",
     "text": [
      "P is equal to 10\n"
     ]
    }
   ],
   "source": [
    "p = 10\n",
    "if p == 10: # true\n",
    "    print ('P is equal to 10') # correct indentation\n"
   ]
  },
  {
   "cell_type": "code",
   "execution_count": 2,
   "id": "a103011f-1bbf-4300-b666-e18913401431",
   "metadata": {},
   "outputs": [
    {
     "name": "stdout",
     "output_type": "stream",
     "text": [
      "P is equal to 10\n"
     ]
    }
   ],
   "source": [
    "p = 10\n",
    "if p == 10:\n",
    " print ('P is equal to 10') # correct indentation\n"
   ]
  },
  {
   "cell_type": "code",
   "execution_count": 3,
   "id": "4f8904e3-48c1-49cd-82b4-32dfe2d58f3a",
   "metadata": {},
   "outputs": [
    {
     "ename": "IndentationError",
     "evalue": "expected an indented block after 'if' statement on line 3 (1693978761.py, line 4)",
     "output_type": "error",
     "traceback": [
      "\u001b[1;36m  Cell \u001b[1;32mIn[3], line 4\u001b[1;36m\u001b[0m\n\u001b[1;33m    print ('P is equal to 10')\u001b[0m\n\u001b[1;37m    ^\u001b[0m\n\u001b[1;31mIndentationError\u001b[0m\u001b[1;31m:\u001b[0m expected an indented block after 'if' statement on line 3\n"
     ]
    }
   ],
   "source": [
    "# if indentation is skipped we will encounter \"IndentationError: expected an inde\n",
    "p = 10\n",
    "if p == 10:\n",
    "print ('P is equal to 10')"
   ]
  },
  {
   "cell_type": "markdown",
   "id": "13b244f3-f768-4a0c-832e-2afbc0757bb5",
   "metadata": {},
   "source": [
    "### Range"
   ]
  },
  {
   "cell_type": "code",
   "execution_count": 1,
   "id": "5701df40-e737-422c-a257-988719bd27a3",
   "metadata": {},
   "outputs": [
    {
     "data": {
      "text/plain": [
       "range(0, 10)"
      ]
     },
     "execution_count": 1,
     "metadata": {},
     "output_type": "execute_result"
    }
   ],
   "source": [
    "range(0,10)"
   ]
  },
  {
   "cell_type": "code",
   "execution_count": 2,
   "id": "9553cee5-3f30-4931-9743-4ca2d4977c43",
   "metadata": {},
   "outputs": [
    {
     "name": "stdout",
     "output_type": "stream",
     "text": [
      "range(10, 20)\n"
     ]
    }
   ],
   "source": [
    "print(range(10,20))"
   ]
  },
  {
   "cell_type": "code",
   "execution_count": 3,
   "id": "89730bfd-e32a-4b50-b745-36dd92e5a02a",
   "metadata": {},
   "outputs": [
    {
     "name": "stdout",
     "output_type": "stream",
     "text": [
      "10\n",
      "11\n",
      "12\n",
      "13\n",
      "14\n"
     ]
    }
   ],
   "source": [
    "for i in range(10,15):\n",
    "    print(i)"
   ]
  },
  {
   "cell_type": "code",
   "execution_count": 4,
   "id": "3a541e8b-29c2-4633-93aa-ed5fd9f4227c",
   "metadata": {},
   "outputs": [
    {
     "name": "stdout",
     "output_type": "stream",
     "text": [
      "0\n",
      "1\n",
      "2\n",
      "3\n",
      "4\n"
     ]
    }
   ],
   "source": [
    "for i in range(0,5):\n",
    " print(i) "
   ]
  },
  {
   "cell_type": "code",
   "execution_count": 6,
   "id": "afa99c31-6a50-4ee8-9faf-29abb3e9d34c",
   "metadata": {},
   "outputs": [
    {
     "ename": "IndentationError",
     "evalue": "expected an indented block after 'for' statement on line 2 (4284280885.py, line 3)",
     "output_type": "error",
     "traceback": [
      "\u001b[1;36m  Cell \u001b[1;32mIn[6], line 3\u001b[1;36m\u001b[0m\n\u001b[1;33m    print(i)\u001b[0m\n\u001b[1;37m    ^\u001b[0m\n\u001b[1;31mIndentationError\u001b[0m\u001b[1;31m:\u001b[0m expected an indented block after 'for' statement on line 2\n"
     ]
    }
   ],
   "source": [
    "# if indentation is skipped we will encounter \"IndentationError: expected an indented block\n",
    "for i in range(0,5):\n",
    "print(i)\n"
   ]
  },
  {
   "cell_type": "code",
   "execution_count": 5,
   "id": "beaccdd1-fcc5-49aa-99b1-1c520f7fbb02",
   "metadata": {},
   "outputs": [
    {
     "name": "stdout",
     "output_type": "stream",
     "text": [
      "0\n",
      "1\n",
      "2\n",
      "3\n",
      "4\n"
     ]
    }
   ],
   "source": [
    "for i in range(0,5): print(i) # correct indentation but less readable\n"
   ]
  },
  {
   "cell_type": "code",
   "execution_count": 7,
   "id": "906376de-720b-4662-956c-ab66b0f61801",
   "metadata": {},
   "outputs": [
    {
     "name": "stdout",
     "output_type": "stream",
     "text": [
      "0\n",
      "1\n",
      "2\n",
      "3\n",
      "4\n",
      "20\n"
     ]
    }
   ],
   "source": [
    "j=20\n",
    "for i in range(0,5):\n",
    "     print(i) # inside the for loop\n",
    "print(j) # outside the for loop\n"
   ]
  },
  {
   "cell_type": "markdown",
   "id": "9582718e-5128-47ec-aae0-2b0d73783f72",
   "metadata": {},
   "source": [
    "# string\n",
    "* single quote ---> ' '\n",
    "* double quote ---> \" \"\n",
    "* triple quote ---> ''' ''' or \"\"\" \"\"\"\n",
    "* immutable"
   ]
  },
  {
   "cell_type": "markdown",
   "id": "7624559c-7aee-459c-af61-85c60c9db527",
   "metadata": {},
   "source": [
    "### String Creation"
   ]
  },
  {
   "cell_type": "code",
   "execution_count": 9,
   "id": "a23fc321-0eb9-4ec0-933a-d211556e4ac2",
   "metadata": {},
   "outputs": [
    {
     "data": {
      "text/plain": [
       "('Hi welcome to data science', str)"
      ]
     },
     "execution_count": 9,
     "metadata": {},
     "output_type": "execute_result"
    }
   ],
   "source": [
    "# single quotes\n",
    "str1 = 'Hi welcome to data science'\n",
    "str1, type(str1)"
   ]
  },
  {
   "cell_type": "code",
   "execution_count": 10,
   "id": "40b2a937-3fe3-478e-993a-4f1098aae362",
   "metadata": {},
   "outputs": [
    {
     "data": {
      "text/plain": [
       "'Hi welcome to data science'"
      ]
     },
     "execution_count": 10,
     "metadata": {},
     "output_type": "execute_result"
    }
   ],
   "source": [
    "# double quotes\n",
    "str1 = \"Hi welcome to data science\"\n",
    "str1"
   ]
  },
  {
   "cell_type": "code",
   "execution_count": 12,
   "id": "a77e747f-3fd6-4e7b-bb3d-63e01944912c",
   "metadata": {},
   "outputs": [
    {
     "data": {
      "text/plain": [
       "'Hi welcome to data science'"
      ]
     },
     "execution_count": 12,
     "metadata": {},
     "output_type": "execute_result"
    }
   ],
   "source": [
    "# triple quotes\n",
    "str1 = \"\"\"Hi welcome to data science\"\"\"\n",
    "str1"
   ]
  },
  {
   "cell_type": "code",
   "execution_count": 15,
   "id": "8eae796c-cefa-4507-bf6b-f42fcdcf4d92",
   "metadata": {},
   "outputs": [
    {
     "data": {
      "text/plain": [
       "'he crocodile was very hungry \\nhe stopped in the middle of the river and said to the monkey, \\nMy father is very sick. He has to eat the heart of the monkey.'"
      ]
     },
     "execution_count": 15,
     "metadata": {},
     "output_type": "execute_result"
    }
   ],
   "source": [
    "# multi line\n",
    "str1 = '''he crocodile was very hungry \n",
    "he stopped in the middle of the river and said to the monkey, \n",
    "My father is very sick. He has to eat the heart of the monkey.'''\n",
    "str1"
   ]
  },
  {
   "cell_type": "code",
   "execution_count": 16,
   "id": "ab57a380-0891-46fd-8461-0b6a2c06bce9",
   "metadata": {},
   "outputs": [
    {
     "data": {
      "text/plain": [
       "'he crocodile was very hungry, \\nhe stopped in the middle of the river and said to the monkey, \\nMy father is very sick. He has to eat the heart of the monkey.'"
      ]
     },
     "execution_count": 16,
     "metadata": {},
     "output_type": "execute_result"
    }
   ],
   "source": [
    "# multi line\n",
    "str2 = \"\"\"he crocodile was very hungry, \n",
    "he stopped in the middle of the river and said to the monkey, \n",
    "My father is very sick. He has to eat the heart of the monkey.\"\"\"\n",
    "str2"
   ]
  },
  {
   "cell_type": "code",
   "execution_count": 18,
   "id": "10b73915-a8d7-4b84-88f8-4c2f389b376e",
   "metadata": {},
   "outputs": [
    {
     "data": {
      "text/plain": [
       "\"Hi it's me\""
      ]
     },
     "execution_count": 18,
     "metadata": {},
     "output_type": "execute_result"
    }
   ],
   "source": [
    "text = \"Hi it's me\"\n",
    "text"
   ]
  },
  {
   "cell_type": "code",
   "execution_count": 20,
   "id": "7a29d980-65c6-47d7-9089-1a840d980436",
   "metadata": {},
   "outputs": [
    {
     "data": {
      "text/plain": [
       "'He said, \"I finished my homework.\" will change to He said he finished his homework.'"
      ]
     },
     "execution_count": 20,
     "metadata": {},
     "output_type": "execute_result"
    }
   ],
   "source": [
    "text = 'He said, \"I finished my homework.\" will change to He said he finished his homework.'\n",
    "text"
   ]
  },
  {
   "cell_type": "code",
   "execution_count": 21,
   "id": "403c33c4-f838-4d9a-bf3e-4a6761af979d",
   "metadata": {},
   "outputs": [
    {
     "data": {
      "text/plain": [
       "'He said, \"I finished my homework.\" will change to He said he finished his homework.'"
      ]
     },
     "execution_count": 21,
     "metadata": {},
     "output_type": "execute_result"
    }
   ],
   "source": [
    "text = '''He said, \"I finished my homework.\" will change to He said he finished his homework.'''\n",
    "text"
   ]
  },
  {
   "cell_type": "markdown",
   "id": "1d630311-0714-4189-8117-98bac1302d18",
   "metadata": {},
   "source": [
    "### Comments\n",
    "* '#' --> symbol"
   ]
  },
  {
   "cell_type": "markdown",
   "id": "7fc6a46c-5b88-40ff-aaa6-6b27e855c62e",
   "metadata": {},
   "source": [
    "### length"
   ]
  },
  {
   "cell_type": "code",
   "execution_count": 22,
   "id": "26361949-3ec0-4fb2-8819-00b51a5df2b0",
   "metadata": {},
   "outputs": [
    {
     "data": {
      "text/plain": [
       "44"
      ]
     },
     "execution_count": 22,
     "metadata": {},
     "output_type": "execute_result"
    }
   ],
   "source": [
    "# identify the length of string\n",
    "text = \"Hi it's me!, How is your work? my num 865975\"\n",
    "len(text) # Length of string"
   ]
  },
  {
   "cell_type": "markdown",
   "id": "8e07caa4-75e6-461c-8d47-aac257ac2028",
   "metadata": {},
   "source": [
    "### concatination"
   ]
  },
  {
   "cell_type": "code",
   "execution_count": 11,
   "id": "daf4c1eb-5b0b-4d55-968c-7b22a1e60e61",
   "metadata": {},
   "outputs": [
    {
     "data": {
      "text/plain": [
       "('5', str)"
      ]
     },
     "execution_count": 11,
     "metadata": {},
     "output_type": "execute_result"
    }
   ],
   "source": [
    "value = '5'\n",
    "value + value\n",
    "value, type(value)"
   ]
  },
  {
   "cell_type": "code",
   "execution_count": 12,
   "id": "2bd13400-52f6-4cb7-b7e9-7b8280ca7a4a",
   "metadata": {},
   "outputs": [
    {
     "data": {
      "text/plain": [
       "'55'"
      ]
     },
     "execution_count": 12,
     "metadata": {},
     "output_type": "execute_result"
    }
   ],
   "source": [
    "value1 = value + value  # + --> concatenate\n",
    "value1"
   ]
  },
  {
   "cell_type": "code",
   "execution_count": 13,
   "id": "bddf53da-e2db-4df2-b68d-d2bf3038f42f",
   "metadata": {},
   "outputs": [
    {
     "name": "stdout",
     "output_type": "stream",
     "text": [
      "Hellohow are you\n"
     ]
    }
   ],
   "source": [
    "# String concatenation\n",
    "s1 = \"Hello\"\n",
    "s2 = \"how are you\"\n",
    "s3 = s1 + s2\n",
    "print(s3)"
   ]
  },
  {
   "cell_type": "code",
   "execution_count": 14,
   "id": "97886188-fae0-40ae-9019-e94566225724",
   "metadata": {},
   "outputs": [
    {
     "name": "stdout",
     "output_type": "stream",
     "text": [
      "Hello, how are you\n"
     ]
    }
   ],
   "source": [
    "# String concatenation\n",
    "s3 = s1 + \", \" + s2\n",
    "print(s3)\n"
   ]
  },
  {
   "cell_type": "code",
   "execution_count": 15,
   "id": "c844942b-77d9-4264-ab26-bf34a5040d03",
   "metadata": {},
   "outputs": [
    {
     "name": "stdout",
     "output_type": "stream",
     "text": [
      "**********Hello! how are you**********\n"
     ]
    }
   ],
   "source": [
    "# String concatenation\n",
    "s3 = \"**********\" + s1 +'! ' + s2 + \"**********\"\n",
    "print(s3)\n"
   ]
  },
  {
   "cell_type": "code",
   "execution_count": 16,
   "id": "36efb865-ea9d-45aa-8b3d-d2ee0e50a067",
   "metadata": {},
   "outputs": [
    {
     "ename": "TypeError",
     "evalue": "can only concatenate str (not \"int\") to str",
     "output_type": "error",
     "traceback": [
      "\u001b[1;31m---------------------------------------------------------------------------\u001b[0m",
      "\u001b[1;31mTypeError\u001b[0m                                 Traceback (most recent call last)",
      "Cell \u001b[1;32mIn[16], line 3\u001b[0m\n\u001b[0;32m      1\u001b[0m \u001b[38;5;66;03m# use + to concatenate\u001b[39;00m\n\u001b[0;32m      2\u001b[0m str2 \u001b[38;5;241m=\u001b[39m \u001b[38;5;241m5\u001b[39m\n\u001b[1;32m----> 3\u001b[0m \u001b[38;5;124;43m'\u001b[39;49m\u001b[38;5;124;43mgiven values is \u001b[39;49m\u001b[38;5;124;43m'\u001b[39;49m\u001b[43m \u001b[49m\u001b[38;5;241;43m+\u001b[39;49m\u001b[43m \u001b[49m\u001b[43mstr2\u001b[49m\n",
      "\u001b[1;31mTypeError\u001b[0m: can only concatenate str (not \"int\") to str"
     ]
    }
   ],
   "source": [
    "# use + to concatenate\n",
    "str2 = 5\n",
    "'given values is ' + str2\n"
   ]
  },
  {
   "cell_type": "code",
   "execution_count": 17,
   "id": "ad661f37-2a08-4288-b82e-0ec4b9619c9f",
   "metadata": {},
   "outputs": [
    {
     "data": {
      "text/plain": [
       "'given values is 5'"
      ]
     },
     "execution_count": 17,
     "metadata": {},
     "output_type": "execute_result"
    }
   ],
   "source": [
    "# use + to concatenate\n",
    "str2 = '5'\n",
    "'given values is ' + str2\n"
   ]
  },
  {
   "cell_type": "code",
   "execution_count": 18,
   "id": "6f1fbfc6-ca4c-4cac-9582-6075ffa84bd9",
   "metadata": {},
   "outputs": [
    {
     "data": {
      "text/plain": [
       "'given values is 5'"
      ]
     },
     "execution_count": 18,
     "metadata": {},
     "output_type": "execute_result"
    }
   ],
   "source": [
    "str2 = 5\n",
    "'given values is ' + str(str2)  # typecating --> one data type to another\n"
   ]
  },
  {
   "cell_type": "code",
   "execution_count": 1,
   "id": "b4f24ec9-988c-4043-83a2-b9a17a224845",
   "metadata": {},
   "outputs": [
    {
     "name": "stdout",
     "output_type": "stream",
     "text": [
      "5\n",
      "<class 'int'>\n",
      "********************\n",
      "5\n",
      "<class 'str'>\n",
      "********************\n",
      "5.0\n",
      "<class 'float'>\n",
      "********************\n",
      "5.0\n",
      "<class 'float'>\n"
     ]
    }
   ],
   "source": [
    "# --- typecasting\n",
    "str3 = 5   # integer\n",
    "print(str3)\n",
    "print(type(str3))\n",
    "print('*' * 20)\n",
    "\n",
    "str4 = str(str3)  # string\n",
    "print(str4)\n",
    "print(type(str4))\n",
    "print('*' * 20)\n",
    "\n",
    "str5 = float(str3)  # float\n",
    "print(str5)  # float\n",
    "print(type(str5))\n",
    "print('*' * 20)\n",
    "\n",
    "str6 = float(str4)\n",
    "print(str6)\n",
    "print(type(str6))\n"
   ]
  },
  {
   "cell_type": "code",
   "execution_count": 52,
   "id": "bdb2f1b7-e632-4d7e-9385-c6c25a3cad33",
   "metadata": {},
   "outputs": [
    {
     "name": "stdout",
     "output_type": "stream",
     "text": [
      "given values is 5\n"
     ]
    }
   ],
   "source": [
    "# typecasting -- > convert one data type to another\n",
    "print('given values is '+ str(str3))  "
   ]
  },
  {
   "cell_type": "markdown",
   "id": "84fbd38b-bfa7-4c06-8718-d3730943fd0a",
   "metadata": {},
   "source": [
    "### indexing\n",
    "<center>\n",
    "<img src ='https://miro.medium.com/max/1400/1*6xXLjk-Jq23LRNBTDGK3Uw.png' width=600>\n",
    "</center>"
   ]
  },
  {
   "cell_type": "code",
   "execution_count": 3,
   "id": "97d915ce-7a82-4625-b01b-08dffae674de",
   "metadata": {},
   "outputs": [
    {
     "data": {
      "text/plain": [
       "'Hello World!'"
      ]
     },
     "execution_count": 3,
     "metadata": {},
     "output_type": "execute_result"
    }
   ],
   "source": [
    "str1 ='Hello World!'\n",
    "str1"
   ]
  },
  {
   "cell_type": "code",
   "execution_count": 5,
   "id": "bbea54eb-43b4-45a6-b0e6-f1570037c721",
   "metadata": {},
   "outputs": [
    {
     "data": {
      "text/plain": [
       "'H'"
      ]
     },
     "execution_count": 5,
     "metadata": {},
     "output_type": "execute_result"
    }
   ],
   "source": [
    "str1[0] # First character in string \"str1\"\n"
   ]
  },
  {
   "cell_type": "code",
   "execution_count": 22,
   "id": "b0c8160e-75b8-4526-9720-3d186c805888",
   "metadata": {},
   "outputs": [
    {
     "data": {
      "text/plain": [
       "'l'"
      ]
     },
     "execution_count": 22,
     "metadata": {},
     "output_type": "execute_result"
    }
   ],
   "source": [
    "str1[2]"
   ]
  },
  {
   "cell_type": "code",
   "execution_count": 23,
   "id": "71f3a3bd-edec-499d-ba26-16d97057aa35",
   "metadata": {},
   "outputs": [
    {
     "data": {
      "text/plain": [
       "'W'"
      ]
     },
     "execution_count": 23,
     "metadata": {},
     "output_type": "execute_result"
    }
   ],
   "source": [
    "str1[6]"
   ]
  },
  {
   "cell_type": "code",
   "execution_count": 24,
   "id": "d48b3c0f-ee7a-4866-993a-a39569992dff",
   "metadata": {},
   "outputs": [
    {
     "data": {
      "text/plain": [
       "'W'"
      ]
     },
     "execution_count": 24,
     "metadata": {},
     "output_type": "execute_result"
    }
   ],
   "source": [
    "str1[-6] # end = -1-1 =-2"
   ]
  },
  {
   "cell_type": "code",
   "execution_count": 25,
   "id": "f18b3b3f-c6fb-444e-b714-781198ee3d4d",
   "metadata": {},
   "outputs": [
    {
     "data": {
      "text/plain": [
       "'e'"
      ]
     },
     "execution_count": 25,
     "metadata": {},
     "output_type": "execute_result"
    }
   ],
   "source": [
    "str1[-11]"
   ]
  },
  {
   "cell_type": "code",
   "execution_count": 27,
   "id": "2e563776-5bfd-4b9e-929b-c83b0672fb63",
   "metadata": {},
   "outputs": [
    {
     "data": {
      "text/plain": [
       "'!'"
      ]
     },
     "execution_count": 27,
     "metadata": {},
     "output_type": "execute_result"
    }
   ],
   "source": [
    "str1[len(str1)-1] # Last character in string using len function\n"
   ]
  },
  {
   "cell_type": "code",
   "execution_count": 60,
   "id": "e2bf83be-6f73-4eda-a617-a8c2e13ca42b",
   "metadata": {},
   "outputs": [
    {
     "data": {
      "text/plain": [
       "'!'"
      ]
     },
     "execution_count": 60,
     "metadata": {},
     "output_type": "execute_result"
    }
   ],
   "source": [
    "str1[-1] # Last character in string"
   ]
  },
  {
   "cell_type": "markdown",
   "id": "572d8982-9fa4-4457-a9ff-dad3dbd032ce",
   "metadata": {},
   "source": [
    "### String Slicing\n",
    "* syntax = **variable(starting : ending : step)**, step is optional"
   ]
  },
  {
   "cell_type": "code",
   "execution_count": 28,
   "id": "e8a2cff0-7c88-4d57-84c9-e5a067efc272",
   "metadata": {},
   "outputs": [
    {
     "name": "stdout",
     "output_type": "stream",
     "text": [
      "Hello World!\n"
     ]
    }
   ],
   "source": [
    "print(str1)\n"
   ]
  },
  {
   "cell_type": "code",
   "execution_count": 30,
   "id": "d02d0b97-b5c4-44cd-8c69-04c1557fa712",
   "metadata": {},
   "outputs": [
    {
     "name": "stdout",
     "output_type": "stream",
     "text": [
      "Hello\n",
      "Hello\n"
     ]
    }
   ],
   "source": [
    "print(str1[0:5]) # String slicing - Fetch all characters from 0 to 5 \n",
    "print(str1[:5]) # start : stop (n-1): step (n-1)"
   ]
  },
  {
   "cell_type": "code",
   "execution_count": 32,
   "id": "4c74d865-6215-46ec-aae5-9de8da615445",
   "metadata": {},
   "outputs": [
    {
     "name": "stdout",
     "output_type": "stream",
     "text": [
      "World\n",
      "World!\n"
     ]
    }
   ],
   "source": [
    "print(str1[6:11])\n",
    "print(str1[6:])"
   ]
  },
  {
   "cell_type": "code",
   "execution_count": 33,
   "id": "f98c65f4-b2c2-4b46-9119-a8d63253ba56",
   "metadata": {},
   "outputs": [
    {
     "name": "stdout",
     "output_type": "stream",
     "text": [
      "!dlroW olleH\n"
     ]
    }
   ],
   "source": [
    "print(str1[::-1]) # reverse"
   ]
  },
  {
   "cell_type": "code",
   "execution_count": 34,
   "id": "6d08b315-7000-4d38-b692-4fd1263d58ba",
   "metadata": {},
   "outputs": [
    {
     "name": "stdout",
     "output_type": "stream",
     "text": [
      "Hello World!\n"
     ]
    }
   ],
   "source": [
    "print(str1[0::1]) # skip 1 leter"
   ]
  },
  {
   "cell_type": "code",
   "execution_count": 35,
   "id": "fa0e2759-ac07-4b57-91be-d7f4821f19c9",
   "metadata": {},
   "outputs": [
    {
     "name": "stdout",
     "output_type": "stream",
     "text": [
      "HloWrd\n"
     ]
    }
   ],
   "source": [
    "print(str1[::2])"
   ]
  },
  {
   "cell_type": "code",
   "execution_count": 36,
   "id": "ae3df866-d30a-485b-9820-748b88e46ed0",
   "metadata": {},
   "outputs": [
    {
     "name": "stdout",
     "output_type": "stream",
     "text": [
      "HlWl\n"
     ]
    }
   ],
   "source": [
    "print(str1[::3])"
   ]
  },
  {
   "cell_type": "code",
   "execution_count": 37,
   "id": "d10b3f01-17d4-4bbd-8cf9-09192357b167",
   "metadata": {},
   "outputs": [
    {
     "name": "stdout",
     "output_type": "stream",
     "text": [
      "el \n"
     ]
    }
   ],
   "source": [
    "print(str1[1:7:2])"
   ]
  },
  {
   "cell_type": "markdown",
   "id": "4c29b9b5-ed05-44e0-a384-426d3d6af909",
   "metadata": {},
   "source": [
    "### update & delete the string"
   ]
  },
  {
   "cell_type": "code",
   "execution_count": 38,
   "id": "4f55e0b4-2699-4d05-b12b-f44ba375d628",
   "metadata": {},
   "outputs": [
    {
     "data": {
      "text/plain": [
       "'Hello World'"
      ]
     },
     "execution_count": 38,
     "metadata": {},
     "output_type": "execute_result"
    }
   ],
   "source": [
    "str1 = 'Hello World'\n",
    "str1"
   ]
  },
  {
   "cell_type": "code",
   "execution_count": 39,
   "id": "7bdd8d3b-de38-45db-9b13-3f3e8c901905",
   "metadata": {},
   "outputs": [
    {
     "ename": "TypeError",
     "evalue": "'str' object does not support item assignment",
     "output_type": "error",
     "traceback": [
      "\u001b[1;31m---------------------------------------------------------------------------\u001b[0m",
      "\u001b[1;31mTypeError\u001b[0m                                 Traceback (most recent call last)",
      "Cell \u001b[1;32mIn[39], line 1\u001b[0m\n\u001b[1;32m----> 1\u001b[0m \u001b[43mstr1\u001b[49m\u001b[43m[\u001b[49m\u001b[38;5;241;43m1\u001b[39;49m\u001b[43m]\u001b[49m \u001b[38;5;241m=\u001b[39m \u001b[38;5;124m'\u001b[39m\u001b[38;5;124mi\u001b[39m\u001b[38;5;124m'\u001b[39m   \u001b[38;5;66;03m# immutable\u001b[39;00m\n",
      "\u001b[1;31mTypeError\u001b[0m: 'str' object does not support item assignment"
     ]
    }
   ],
   "source": [
    "str1[1] = 'i'   # immutable"
   ]
  },
  {
   "cell_type": "code",
   "execution_count": 41,
   "id": "b977844e-c07e-4bd0-85dd-93f617f2442c",
   "metadata": {},
   "outputs": [
    {
     "name": "stdout",
     "output_type": "stream",
     "text": [
      "Hello World\n"
     ]
    },
    {
     "ename": "TypeError",
     "evalue": "'type' object does not support item assignment",
     "output_type": "error",
     "traceback": [
      "\u001b[1;31m---------------------------------------------------------------------------\u001b[0m",
      "\u001b[1;31mTypeError\u001b[0m                                 Traceback (most recent call last)",
      "Cell \u001b[1;32mIn[41], line 2\u001b[0m\n\u001b[0;32m      1\u001b[0m \u001b[38;5;28mprint\u001b[39m(str1)\n\u001b[1;32m----> 2\u001b[0m \u001b[38;5;28;43mstr\u001b[39;49m\u001b[43m[\u001b[49m\u001b[38;5;241;43m0\u001b[39;49m\u001b[43m:\u001b[49m\u001b[38;5;241;43m5\u001b[39;49m\u001b[43m]\u001b[49m \u001b[38;5;241m=\u001b[39m \u001b[38;5;124m'\u001b[39m\u001b[38;5;124mHiiii\u001b[39m\u001b[38;5;124m'\u001b[39m  \u001b[38;5;66;03m# immutable - we can't change the value\u001b[39;00m\n",
      "\u001b[1;31mTypeError\u001b[0m: 'type' object does not support item assignment"
     ]
    }
   ],
   "source": [
    "\n",
    "print(str1)\n",
    "str[0:5] = 'Hiiii'  # immutable - we can't change the value\n"
   ]
  },
  {
   "cell_type": "code",
   "execution_count": 44,
   "id": "32f0c1f4-fa60-4b98-b4f7-2c87db6f25e7",
   "metadata": {},
   "outputs": [
    {
     "data": {
      "text/plain": [
       "'Welcome'"
      ]
     },
     "execution_count": 44,
     "metadata": {},
     "output_type": "execute_result"
    }
   ],
   "source": [
    "str2 = 'Welcome'\n",
    "str2\n"
   ]
  },
  {
   "cell_type": "code",
   "execution_count": 45,
   "id": "5aed2131-2efb-4261-ac9f-824795c30281",
   "metadata": {},
   "outputs": [],
   "source": [
    "del str2 # Delete a string\n"
   ]
  },
  {
   "cell_type": "code",
   "execution_count": 46,
   "id": "2f078e29-6f57-41b2-a90a-7cb91e6d2e50",
   "metadata": {},
   "outputs": [
    {
     "ename": "NameError",
     "evalue": "name 'str2' is not defined",
     "output_type": "error",
     "traceback": [
      "\u001b[1;31m---------------------------------------------------------------------------\u001b[0m",
      "\u001b[1;31mNameError\u001b[0m                                 Traceback (most recent call last)",
      "Cell \u001b[1;32mIn[46], line 1\u001b[0m\n\u001b[1;32m----> 1\u001b[0m \u001b[43mstr2\u001b[49m\n",
      "\u001b[1;31mNameError\u001b[0m: name 'str2' is not defined"
     ]
    }
   ],
   "source": [
    "str2"
   ]
  },
  {
   "cell_type": "markdown",
   "id": "e0f11431-1fc5-4c4f-8b7b-7d14206646cf",
   "metadata": {},
   "source": [
    "### Function"
   ]
  },
  {
   "cell_type": "markdown",
   "id": "6b13f580-399a-4cb2-9aa2-cee27444d434",
   "metadata": {},
   "source": [
    "#### strip"
   ]
  },
  {
   "cell_type": "code",
   "execution_count": 47,
   "id": "ec276ab3-d4af-4dd1-abc3-c8525c2c3294",
   "metadata": {},
   "outputs": [
    {
     "data": {
      "text/plain": [
       "'hello world'"
      ]
     },
     "execution_count": 47,
     "metadata": {},
     "output_type": "execute_result"
    }
   ],
   "source": [
    "mystr1 = 'hello world'\n",
    "mystr1"
   ]
  },
  {
   "cell_type": "code",
   "execution_count": 68,
   "id": "51512ecc-5af5-4e72-bdcb-88dcfe462353",
   "metadata": {},
   "outputs": [
    {
     "data": {
      "text/plain": [
       "'      Hello WOrld           '"
      ]
     },
     "execution_count": 68,
     "metadata": {},
     "output_type": "execute_result"
    }
   ],
   "source": [
    "mystr2 = '      Hello WOrld           '\n",
    "mystr2"
   ]
  },
  {
   "cell_type": "code",
   "execution_count": 49,
   "id": "e62ca31d-0b51-4e94-9ff5-7c6b41d9ea4f",
   "metadata": {},
   "outputs": [
    {
     "data": {
      "text/plain": [
       "'Hello WOrld'"
      ]
     },
     "execution_count": 49,
     "metadata": {},
     "output_type": "execute_result"
    }
   ],
   "source": [
    "mystr2.strip() # Removes white space from begining & end"
   ]
  },
  {
   "cell_type": "code",
   "execution_count": 50,
   "id": "9a904b71-07a6-4f36-9239-eecac2b8a846",
   "metadata": {},
   "outputs": [
    {
     "data": {
      "text/plain": [
       "'      Hello WOrld'"
      ]
     },
     "execution_count": 50,
     "metadata": {},
     "output_type": "execute_result"
    }
   ],
   "source": [
    "mystr2.rstrip() # Removes all whitespaces at the end of the string"
   ]
  },
  {
   "cell_type": "code",
   "execution_count": 51,
   "id": "b0ac5a35-fe71-4ee8-bfbb-94025c0e0a1f",
   "metadata": {},
   "outputs": [
    {
     "data": {
      "text/plain": [
       "'Hello WOrld           '"
      ]
     },
     "execution_count": 51,
     "metadata": {},
     "output_type": "execute_result"
    }
   ],
   "source": [
    "mystr2.lstrip() # Removes all whitespaces at the begining of the string"
   ]
  },
  {
   "cell_type": "code",
   "execution_count": 63,
   "id": "071f13ef-5c61-4bc1-913b-0611682044f8",
   "metadata": {},
   "outputs": [
    {
     "data": {
      "text/plain": [
       "'*********Hello Everyone***********All the Best**********'"
      ]
     },
     "execution_count": 63,
     "metadata": {},
     "output_type": "execute_result"
    }
   ],
   "source": [
    "mystr3 = \"*********Hello Everyone***********All the Best**********\"\n",
    "mystr3"
   ]
  },
  {
   "cell_type": "code",
   "execution_count": 64,
   "id": "9962e3bc-bb9a-4de0-ac9d-5577a82d9cfc",
   "metadata": {},
   "outputs": [
    {
     "data": {
      "text/plain": [
       "'Hello Everyone***********All the Best'"
      ]
     },
     "execution_count": 64,
     "metadata": {},
     "output_type": "execute_result"
    }
   ],
   "source": [
    "mystr3.strip('*') # Removes all '*' characters from begining & end of the string"
   ]
  },
  {
   "cell_type": "code",
   "execution_count": 65,
   "id": "276fdcc1-a882-4300-9059-937d35426baa",
   "metadata": {},
   "outputs": [
    {
     "data": {
      "text/plain": [
       "'*********Hello Everyone***********All the Best'"
      ]
     },
     "execution_count": 65,
     "metadata": {},
     "output_type": "execute_result"
    }
   ],
   "source": [
    "mystr3.rstrip('*') # Removes all '*' characters at the end of the string"
   ]
  },
  {
   "cell_type": "code",
   "execution_count": 66,
   "id": "a12e1b6b-82eb-4074-94d6-a62fae12a37f",
   "metadata": {},
   "outputs": [
    {
     "data": {
      "text/plain": [
       "'Hello Everyone***********All the Best**********'"
      ]
     },
     "execution_count": 66,
     "metadata": {},
     "output_type": "execute_result"
    }
   ],
   "source": [
    "mystr3.lstrip('*') # Removes all '*' characters at the begining of the string"
   ]
  },
  {
   "cell_type": "code",
   "execution_count": 70,
   "id": "f9d6017c-baab-4649-858a-77c309e530b1",
   "metadata": {},
   "outputs": [
    {
     "data": {
      "text/plain": [
       "'ello world'"
      ]
     },
     "execution_count": 70,
     "metadata": {},
     "output_type": "execute_result"
    }
   ],
   "source": [
    "mystr1.strip('h')"
   ]
  },
  {
   "cell_type": "markdown",
   "id": "f0d9bd24-32bb-4d87-bbeb-a984c66c5014",
   "metadata": {},
   "source": [
    "#### text formating"
   ]
  },
  {
   "cell_type": "code",
   "execution_count": 71,
   "id": "a4d29b77-af85-4004-be9b-8cfa57e2fa27",
   "metadata": {},
   "outputs": [
    {
     "data": {
      "text/plain": [
       "'hello world'"
      ]
     },
     "execution_count": 71,
     "metadata": {},
     "output_type": "execute_result"
    }
   ],
   "source": [
    "mystr1 = 'Hello WORLD'\n",
    "mystr1.lower() # Return whole string in lowercase "
   ]
  },
  {
   "cell_type": "code",
   "execution_count": 72,
   "id": "69846622-9a23-4d4d-a6b4-47f532e99e11",
   "metadata": {},
   "outputs": [
    {
     "data": {
      "text/plain": [
       "'HELLO WORLD'"
      ]
     },
     "execution_count": 72,
     "metadata": {},
     "output_type": "execute_result"
    }
   ],
   "source": [
    "mystr1.upper() # Return whole string in uppercase "
   ]
  },
  {
   "cell_type": "code",
   "execution_count": 73,
   "id": "d7e3974f-ea71-458f-aad7-1771dcc9e5b6",
   "metadata": {},
   "outputs": [
    {
     "data": {
      "text/plain": [
       "'Hello World'"
      ]
     },
     "execution_count": 73,
     "metadata": {},
     "output_type": "execute_result"
    }
   ],
   "source": [
    "mystr1.title()"
   ]
  },
  {
   "cell_type": "code",
   "execution_count": 74,
   "id": "b75f0105-120b-42eb-809f-2a1890ac0922",
   "metadata": {},
   "outputs": [
    {
     "data": {
      "text/plain": [
       "'Hello world'"
      ]
     },
     "execution_count": 74,
     "metadata": {},
     "output_type": "execute_result"
    }
   ],
   "source": [
    "mystr1.capitalize()"
   ]
  },
  {
   "cell_type": "markdown",
   "id": "89cd38d9-23c3-4c42-9402-9138b945c141",
   "metadata": {},
   "source": [
    "#### replace"
   ]
  },
  {
   "cell_type": "code",
   "execution_count": 75,
   "id": "b65025f2-2c12-4444-bc17-f893fb3156f8",
   "metadata": {},
   "outputs": [
    {
     "data": {
      "text/plain": [
       "'*********Hello Everyone***********All the Best**********'"
      ]
     },
     "execution_count": 75,
     "metadata": {},
     "output_type": "execute_result"
    }
   ],
   "source": [
    "mystr3"
   ]
  },
  {
   "cell_type": "code",
   "execution_count": 77,
   "id": "b3a32dfd-8f69-4cd0-888c-df49fe7bc08b",
   "metadata": {},
   "outputs": [
    {
     "data": {
      "text/plain": [
       "'Hello EveryoneAll the Best'"
      ]
     },
     "execution_count": 77,
     "metadata": {},
     "output_type": "execute_result"
    }
   ],
   "source": [
    "mystr3\n",
    "mystr3.replace(\"*\",\"\") # Replace substring \"e\" with \"i\""
   ]
  },
  {
   "cell_type": "code",
   "execution_count": 81,
   "id": "1fc60601-364e-4c66-8b77-9a7ecb24974c",
   "metadata": {},
   "outputs": [
    {
     "data": {
      "text/plain": [
       "'Hello WORLD'"
      ]
     },
     "execution_count": 81,
     "metadata": {},
     "output_type": "execute_result"
    }
   ],
   "source": [
    "mystr1"
   ]
  },
  {
   "cell_type": "code",
   "execution_count": 79,
   "id": "d0eff634-6cbd-4d8c-9dc6-982cfe2b0c64",
   "metadata": {},
   "outputs": [
    {
     "data": {
      "text/plain": [
       "'Hillo WORLD'"
      ]
     },
     "execution_count": 79,
     "metadata": {},
     "output_type": "execute_result"
    }
   ],
   "source": [
    "mystr1.replace(\"e\",\"i\") # Replace substring \"e\" with \"i\""
   ]
  },
  {
   "cell_type": "code",
   "execution_count": 83,
   "id": "67d25ebd-de6f-44de-8e37-144aba8e1a5d",
   "metadata": {},
   "outputs": [
    {
     "data": {
      "text/plain": [
       "'HELLO WORLD'"
      ]
     },
     "execution_count": 83,
     "metadata": {},
     "output_type": "execute_result"
    }
   ],
   "source": [
    "mystr1\n",
    "mystr1.replace(\"Hello\",\"HELLO\")"
   ]
  },
  {
   "cell_type": "markdown",
   "id": "788321e4-bd7e-4bc9-858b-69fca29b9308",
   "metadata": {},
   "source": [
    "#### count"
   ]
  },
  {
   "cell_type": "code",
   "execution_count": 85,
   "id": "0f16e572-dd4e-4728-9c85-aabf4440776b",
   "metadata": {},
   "outputs": [
    {
     "data": {
      "text/plain": [
       "'one, two, Three One two two Three one'"
      ]
     },
     "execution_count": 85,
     "metadata": {},
     "output_type": "execute_result"
    }
   ],
   "source": [
    "mystr3 = \"one, two, Three One two two Three one\"\n",
    "mystr3"
   ]
  },
  {
   "cell_type": "code",
   "execution_count": 86,
   "id": "a4e1748c-e248-47c0-877a-cd6ba7276e47",
   "metadata": {},
   "outputs": [
    {
     "data": {
      "text/plain": [
       "2"
      ]
     },
     "execution_count": 86,
     "metadata": {},
     "output_type": "execute_result"
    }
   ],
   "source": [
    "mystr3.count(\"Three\") # Number of times substring \"one\" occurred in string."
   ]
  },
  {
   "cell_type": "code",
   "execution_count": 88,
   "id": "83c3efed-ac34-4520-9df6-437cbf3d10e6",
   "metadata": {},
   "outputs": [
    {
     "data": {
      "text/plain": [
       "1"
      ]
     },
     "execution_count": 88,
     "metadata": {},
     "output_type": "execute_result"
    }
   ],
   "source": [
    "mystr3.count('One')"
   ]
  },
  {
   "cell_type": "code",
   "execution_count": 89,
   "id": "bbb18a3d-325b-4a38-a0b4-deb888cda77e",
   "metadata": {},
   "outputs": [
    {
     "data": {
      "text/plain": [
       "7"
      ]
     },
     "execution_count": 89,
     "metadata": {},
     "output_type": "execute_result"
    }
   ],
   "source": [
    "mystr3.count(\" \")"
   ]
  },
  {
   "cell_type": "code",
   "execution_count": 90,
   "id": "59ef371b-c59d-4dcf-99ab-bc6f4117a3cd",
   "metadata": {},
   "outputs": [
    {
     "data": {
      "text/plain": [
       "2"
      ]
     },
     "execution_count": 90,
     "metadata": {},
     "output_type": "execute_result"
    }
   ],
   "source": [
    "mystr3.count(',')"
   ]
  },
  {
   "cell_type": "code",
   "execution_count": 91,
   "id": "be2fc62f-9d72-4213-9ff3-ca4d0d6f9bfe",
   "metadata": {},
   "outputs": [
    {
     "data": {
      "text/plain": [
       "5"
      ]
     },
     "execution_count": 91,
     "metadata": {},
     "output_type": "execute_result"
    }
   ],
   "source": [
    "mystr3.count('o')"
   ]
  },
  {
   "cell_type": "code",
   "execution_count": 92,
   "id": "1bf8eba8-1cd3-4792-b869-37d25c54e02c",
   "metadata": {},
   "outputs": [
    {
     "data": {
      "text/plain": [
       "0"
      ]
     },
     "execution_count": 92,
     "metadata": {},
     "output_type": "execute_result"
    }
   ],
   "source": [
    "mystr3.count('i')"
   ]
  },
  {
   "cell_type": "markdown",
   "id": "0f4ebe41-3f51-4a78-8865-a5c7b4aecc93",
   "metadata": {},
   "source": [
    "#### split"
   ]
  },
  {
   "cell_type": "code",
   "execution_count": 93,
   "id": "24b05cdd-0dfd-4c4b-9432-13fa545ff5fb",
   "metadata": {},
   "outputs": [
    {
     "data": {
      "text/plain": [
       "'one two three four one two two three five five six seven six seven one'"
      ]
     },
     "execution_count": 93,
     "metadata": {},
     "output_type": "execute_result"
    }
   ],
   "source": [
    "mystr4 = \"one two three four one two two three five five six seven six seven one\"\n",
    "mystr4"
   ]
  },
  {
   "cell_type": "code",
   "execution_count": 96,
   "id": "61b8e4ea-dec7-4b4e-ae1b-f903090f7ab4",
   "metadata": {},
   "outputs": [
    {
     "data": {
      "text/plain": [
       "['one',\n",
       " 'two',\n",
       " 'three',\n",
       " 'four',\n",
       " 'one',\n",
       " 'two',\n",
       " 'two',\n",
       " 'three',\n",
       " 'five',\n",
       " 'five',\n",
       " 'six',\n",
       " 'seven',\n",
       " 'six',\n",
       " 'seven',\n",
       " 'one']"
      ]
     },
     "execution_count": 96,
     "metadata": {},
     "output_type": "execute_result"
    }
   ],
   "source": [
    "mylist = mystr4.split() # Split String into substrings\n",
    "mylist\n"
   ]
  },
  {
   "cell_type": "code",
   "execution_count": 97,
   "id": "f0656ba0-a33a-4a3f-9d31-0715b4d385c5",
   "metadata": {},
   "outputs": [
    {
     "data": {
      "text/plain": [
       "['on',\n",
       " ' two thr',\n",
       " '',\n",
       " ' four on',\n",
       " ' two two thr',\n",
       " '',\n",
       " ' fiv',\n",
       " ' fiv',\n",
       " ' six s',\n",
       " 'v',\n",
       " 'n six s',\n",
       " 'v',\n",
       " 'n on',\n",
       " '']"
      ]
     },
     "execution_count": 97,
     "metadata": {},
     "output_type": "execute_result"
    }
   ],
   "source": [
    "mystr4.split('e')"
   ]
  },
  {
   "cell_type": "code",
   "execution_count": 98,
   "id": "3ca3c37f-b082-4232-ac0a-79a00b9152e4",
   "metadata": {},
   "outputs": [
    {
     "data": {
      "text/plain": [
       "['welcome', 'My', 'India']"
      ]
     },
     "execution_count": 98,
     "metadata": {},
     "output_type": "execute_result"
    }
   ],
   "source": [
    "mystr5 = 'welcome/My/India'\n",
    "mystr5.split('/')"
   ]
  },
  {
   "cell_type": "code",
   "execution_count": 99,
   "id": "74ff2fd9-5f63-4911-b0f0-204acadbb8c8",
   "metadata": {},
   "outputs": [
    {
     "data": {
      "text/plain": [
       "['w', 'lcom', '/My/India']"
      ]
     },
     "execution_count": 99,
     "metadata": {},
     "output_type": "execute_result"
    }
   ],
   "source": [
    "mystr5 = 'welcome/My/India'\n",
    "mystr5.split('e')"
   ]
  },
  {
   "cell_type": "markdown",
   "id": "f3f05b11-7760-45e8-bd52-b9b0be6dcf8e",
   "metadata": {},
   "source": [
    "#### other functions"
   ]
  },
  {
   "cell_type": "code",
   "execution_count": 106,
   "id": "968a30e2-d640-408d-a5cb-e1311980e7ca",
   "metadata": {},
   "outputs": [
    {
     "name": "stdout",
     "output_type": "stream",
     "text": [
      "one two three four one two two three five five six seven six seven one\n",
      "True\n",
      "True\n",
      "False\n",
      "False\n",
      "False\n",
      "True\n"
     ]
    }
   ],
   "source": [
    "print(mystr4)\n",
    "print(mystr4.startswith('one'))\n",
    "print(mystr4.endswith('one'))\n",
    "print(mystr4.endswith('two'))\n",
    "print(mystr4.startswith('three'))\n",
    "print(mystr4.startswith('e'))\n",
    "print(mystr4.startswith('o'))"
   ]
  },
  {
   "cell_type": "code",
   "execution_count": 107,
   "id": "c426a2a7-e341-4472-aed5-ec5bde003c9f",
   "metadata": {},
   "outputs": [
    {
     "data": {
      "text/plain": [
       "['Hi', 'python']"
      ]
     },
     "execution_count": 107,
     "metadata": {},
     "output_type": "execute_result"
    }
   ],
   "source": [
    "## split string \n",
    "str1 = 'Hi$python'\n",
    "str1.split('$')\n"
   ]
  },
  {
   "cell_type": "code",
   "execution_count": 108,
   "id": "4cb19e06-8f36-40b9-b13f-b03c5d0ac491",
   "metadata": {},
   "outputs": [
    {
     "data": {
      "text/plain": [
       "['Hi$p', 'thon']"
      ]
     },
     "execution_count": 108,
     "metadata": {},
     "output_type": "execute_result"
    }
   ],
   "source": [
    "str1.split('y')"
   ]
  },
  {
   "cell_type": "code",
   "execution_count": 7,
   "id": "0786fc79-12f4-41f5-9de8-85fb1ea26db5",
   "metadata": {},
   "outputs": [],
   "source": [
    "mystr5 = 'mango, banana, orange'"
   ]
  },
  {
   "cell_type": "code",
   "execution_count": 111,
   "id": "40212ced-0a31-4b3f-8d48-c0eb15fea9e2",
   "metadata": {},
   "outputs": [
    {
     "data": {
      "text/plain": [
       "['mango', ' banana', ' orange']"
      ]
     },
     "execution_count": 111,
     "metadata": {},
     "output_type": "execute_result"
    }
   ],
   "source": [
    "spl_data = mystr5.split(',')\n",
    "spl_data"
   ]
  },
  {
   "cell_type": "code",
   "execution_count": 115,
   "id": "0583fe04-f354-4f77-aff4-1e507228e9a1",
   "metadata": {},
   "outputs": [
    {
     "data": {
      "text/plain": [
       "'mango  banana  orange'"
      ]
     },
     "execution_count": 115,
     "metadata": {},
     "output_type": "execute_result"
    }
   ],
   "source": [
    "' '.join(mystr5.split(','))"
   ]
  },
  {
   "cell_type": "code",
   "execution_count": 114,
   "id": "109444f6-712d-4269-a69e-1de5cbe37f46",
   "metadata": {},
   "outputs": [
    {
     "data": {
      "text/plain": [
       "'mango and banana and orange'"
      ]
     },
     "execution_count": 114,
     "metadata": {},
     "output_type": "execute_result"
    }
   ],
   "source": [
    "' and'.join(spl_data)"
   ]
  },
  {
   "cell_type": "code",
   "execution_count": 116,
   "id": "1b32c37d-c125-49b7-959a-37ff7dc330a6",
   "metadata": {},
   "outputs": [
    {
     "data": {
      "text/plain": [
       "['sql', ' python', ' machine learning', ' tableau']"
      ]
     },
     "execution_count": 116,
     "metadata": {},
     "output_type": "execute_result"
    }
   ],
   "source": [
    "str1 = 'sql, python, machine learning, tableau'\n",
    "str2 = str1.split(',')\n",
    "str2"
   ]
  },
  {
   "cell_type": "code",
   "execution_count": 117,
   "id": "fa2c4f51-1275-4430-8ce3-cb4543ef7fb8",
   "metadata": {},
   "outputs": [
    {
     "data": {
      "text/plain": [
       "'sql  python  machine learning  tableau'"
      ]
     },
     "execution_count": 117,
     "metadata": {},
     "output_type": "execute_result"
    }
   ],
   "source": [
    "' '.join(str2)"
   ]
  },
  {
   "cell_type": "code",
   "execution_count": 9,
   "id": "7f67d765-328a-4bac-9fea-a69a2ff00352",
   "metadata": {},
   "outputs": [
    {
     "name": "stdout",
     "output_type": "stream",
     "text": [
      "First Name:  surya\n",
      "Last Name:  prakash\n",
      "Full Name:  surya prakash\n"
     ]
    }
   ],
   "source": [
    "# with out using concatenate \n",
    "full_name = 'surya prakash'\n",
    "# separate first name\n",
    "fn = full_name.split(' ')[0]\n",
    "fn\n",
    "print('First Name: ',fn)\n",
    "\n",
    "# Last name separate\n",
    "ln = full_name.split(' ')[1]\n",
    "print('Last Name: ',ln)\n",
    "\n",
    "# join\n",
    "full_name = 'surya/prakash'\n",
    "print('Full Name: ', ' '.join(full_name.split('/')))"
   ]
  },
  {
   "cell_type": "markdown",
   "id": "563a0d50-9ee6-44cb-aed6-1f6cde5acb94",
   "metadata": {},
   "source": [
    "### replace"
   ]
  },
  {
   "cell_type": "code",
   "execution_count": 123,
   "id": "b7b641d5-b907-4e07-96fa-53af3a81d9ab",
   "metadata": {},
   "outputs": [
    {
     "data": {
      "text/plain": [
       "'nicE story, imprEssed'"
      ]
     },
     "execution_count": 123,
     "metadata": {},
     "output_type": "execute_result"
    }
   ],
   "source": [
    "# Replace\n",
    "## -1 for all occurances\n",
    "## 1 for first occurance \n",
    "## 2 for first 2 occurance \n",
    "## 3 for first 3 occurance\n",
    "# syntax: old, new, values\n",
    "a = 'nice story, impressed'\n",
    "a\n",
    "a.replace('e','E',2) \n"
   ]
  },
  {
   "cell_type": "code",
   "execution_count": 124,
   "id": "b1dcbb65-f8b5-4d4c-b3b2-d6f9934aa2a4",
   "metadata": {},
   "outputs": [
    {
     "data": {
      "text/plain": [
       "'mango and orange and banana'"
      ]
     },
     "execution_count": 124,
     "metadata": {},
     "output_type": "execute_result"
    }
   ],
   "source": [
    "fruits = \"mango, orange, banana\"\n",
    "fruits.replace(',', ' and')"
   ]
  },
  {
   "cell_type": "markdown",
   "id": "d4c83dab-4f7e-4b5f-9368-f4fcdc392e5c",
   "metadata": {},
   "source": [
    "### find"
   ]
  },
  {
   "cell_type": "code",
   "execution_count": 129,
   "id": "6c439f3b-b378-4255-96ca-99e53d1c387c",
   "metadata": {},
   "outputs": [
    {
     "name": "stdout",
     "output_type": "stream",
     "text": [
      "2\n",
      "15\n",
      "-1\n",
      "0\n",
      "-1\n"
     ]
    }
   ],
   "source": [
    "# find  -- first occurance of index\n",
    "a = 'why python is needed'\n",
    "a\n",
    "print(a.find('y'))\n",
    "print(a.find('e'))\n",
    "print(a.find('5')) # false\n",
    "print(a.find('w'))\n",
    "print(a.find('q'))"
   ]
  },
  {
   "cell_type": "code",
   "execution_count": 131,
   "id": "6ca880b7-7342-4de0-b404-b660b5d0bce5",
   "metadata": {},
   "outputs": [
    {
     "name": "stdout",
     "output_type": "stream",
     "text": [
      "18\n",
      "15\n"
     ]
    }
   ],
   "source": [
    "print(a.rfind('e'))\n",
    "print(a.find('e'))"
   ]
  },
  {
   "cell_type": "code",
   "execution_count": 130,
   "id": "3481bd6f-85e8-41fd-bd4c-9b03a34dbaf4",
   "metadata": {},
   "outputs": [
    {
     "name": "stdout",
     "output_type": "stream",
     "text": [
      "5\n",
      "2\n"
     ]
    }
   ],
   "source": [
    "print(a.rfind('y'))\n",
    "print(a.find('y'))"
   ]
  },
  {
   "cell_type": "code",
   "execution_count": 136,
   "id": "114d8e09-67b4-4420-8671-6739defe4de3",
   "metadata": {},
   "outputs": [
    {
     "name": "stdout",
     "output_type": "stream",
     "text": [
      "flowers\n",
      "flowers\n",
      "csv\n",
      "csv\n"
     ]
    }
   ],
   "source": [
    "b = 'flowers.csv'\n",
    "b.find('.')\n",
    "\n",
    "# try to get words before '.' using index\n",
    "print(b[0:7])\n",
    "\n",
    "# using find function\n",
    "print(b[0:b.find('.')])\n",
    "\n",
    "# try to get words after '.' using\n",
    "print(b[8:])\n",
    "\n",
    "# using find\n",
    "print(b[b.find('.')+1:])"
   ]
  },
  {
   "cell_type": "code",
   "execution_count": 137,
   "id": "505fedb9-93fa-4a46-b4cf-e7be32e92bf1",
   "metadata": {},
   "outputs": [
    {
     "data": {
      "text/plain": [
       "'document.pdf'"
      ]
     },
     "execution_count": 137,
     "metadata": {},
     "output_type": "execute_result"
    }
   ],
   "source": [
    "# example\n",
    "str3 = 'document.doc'\n",
    "str3\n",
    "str3[0:str3.find('.')]+'.pdf'"
   ]
  },
  {
   "cell_type": "markdown",
   "id": "51704611-e8bf-4886-bb44-28a1987bea27",
   "metadata": {},
   "source": [
    "### index"
   ]
  },
  {
   "cell_type": "code",
   "execution_count": 142,
   "id": "f232f437-059a-44b4-88bc-6578c5cf7da1",
   "metadata": {},
   "outputs": [
    {
     "name": "stdout",
     "output_type": "stream",
     "text": [
      "2\n",
      "17\n"
     ]
    },
    {
     "ename": "ValueError",
     "evalue": "substring not found",
     "output_type": "error",
     "traceback": [
      "\u001b[1;31m---------------------------------------------------------------------------\u001b[0m",
      "\u001b[1;31mValueError\u001b[0m                                Traceback (most recent call last)",
      "Cell \u001b[1;32mIn[142], line 6\u001b[0m\n\u001b[0;32m      4\u001b[0m \u001b[38;5;28mprint\u001b[39m(a\u001b[38;5;241m.\u001b[39mindex(\u001b[38;5;124m'\u001b[39m\u001b[38;5;124my\u001b[39m\u001b[38;5;124m'\u001b[39m))\n\u001b[0;32m      5\u001b[0m \u001b[38;5;28mprint\u001b[39m(a\u001b[38;5;241m.\u001b[39mindex(\u001b[38;5;124m'\u001b[39m\u001b[38;5;124md\u001b[39m\u001b[38;5;124m'\u001b[39m))\n\u001b[1;32m----> 6\u001b[0m \u001b[38;5;28mprint\u001b[39m(\u001b[43ma\u001b[49m\u001b[38;5;241;43m.\u001b[39;49m\u001b[43mindex\u001b[49m\u001b[43m(\u001b[49m\u001b[38;5;124;43m'\u001b[39;49m\u001b[38;5;124;43m5\u001b[39;49m\u001b[38;5;124;43m'\u001b[39;49m\u001b[43m)\u001b[49m)\n\u001b[0;32m      7\u001b[0m \u001b[38;5;28mprint\u001b[39m(a\u001b[38;5;241m.\u001b[39mindex(\u001b[38;5;124m'\u001b[39m\u001b[38;5;124ms\u001b[39m\u001b[38;5;124m'\u001b[39m))\n\u001b[0;32m      8\u001b[0m \u001b[38;5;28mprint\u001b[39m(a\u001b[38;5;241m.\u001b[39mindex(\u001b[38;5;124m'\u001b[39m\u001b[38;5;124mq\u001b[39m\u001b[38;5;124m'\u001b[39m))\n",
      "\u001b[1;31mValueError\u001b[0m: substring not found"
     ]
    }
   ],
   "source": [
    "# index is similar to find\n",
    "a = 'why python is needed'\n",
    "\n",
    "print(a.index('y'))\n",
    "print(a.index('d'))\n",
    "print(a.index('5'))\n",
    "print(a.index('s'))\n",
    "print(a.index('q'))"
   ]
  },
  {
   "cell_type": "markdown",
   "id": "806f6728-5f62-4097-a292-79dae61b4f8d",
   "metadata": {},
   "source": [
    "### String Membership"
   ]
  },
  {
   "cell_type": "code",
   "execution_count": 143,
   "id": "e0173c46-aca0-4ad5-8e46-6445b1c4b617",
   "metadata": {},
   "outputs": [
    {
     "name": "stdout",
     "output_type": "stream",
     "text": [
      "False\n",
      "True\n",
      "False\n"
     ]
    }
   ],
   "source": [
    "mystr1 = \"Hello Everyone\"\n",
    "print ('Helo' in mystr1) # Check whether substring \"Hello\" is present in string \n",
    "print ('Everyone' in mystr1) # Check whether substring \"Everyone\" is present in string\n",
    "print ('Hi' in mystr1) # Check whether substring \"Hi\" is present in string"
   ]
  },
  {
   "cell_type": "code",
   "execution_count": 146,
   "id": "26f93f66-20c1-4dc3-941e-aac9cf1f486a",
   "metadata": {},
   "outputs": [
    {
     "name": "stdout",
     "output_type": "stream",
     "text": [
      "yes line 1 avilable\n",
      "yes line 3 avilable\n",
      "yes line 2 avilable\n"
     ]
    }
   ],
   "source": [
    "# check substring \n",
    "\n",
    "a = \"Hello Everyone\"\n",
    "\n",
    "if 'Hello' in a:\n",
    "    print(\"yes line 1 avilable\")\n",
    "if 'H' in a:\n",
    "    print(\"yes line 3 avilable\")\n",
    "if 'Everyone'in a:\n",
    "    print(\"yes line 2 avilable\")\n",
    "else:\n",
    "    print('substring not avilable')"
   ]
  },
  {
   "cell_type": "markdown",
   "id": "574397d6-d868-46b8-bb6b-75816cfa43eb",
   "metadata": {},
   "source": [
    "### reverse"
   ]
  },
  {
   "cell_type": "code",
   "execution_count": 147,
   "id": "7cb63e35-409a-4efd-9207-5bb344012fda",
   "metadata": {},
   "outputs": [
    {
     "data": {
      "text/plain": [
       "'olleh'"
      ]
     },
     "execution_count": 147,
     "metadata": {},
     "output_type": "execute_result"
    }
   ],
   "source": [
    "## reverse a string\n",
    "str1 = 'hello'\n",
    "str1[::-1] # start, end, step, end = n-1, step =n-1"
   ]
  },
  {
   "cell_type": "markdown",
   "id": "8aafd11c-5be8-4f37-b458-513ce90c8358",
   "metadata": {},
   "source": [
    "### F-string - format string"
   ]
  },
  {
   "cell_type": "code",
   "execution_count": 11,
   "id": "361a658b-1520-4247-b366-b67db582ee00",
   "metadata": {},
   "outputs": [
    {
     "data": {
      "text/plain": [
       "'The given value is in integer and float format. The numbers are 65, 867.86'"
      ]
     },
     "execution_count": 11,
     "metadata": {},
     "output_type": "execute_result"
    }
   ],
   "source": [
    "# String formatting\n",
    "# without type casting printing a value \n",
    "int1 = 65\n",
    "int2 = 867.86\n",
    "f'given values is {int1}'\n",
    "f'The given value is in integer and float format. The numbers are {int1}, {int2}'"
   ]
  },
  {
   "cell_type": "code",
   "execution_count": 154,
   "id": "61def9cb-651d-47e0-9493-ea81d2e65c54",
   "metadata": {},
   "outputs": [
    {
     "name": "stdout",
     "output_type": "stream",
     "text": [
      "Cost of item1, item2 and item3 are 55, 77 and 40\n",
      "Cost of item3, item2 and item1 are 77, 55 and 40\n",
      "Cost of item3, item2 and item1 are 55 , 55 and 77\n"
     ]
    }
   ],
   "source": [
    "item1 = 40  ## index=0\n",
    "item2 = 55\n",
    "item3 = 77\n",
    "\n",
    "result = f'Cost of item1, item2 and item3 are {item2}, {item3} and {item1}'\n",
    "print(result)\n",
    "\n",
    "res = \"Cost of item3, item2 and item1 are {}, {} and {}\"\n",
    "print(res.format(item3,item2,item1))\n",
    "\n",
    "result1 = \"Cost of item3, item2 and item1 are {0} , {1} and {2}\"\n",
    "print(result1.format(item2,item2,item3))"
   ]
  },
  {
   "cell_type": "code",
   "execution_count": null,
   "id": "beec09d0-8f97-4c69-868a-9d55aac961e3",
   "metadata": {},
   "outputs": [],
   "source": [
    "# Task 1: ## reversing an integer and negative integer \n"
   ]
  },
  {
   "cell_type": "code",
   "execution_count": 163,
   "id": "1eebfc1e-c8ac-4850-b8b6-2dbeb20ad8e1",
   "metadata": {},
   "outputs": [
    {
     "name": "stdout",
     "output_type": "stream",
     "text": [
      "False\n",
      "True\n",
      "True\n",
      "True\n",
      "True\n"
     ]
    }
   ],
   "source": [
    "mystr6 = '123456789'\n",
    "print(mystr6.isalpha()) \n",
    "print(mystr6.isalnum()) \n",
    "print(mystr6.isdecimal())\n",
    "print(mystr6.isnumeric())\n",
    "print(mystr6.isdigit())"
   ]
  },
  {
   "cell_type": "code",
   "execution_count": 164,
   "id": "0448a3f1-ff68-4116-a2a2-054079568527",
   "metadata": {},
   "outputs": [
    {
     "name": "stdout",
     "output_type": "stream",
     "text": [
      "True\n",
      "True\n",
      "False\n",
      "False\n"
     ]
    }
   ],
   "source": [
    "mystr6 = 'abcde'\n",
    "\n",
    "print(mystr6.isalpha()) \n",
    "print(mystr6.isalnum()) \n",
    "print(mystr6.isdecimal())\n",
    "print(mystr6.isnumeric())"
   ]
  },
  {
   "cell_type": "code",
   "execution_count": 16,
   "id": "6de0da09-0889-4461-afbb-fb0496b08099",
   "metadata": {},
   "outputs": [
    {
     "name": "stdout",
     "output_type": "stream",
     "text": [
      "False\n",
      "True\n",
      "False\n",
      "False\n"
     ]
    }
   ],
   "source": [
    "mystr6 = 'abc12309'\n",
    "\n",
    "print(mystr6.isalpha()) \n",
    "print(mystr6.isalnum()) \n",
    "print(mystr6.isdecimal())\n",
    "print(mystr6.isnumeric())"
   ]
  },
  {
   "cell_type": "code",
   "execution_count": 17,
   "id": "b1811d74-3a50-4d1a-801b-cf321b3e39a4",
   "metadata": {},
   "outputs": [
    {
     "name": "stdout",
     "output_type": "stream",
     "text": [
      "True\n",
      "False\n"
     ]
    }
   ],
   "source": [
    "mystr7 = 'ABCDEF'\n",
    "print(mystr7.isupper()) # Returns True if all the characters are in upper case\n",
    "print(mystr7.islower()) # Returns True if all the characters are in lower case"
   ]
  },
  {
   "cell_type": "code",
   "execution_count": 18,
   "id": "071a0ef2-b415-4ec4-84e4-96449318315d",
   "metadata": {},
   "outputs": [
    {
     "name": "stdout",
     "output_type": "stream",
     "text": [
      "False\n",
      "True\n"
     ]
    }
   ],
   "source": [
    "mystr8 = 'abcdef'\n",
    "print(mystr8.isupper()) # Returns True if all the characters are in upper case\n",
    "print(mystr8.islower()) # Returns True if all the characters are in lower case"
   ]
  },
  {
   "cell_type": "code",
   "execution_count": 136,
   "id": "11900c9a-4f44-489c-bbee-7d0ae5c43d84",
   "metadata": {},
   "outputs": [
    {
     "ename": "SyntaxError",
     "evalue": "invalid syntax (2595192424.py, line 3)",
     "output_type": "error",
     "traceback": [
      "\u001b[1;36m  Cell \u001b[1;32mIn[136], line 3\u001b[1;36m\u001b[0m\n\u001b[1;33m    mystr = \"My favourite TV Series is \"Game of Thrones\"\"\u001b[0m\n\u001b[1;37m                                        ^\u001b[0m\n\u001b[1;31mSyntaxError\u001b[0m\u001b[1;31m:\u001b[0m invalid syntax\n"
     ]
    }
   ],
   "source": [
    "# Using Escape Characte\n",
    "# Using double quotes in the string is not allowed.\n",
    "mystr = \"My favourite TV Series is \"Game of Thrones\"\""
   ]
  },
  {
   "cell_type": "code",
   "execution_count": 166,
   "id": "c0cc7c34-b963-4228-a940-b42efa575d75",
   "metadata": {},
   "outputs": [
    {
     "name": "stdout",
     "output_type": "stream",
     "text": [
      "My favourite series is \"Game of Thrones\"\n"
     ]
    }
   ],
   "source": [
    "#Using escape character to allow illegal characters\n",
    "mystr = \"My favourite series is \\\"Game of Thrones\\\"\"\n",
    "print(mystr)"
   ]
  },
  {
   "cell_type": "code",
   "execution_count": 167,
   "id": "eab428d7-c4f1-418a-9fc6-4b0e70cd14a5",
   "metadata": {},
   "outputs": [
    {
     "name": "stdout",
     "output_type": "stream",
     "text": [
      "My favourite series is \"Game of Thrones\"\n"
     ]
    }
   ],
   "source": [
    "mystr = \"\"\"My favourite series is \\\"Game of Thrones\\\"\"\"\"\n",
    "print(mystr)"
   ]
  },
  {
   "cell_type": "code",
   "execution_count": null,
   "id": "17907305-922b-4e1d-9062-51ebd1dc609e",
   "metadata": {},
   "outputs": [],
   "source": []
  }
 ],
 "metadata": {
  "kernelspec": {
   "display_name": "Python 3 (ipykernel)",
   "language": "python",
   "name": "python3"
  },
  "language_info": {
   "codemirror_mode": {
    "name": "ipython",
    "version": 3
   },
   "file_extension": ".py",
   "mimetype": "text/x-python",
   "name": "python",
   "nbconvert_exporter": "python",
   "pygments_lexer": "ipython3",
   "version": "3.11.4"
  }
 },
 "nbformat": 4,
 "nbformat_minor": 5
}
