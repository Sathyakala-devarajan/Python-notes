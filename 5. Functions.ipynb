{
 "cells": [
  {
   "cell_type": "markdown",
   "id": "816df68f-40c8-429d-a5b2-fbd597c4cc4b",
   "metadata": {},
   "source": [
    "# Functions\n",
    "* A function is a block of organized code written to carry out a specified task.\n",
    "* Functions help break our program into smaller and modular chunks for better readability.\n",
    "* Information can be passed into a function as arguments.\n",
    "* Parameters are specified after the function name inside the parentheses.\n",
    "* We can add as many parameters as we want. Parameters must be separated with a comma.\n",
    "* A function may or may not return data.\n",
    "* In Python a function is defined using the **def** keyword\n"
   ]
  },
  {
   "cell_type": "markdown",
   "id": "6a695168-2219-47ae-b9d5-a617981bbad2",
   "metadata": {},
   "source": [
    "<img src='https://media.geeksforgeeks.org/wp-content/uploads/20220721172423/51.png' width=600>"
   ]
  },
  {
   "cell_type": "markdown",
   "id": "9a689e16-bb74-4e65-9993-c0e739f16933",
   "metadata": {},
   "source": [
    "### Parameter VS Argument\n",
    "* A parameter is the variable listed inside the parentheses in the function definition.\n",
    "* An argument is the value that is sent to the function when it is called.\n"
   ]
  },
  {
   "cell_type": "markdown",
   "id": "f2ced9cc-0d7b-47cb-ba3c-86e68284fa8a",
   "metadata": {},
   "source": [
    "### Types of function\n",
    "* Built-in function :- Python predefined functions that are readily available for use like min() ,\n",
    "max() , sum() , print() etc.\n",
    "* User-Defined Functions:- Function that we define ourselves to perform a specific task.\n",
    "* Anonymous functions : Function that is defined without a name. Anonymous functions are also called as **lambda functions**. They are not declared with the def keyword.\n"
   ]
  },
  {
   "cell_type": "markdown",
   "id": "98747efd-8042-4956-88d5-094004720f98",
   "metadata": {},
   "source": [
    "* without parameer\n",
    "* with parameter\n",
    "* default parameter\n",
    "* *args\n",
    "* **kwargs\n"
   ]
  },
  {
   "cell_type": "code",
   "execution_count": 1,
   "id": "c15b8279-164c-49d2-94e9-fc755867a989",
   "metadata": {},
   "outputs": [],
   "source": [
    "# A simple Python function\n",
    "\n",
    "def myfunc():\n",
    "     print(\"Hello Data community\")\n"
   ]
  },
  {
   "cell_type": "code",
   "execution_count": 2,
   "id": "aef93ad6-6e75-47f6-8ced-4616b13f1a21",
   "metadata": {},
   "outputs": [
    {
     "name": "stdout",
     "output_type": "stream",
     "text": [
      "Hello Data community\n"
     ]
    }
   ],
   "source": [
    "# calling the function\n",
    "myfunc()"
   ]
  },
  {
   "cell_type": "code",
   "execution_count": 3,
   "id": "3edeeab8-1d32-487d-938e-dd9156a6bc75",
   "metadata": {},
   "outputs": [
    {
     "name": "stdout",
     "output_type": "stream",
     "text": [
      "The Value is: 10\n",
      "The Value is: (4+7j)\n",
      "The Value is: Hi Welcome\n",
      "The Value is: (6+14j)\n"
     ]
    }
   ],
   "source": [
    "# with parameters\n",
    "\n",
    "# create the function for adding two numbers\n",
    "def add(a,b):\n",
    "    print('The Value is:',a+b)\n",
    "\n",
    "add(6,4)\n",
    "add(2, 2+7j)\n",
    "add('Hi',' Welcome')\n",
    "add(4+8j, 2+6j)"
   ]
  },
  {
   "cell_type": "code",
   "execution_count": 7,
   "id": "02b7e218-8853-46f2-8f52-f713d14d7604",
   "metadata": {},
   "outputs": [
    {
     "name": "stdout",
     "output_type": "stream",
     "text": [
      "The Value is: 5\n",
      "The Value is: -3\n",
      "-4\n"
     ]
    }
   ],
   "source": [
    "def sub(a,b):\n",
    "    return a-b\n",
    "\n",
    "sub(4,8)\n",
    "print('The Value is:',sub(10,5))\n",
    "print('The Value is:',sub(4,7))\n",
    "print(sub(4,8))"
   ]
  },
  {
   "cell_type": "code",
   "execution_count": 8,
   "id": "4e8a76e6-a921-49e3-862c-be3891f781d8",
   "metadata": {},
   "outputs": [
    {
     "name": "stdout",
     "output_type": "stream",
     "text": [
      "Name :-  Banu\n",
      "User ID :-  DS123\n",
      "Country :-  India\n",
      "Name :-  Akila\n",
      "User ID :-  DS124\n",
      "Country :-  India\n"
     ]
    }
   ],
   "source": [
    "\n",
    "def details(name,userid,country): # Function to print User details\n",
    " print('Name :- ', name)\n",
    " print('User ID :- ', userid)\n",
    " print('Country :- ',country)\n",
    " \n",
    "details('Banu' , 'DS123' , 'India')\n",
    "details('Akila','DS124','India')\n"
   ]
  },
  {
   "cell_type": "code",
   "execution_count": 9,
   "id": "b65085d1-55b8-4a6b-96a1-8bd6cae7a148",
   "metadata": {},
   "outputs": [
    {
     "data": {
      "text/plain": [
       "64"
      ]
     },
     "execution_count": 9,
     "metadata": {},
     "output_type": "execute_result"
    }
   ],
   "source": [
    "def square (n): #function to find square of a number\n",
    "     sqr = n*n\n",
    "     return sqr\n",
    "square(5)\n",
    "square(8)"
   ]
  },
  {
   "cell_type": "code",
   "execution_count": 10,
   "id": "4bc33e15-da8e-4374-9b42-35730e78dee1",
   "metadata": {},
   "outputs": [
    {
     "name": "stdout",
     "output_type": "stream",
     "text": [
      "39  is odd number\n",
      "4  is even number\n",
      " This function will check whether a number is even or odd\n"
     ]
    }
   ],
   "source": [
    "def even_odd (num): # Even odd test\n",
    " \"\"\" This function will check whether a number is even or odd\"\"\"   # documents string\n",
    " if num % 2 ==0:\n",
    "      print (num, ' is even number')\n",
    " else:\n",
    "      print (num, ' is odd number')\n",
    "\n",
    "even_odd(39)\n",
    "even_odd(4)\n",
    "print(even_odd.__doc__) # Print function documentation string\n"
   ]
  },
  {
   "cell_type": "code",
   "execution_count": 11,
   "id": "2ec51c4d-7b96-4959-be38-84d6632ee592",
   "metadata": {},
   "outputs": [
    {
     "name": "stdout",
     "output_type": "stream",
     "text": [
      "Pathma Raman Thiyagu\n"
     ]
    }
   ],
   "source": [
    "def fullname (firstname , middlename ,lastname): # Concatenate Strings\n",
    "     fullname = \"{} {} {}\".format(firstname,middlename,lastname)\n",
    "     print (fullname)\n",
    "\n",
    "fullname('Pathma' , 'Raman' , 'Thiyagu')\n"
   ]
  },
  {
   "cell_type": "code",
   "execution_count": 12,
   "id": "554156a4-7acb-4c81-85f1-fcbd7242e431",
   "metadata": {},
   "outputs": [
    {
     "name": "stdout",
     "output_type": "stream",
     "text": [
      "Thiyagu Raman Pathma\n"
     ]
    }
   ],
   "source": [
    "def fullname (firstname , middlename ,lastname): # Concatenate Strings\n",
    "     fullname = \"{} {} {}\".format(lastname,middlename,firstname)\n",
    "     print (fullname)\n",
    "\n",
    "fullname('Pathma' , 'Raman' , 'Thiyagu')\n"
   ]
  },
  {
   "cell_type": "code",
   "execution_count": 13,
   "id": "d74aa344-e0df-4e66-b45e-32d00ff5915c",
   "metadata": {},
   "outputs": [
    {
     "name": "stdout",
     "output_type": "stream",
     "text": [
      "Roja bunddle Flower\n"
     ]
    }
   ],
   "source": [
    "def fullname (firstname , middlename ,lastname): # Concatenate Strings\n",
    " fullname = \"{} {} {}\".format(firstname,middlename,lastname)\n",
    " print (fullname)\n",
    "fullname(firstname = 'Roja', middlename = 'bunddle', lastname = 'Flower')\n"
   ]
  },
  {
   "cell_type": "code",
   "execution_count": 14,
   "id": "8bb56fad-2910-44ee-ad06-c54b4af9a6ad",
   "metadata": {},
   "outputs": [
    {
     "name": "stdout",
     "output_type": "stream",
     "text": [
      "Flower bunddle Roja\n"
     ]
    }
   ],
   "source": [
    "def fullname (firstname , middlename ,lastname): # Concatenate Strings\n",
    " fullname = \"{} {} {}\".format(firstname,middlename,lastname)\n",
    " print (fullname)\n",
    "fullname(lastname = 'Roja', middlename = 'bunddle', firstname = 'Flower')\n"
   ]
  },
  {
   "cell_type": "code",
   "execution_count": 17,
   "id": "7572bdab-0ece-4722-8c42-94615d663560",
   "metadata": {},
   "outputs": [
    {
     "ename": "TypeError",
     "evalue": "fullname() missing 1 required positional argument: 'middlename'",
     "output_type": "error",
     "traceback": [
      "\u001b[1;31m---------------------------------------------------------------------------\u001b[0m",
      "\u001b[1;31mTypeError\u001b[0m                                 Traceback (most recent call last)",
      "Cell \u001b[1;32mIn[17], line 5\u001b[0m\n\u001b[0;32m      2\u001b[0m  fullname \u001b[38;5;241m=\u001b[39m \u001b[38;5;124m\"\u001b[39m\u001b[38;5;132;01m{}\u001b[39;00m\u001b[38;5;124m \u001b[39m\u001b[38;5;132;01m{}\u001b[39;00m\u001b[38;5;124m \u001b[39m\u001b[38;5;132;01m{}\u001b[39;00m\u001b[38;5;124m\"\u001b[39m\u001b[38;5;241m.\u001b[39mformat(firstname,middlename,lastname)\n\u001b[0;32m      3\u001b[0m  \u001b[38;5;28mprint\u001b[39m (fullname)\n\u001b[1;32m----> 5\u001b[0m \u001b[43mfullname\u001b[49m\u001b[43m(\u001b[49m\u001b[43mfirstname\u001b[49m\u001b[43m \u001b[49m\u001b[38;5;241;43m=\u001b[39;49m\u001b[43m \u001b[49m\u001b[38;5;124;43m'\u001b[39;49m\u001b[38;5;124;43mRoja\u001b[39;49m\u001b[38;5;124;43m'\u001b[39;49m\u001b[43m,\u001b[49m\u001b[43m \u001b[49m\u001b[43mlastname\u001b[49m\u001b[43m \u001b[49m\u001b[38;5;241;43m=\u001b[39;49m\u001b[43m \u001b[49m\u001b[38;5;124;43m'\u001b[39;49m\u001b[38;5;124;43mFlower\u001b[39;49m\u001b[38;5;124;43m'\u001b[39;49m\u001b[43m)\u001b[49m\n",
      "\u001b[1;31mTypeError\u001b[0m: fullname() missing 1 required positional argument: 'middlename'"
     ]
    }
   ],
   "source": [
    "def fullname (firstname , middlename ,lastname): # Concatenate Strings\n",
    " fullname = \"{} {} {}\".format(firstname,middlename,lastname)\n",
    " print (fullname)\n",
    "\n",
    "fullname(firstname = 'Roja', lastname = 'Flower')\n"
   ]
  },
  {
   "cell_type": "code",
   "execution_count": 18,
   "id": "67f48af6-7849-41ac-9227-2751d4640388",
   "metadata": {},
   "outputs": [
    {
     "name": "stdout",
     "output_type": "stream",
     "text": [
      "City name :-  Mumbai\n"
     ]
    }
   ],
   "source": [
    "# default function\n",
    "def myfunc(city = 'Mumbai'):\n",
    "     print('City name :- ', city)\n",
    " \n",
    "myfunc() "
   ]
  },
  {
   "cell_type": "code",
   "execution_count": 19,
   "id": "676e213e-613e-4e51-8c10-7087d865ca45",
   "metadata": {},
   "outputs": [
    {
     "name": "stdout",
     "output_type": "stream",
     "text": [
      "City name :-  Delhi\n"
     ]
    }
   ],
   "source": [
    "# default function\n",
    "def myfunc(city = 'Mumbai'):\n",
    "     print('City name :- ', city)\n",
    " \n",
    "myfunc('Delhi') "
   ]
  },
  {
   "cell_type": "code",
   "execution_count": 22,
   "id": "32d0fdc1-11f6-4947-a468-74aaaca0e576",
   "metadata": {},
   "outputs": [
    {
     "name": "stdout",
     "output_type": "stream",
     "text": [
      "\"List1\" before calling the function:-  [11, 22, 33, 44, 55]\n",
      "\"List1\" after calling the function:-  [22, 33, 44, 55]\n"
     ]
    }
   ],
   "source": [
    "list1 = [11,22,33,44,55]\n",
    "def myfunc(list1):\n",
    "     del list1[0]\n",
    "\n",
    "print('\"List1\" before calling the function:- ',list1)\n",
    "myfunc(list1) # Pass by reference (Any change in the parameter within the function\n",
    "print('\"List1\" after calling the function:- ',list1)"
   ]
  },
  {
   "cell_type": "code",
   "execution_count": 28,
   "id": "3c7ef244-a74f-4171-85a2-7f9056fe94a6",
   "metadata": {},
   "outputs": [
    {
     "name": "stdout",
     "output_type": "stream",
     "text": [
      "\"List1\" before calling the function:-  [11, 22, 33, 44, 55, 99]\n",
      "\"List1\" inside the myfunc function:-  [10, 100, 1000, 10000]\n",
      "\"List1\" after calling the function:-  [11, 22, 33, 44, 55, 99]\n"
     ]
    }
   ],
   "source": [
    "list1 = [11,22,33,44,55,99]    # global variable\n",
    "\n",
    "def myfunc1(list1):\n",
    "    list1 = [10,100,1000,10000] # link of 'list1' with previous object is broken --> local variable \n",
    "    print('\"List1\" inside the myfunc function:- ',list1)\n",
    "    return(list1)\n",
    "\n",
    "print('\"List1\" before calling the function:- ',list1)\n",
    "myfunc1(list1) # Pass by reference (Any change in the parameter within the function\n",
    "print('\"List1\" after calling the function:- ',list1)\n"
   ]
  },
  {
   "cell_type": "code",
   "execution_count": 26,
   "id": "3d1af747-df12-4595-bdee-305be2cefc06",
   "metadata": {},
   "outputs": [
    {
     "name": "stdout",
     "output_type": "stream",
     "text": [
      "Variable   Type        Data/Info\n",
      "--------------------------------\n",
      "add        function    <function add at 0x00000208FBF6D440>\n",
      "details    function    <function details at 0x00000208FBF6D260>\n",
      "even_odd   function    <function even_odd at 0x00000208FBF6D800>\n",
      "fullname   function    <function fullname at 0x00000208FBF6CCC0>\n",
      "list1      list        n=6\n",
      "myfunc     function    <function myfunc at 0x00000208FBF6DF80>\n",
      "myfunc1    function    <function myfunc1 at 0x00000208FC059DA0>\n",
      "square     function    <function square at 0x00000208FBF6D120>\n",
      "sub        function    <function sub at 0x00000208FBF6D4E0>\n"
     ]
    }
   ],
   "source": [
    "%whos"
   ]
  },
  {
   "cell_type": "code",
   "execution_count": 29,
   "id": "cc5b68e4-568f-42a5-ba5d-a029317061c3",
   "metadata": {},
   "outputs": [
    {
     "name": "stdout",
     "output_type": "stream",
     "text": [
      "Case-1:\n",
      "Hi, I am Suraj\n",
      "My age is  27\n",
      "\n",
      "Case-2:\n",
      "Hi, I am 27\n",
      "My age is  Suraj\n",
      "\n",
      "Case-3:\n",
      "Hi, I am Suraj\n",
      "My age is  27\n"
     ]
    }
   ],
   "source": [
    "def nameAge(name, age):\n",
    "    print(\"Hi, I am\", name)\n",
    "    print(\"My age is \", age)\n",
    "\n",
    "\n",
    "# argument is given in order\n",
    "print(\"Case-1:\")\n",
    "nameAge(\"Suraj\", 27)\n",
    "\n",
    "# argument is not in order\n",
    "print(\"\\nCase-2:\")\n",
    "nameAge(27, \"Suraj\")\n",
    "\n",
    "print(\"\\nCase-3:\")\n",
    "nameAge(age=27, name=\"Suraj\")"
   ]
  },
  {
   "cell_type": "code",
   "execution_count": 15,
   "id": "bd9c467e-e851-4891-b48d-3f21cf84f408",
   "metadata": {},
   "outputs": [
    {
     "data": {
      "text/plain": [
       "24"
      ]
     },
     "execution_count": 15,
     "metadata": {},
     "output_type": "execute_result"
    }
   ],
   "source": [
    "# Task : identify the Factorial number\n",
    "def factorial(num): # Calculate factorial of a number using recursive function\n",
    " if num <=1 :\n",
    "     return 1\n",
    " else:\n",
    "     return num * factorial(num-1)\n",
    " \n",
    "factorial(4)\n"
   ]
  },
  {
   "cell_type": "code",
   "execution_count": 16,
   "id": "03cbc69a-14b7-447d-af28-14cd5a55f1fa",
   "metadata": {},
   "outputs": [
    {
     "name": "stdin",
     "output_type": "stream",
     "text": [
      "How many fibonacci numbers you want to generate - 8\n"
     ]
    },
    {
     "name": "stdout",
     "output_type": "stream",
     "text": [
      "0\n",
      "1\n",
      "1\n",
      "2\n",
      "3\n",
      "5\n",
      "8\n",
      "13\n"
     ]
    }
   ],
   "source": [
    "# Task : Generate Fibonacci series\n",
    "def fiboacci(num):\n",
    " if num <= 1:\n",
    "     return num\n",
    " if num == 2:\n",
    "     return 1\n",
    " else: \n",
    "     return(fiboacci(num-1) + fiboacci(num-2)) \n",
    "nums = int(input(\"How many fibonacci numbers you want to generate -\"))\n",
    "for i in range(nums):\n",
    " print(fiboacci(i)) # Generate Fibonacci series"
   ]
  },
  {
   "cell_type": "code",
   "execution_count": 19,
   "id": "c3706c9e-0fa3-4366-b369-42456c7ae2ca",
   "metadata": {},
   "outputs": [
    {
     "name": "stdout",
     "output_type": "stream",
     "text": [
      "y:  10\n"
     ]
    }
   ],
   "source": [
    "# default arguments\n",
    "def myFun(y=50):\n",
    "    print(\"y: \", y)\n",
    "myFun(10)"
   ]
  },
  {
   "cell_type": "code",
   "execution_count": 20,
   "id": "87aa7a07-927b-40a4-86e9-b2851705383c",
   "metadata": {},
   "outputs": [
    {
     "name": "stdout",
     "output_type": "stream",
     "text": [
      "y:  50\n"
     ]
    }
   ],
   "source": [
    "# default arguments\n",
    "def myFun(y=50):\n",
    "    print(\"y: \", y)\n",
    "myFun()"
   ]
  },
  {
   "cell_type": "markdown",
   "id": "a9fc976a-67cb-4950-b725-6c0596502c45",
   "metadata": {},
   "source": [
    "#### args & kwargs\n",
    "##### *args\n",
    "* When we are not sure about the number of arguments being passed to a function then we can use *args as function parameter.\n",
    "* *args allow us to pass the variable number of Non Keyword Arguments to function.\n",
    "* We can simply use an asterisk * before the parameter name to pass variable length arguments.\n",
    "* The arguments are always passed as a tuple.\n",
    "\n",
    "##### **kwargs\n",
    "* **kwargs allows us to pass the variable number of Keyword Arguments to the function.\n",
    "* We can simply use an double asterisk ** before the parameter name to pass variable length\n",
    "arguments.\n",
    "* The arguments are passed as a dictionary.\n"
   ]
  },
  {
   "cell_type": "code",
   "execution_count": 31,
   "id": "13a03428-f3eb-43e0-a70f-bfd3f3ca125a",
   "metadata": {},
   "outputs": [
    {
     "ename": "TypeError",
     "evalue": "add() takes 3 positional arguments but 4 were given",
     "output_type": "error",
     "traceback": [
      "\u001b[1;31m---------------------------------------------------------------------------\u001b[0m",
      "\u001b[1;31mTypeError\u001b[0m                                 Traceback (most recent call last)",
      "Cell \u001b[1;32mIn[31], line 4\u001b[0m\n\u001b[0;32m      1\u001b[0m \u001b[38;5;28;01mdef\u001b[39;00m \u001b[38;5;21madd\u001b[39m(a,b,c):\n\u001b[0;32m      2\u001b[0m      \u001b[38;5;28;01mreturn\u001b[39;00m a\u001b[38;5;241m+\u001b[39mb\u001b[38;5;241m+\u001b[39mc\n\u001b[1;32m----> 4\u001b[0m \u001b[43madd\u001b[49m\u001b[43m(\u001b[49m\u001b[38;5;241;43m10\u001b[39;49m\u001b[43m,\u001b[49m\u001b[38;5;241;43m20\u001b[39;49m\u001b[43m,\u001b[49m\u001b[38;5;241;43m30\u001b[39;49m\u001b[43m,\u001b[49m\u001b[38;5;241;43m56\u001b[39;49m\u001b[43m)\u001b[49m \u001b[38;5;66;03m# Sum of two numbers\u001b[39;00m\n",
      "\u001b[1;31mTypeError\u001b[0m: add() takes 3 positional arguments but 4 were given"
     ]
    }
   ],
   "source": [
    "def add(a,b,c):\n",
    "     return a+b+c\n",
    " \n",
    "add(10,20,30,56) # Sum of two numbers"
   ]
  },
  {
   "cell_type": "code",
   "execution_count": 37,
   "id": "8c9fea7d-5e4e-495b-a5e8-a26fa5833d22",
   "metadata": {},
   "outputs": [
    {
     "name": "stdout",
     "output_type": "stream",
     "text": [
      "arg_1: 1\n",
      "arg_2: 2\n",
      "arg_3: 3\n"
     ]
    }
   ],
   "source": [
    "def some_args(arg_1, arg_2, arg_3):\n",
    " print(\"arg_1:\", arg_1)\n",
    " print(\"arg_2:\", arg_2)\n",
    " print(\"arg_3:\", arg_3)\n",
    "my_list = [2, 3]\n",
    "some_args(1, *my_list)"
   ]
  },
  {
   "cell_type": "code",
   "execution_count": 36,
   "id": "f29b283d-2fe0-4d19-9d20-5108bab9ac82",
   "metadata": {},
   "outputs": [
    {
     "name": "stdout",
     "output_type": "stream",
     "text": [
      "6\n",
      "10\n",
      "15\n",
      "21\n",
      "28\n"
     ]
    }
   ],
   "source": [
    "# function with arguments (*args)\n",
    "def add(*a):\n",
    "     return sum(a)\n",
    "    \n",
    "print(add(1,2,3))\n",
    "print(add(1,2,3,4)) # *args will take dynamic argument list. \n",
    "print(add(1,2,3,4,5))\n",
    "print(add(1,2,3,4,5,6))\n",
    "print(add(1,2,3,4,5,6,7))"
   ]
  },
  {
   "cell_type": "code",
   "execution_count": 37,
   "id": "31dace62-ed88-4148-8693-307eb531d4dd",
   "metadata": {},
   "outputs": [
    {
     "name": "stdout",
     "output_type": "stream",
     "text": [
      "Name : Roja\n",
      "ID : DS024\n",
      "Pincode : 41102\n",
      "Age : 33\n",
      "Country : India\n"
     ]
    }
   ],
   "source": [
    "def UserDetails(**kwargs):\n",
    "     for key,val in kwargs.items():\n",
    "         print(\"{} : {}\".format(key,val))\n",
    "         \n",
    "UserDetails(Name='Roja' , ID='DS024' , Pincode=41102 , Age= 33 , Country= 'India') "
   ]
  },
  {
   "cell_type": "markdown",
   "id": "aea05f15-5086-4cb5-9fc3-9d3adf402067",
   "metadata": {},
   "source": [
    "## calculator project\n",
    "* get user input\n",
    "* add,sub,div,modulus,floor divison, mul\n",
    "* print output\n"
   ]
  },
  {
   "cell_type": "code",
   "execution_count": 45,
   "id": "0c70a848-2335-4495-91fc-49e10b82f7e4",
   "metadata": {},
   "outputs": [
    {
     "name": "stdin",
     "output_type": "stream",
     "text": [
      "enter number a: 7\n",
      "enter number b: 9\n"
     ]
    },
    {
     "name": "stdout",
     "output_type": "stream",
     "text": [
      "addition 16\n",
      "subtraction -2\n",
      "division 0.7777777777777778\n",
      "modulus 7\n",
      "floor division 0\n",
      "multplication 63\n"
     ]
    }
   ],
   "source": [
    "def add(c,d):\n",
    "    print('addition',c+d)\n",
    "\n",
    "def sub(e,f):\n",
    "    print('subtraction',e-f)\n",
    "\n",
    "def div(g,h):\n",
    "  print('division',g/h)\n",
    "\n",
    "def flor(i,j):\n",
    "    print(\"floor division\",i//j)\n",
    "\n",
    "def mod(k,l):\n",
    "    print(\"modulus\",k%l)\n",
    "\n",
    "def mul(m,n):\n",
    "    print(\"multplication\", m*n)\n",
    "    \n",
    "a = input('enter number a:')  ## usually string ' '\n",
    "b = input('enter number b:')\n",
    "if type(b) is not int or type(a) is not int:\n",
    "        a = int(a)\n",
    "        b = int(b)\n",
    "\n",
    "add(a,b)\n",
    "sub(a,b)\n",
    "div(a,b) \n",
    "mod(a,b)\n",
    "flor(a,b)\n",
    "mul(a,b)"
   ]
  },
  {
   "cell_type": "code",
   "execution_count": null,
   "id": "3982915d-e719-44a9-9ac5-78b5dd98f0e8",
   "metadata": {},
   "outputs": [],
   "source": [
    "def add(c,d):\n",
    " return ('add',c+d)\n",
    "\n",
    "def sub(e,f):\n",
    "   return ('sub',e-f)\n",
    "\n",
    "def div(g,h):\n",
    "  return ('div',g/h)\n",
    "\n",
    "def flor(i,j):\n",
    "  return (\"floor\",i//j)\n",
    "\n",
    "def mod(k,l):\n",
    "  return (\"mod\",k%l)\n",
    "\n",
    "def mul(m,n):\n",
    "    return(\"multiplication\", m*n)\n",
    "    \n",
    "a = input('enter number a:')\n",
    "b = input('enter number b:')\n",
    "c = input('which function:')\n",
    "if type(b) is not int:\n",
    "        a = int(a)\n",
    "        b = int(float(b))\n",
    "value = 0\n",
    "if c=='add':\n",
    "    value = add(a,b)\n",
    "elif c=='sub':\n",
    "    value = sub(a,b) \n",
    "elif c=='div':\n",
    "    value = div(a,b)\n",
    "elif c=='flor':\n",
    "    value = flor(a,b)\n",
    "elif c=='mod':\n",
    "    value = mod(a,b)\n",
    "elif c=='mul':\n",
    "    value = mul(a,b)\n",
    "else:\n",
    "   print('no funcction aviaalble')\n",
    "\n",
    "\n",
    "print('given functon is '+c+ ' and output is '+str(value))"
   ]
  },
  {
   "cell_type": "markdown",
   "id": "7f7ccd47-b5f4-41cf-9072-4c7c02cbd599",
   "metadata": {},
   "source": [
    "## Lambda function\n",
    "* A lambda function is an anonymous function (function without a name).\n",
    "* Lambda functions can have any number of arguments but only one expression. The expression is evaluated and returned.\n",
    "* We use lambda functions when we require a nameless function for a short period of time\n",
    "\n",
    "<img src = 'https://miro.medium.com/v2/resize:fit:1200/0*4eRr7IZ3sP2ZAE8H.png' width = 500>"
   ]
  },
  {
   "cell_type": "code",
   "execution_count": 38,
   "id": "92c6d670-6b8c-4167-9503-8ac473c0e235",
   "metadata": {},
   "outputs": [
    {
     "data": {
      "text/plain": [
       "64"
      ]
     },
     "execution_count": 38,
     "metadata": {},
     "output_type": "execute_result"
    }
   ],
   "source": [
    "## anonymous function\n",
    "# write a program for square value\n",
    "x = lambda x:x**2\n",
    "x(8)"
   ]
  },
  {
   "cell_type": "code",
   "execution_count": 39,
   "id": "2adad254-f5e5-4b72-9187-7fb230796baa",
   "metadata": {},
   "outputs": [
    {
     "ename": "TypeError",
     "evalue": "<lambda>() missing 1 required positional argument: 'a'",
     "output_type": "error",
     "traceback": [
      "\u001b[1;31m---------------------------------------------------------------------------\u001b[0m",
      "\u001b[1;31mTypeError\u001b[0m                                 Traceback (most recent call last)",
      "Cell \u001b[1;32mIn[39], line 2\u001b[0m\n\u001b[0;32m      1\u001b[0m addition \u001b[38;5;241m=\u001b[39m \u001b[38;5;28;01mlambda\u001b[39;00m a : a \u001b[38;5;241m+\u001b[39m \u001b[38;5;241m10\u001b[39m \u001b[38;5;66;03m# This lambda function adds value 10 to an argument\u001b[39;00m\n\u001b[1;32m----> 2\u001b[0m \u001b[38;5;28mprint\u001b[39m(\u001b[43maddition\u001b[49m\u001b[43m(\u001b[49m\u001b[43m)\u001b[49m)\n",
      "\u001b[1;31mTypeError\u001b[0m: <lambda>() missing 1 required positional argument: 'a'"
     ]
    }
   ],
   "source": [
    "addition = lambda a : a + 10 # This lambda function adds value 10 to an argument\n",
    "print(addition())\n"
   ]
  },
  {
   "cell_type": "code",
   "execution_count": 40,
   "id": "3d0cc439-3a38-4552-ab61-7803660487f5",
   "metadata": {},
   "outputs": [
    {
     "name": "stdout",
     "output_type": "stream",
     "text": [
      "15\n"
     ]
    }
   ],
   "source": [
    "addition = lambda a : a + 10 # This lambda function adds value 10 to an argument\n",
    "print(addition(5))\n"
   ]
  },
  {
   "cell_type": "code",
   "execution_count": 41,
   "id": "d827f8bc-b565-466b-9cf9-31438e4c0621",
   "metadata": {},
   "outputs": [
    {
     "name": "stdout",
     "output_type": "stream",
     "text": [
      "30\n"
     ]
    }
   ],
   "source": [
    "product = lambda a, b : a * b #This lambda function takes two arguments (a,b)\n",
    "print(product(5, 6))\n"
   ]
  },
  {
   "cell_type": "code",
   "execution_count": 42,
   "id": "b41ce3c6-fe98-4d0c-b0a2-2b7544373d54",
   "metadata": {},
   "outputs": [
    {
     "data": {
      "text/plain": [
       "(20, 40, 70)"
      ]
     },
     "execution_count": 42,
     "metadata": {},
     "output_type": "execute_result"
    }
   ],
   "source": [
    "res = (lambda *args: max(args)) \n",
    "res(10,20) , res(10,20,30,40) , res(10,20,30,40,50,60,70)\n"
   ]
  },
  {
   "cell_type": "code",
   "execution_count": 43,
   "id": "996f1a78-4045-446d-9bfe-aed8e6cfa348",
   "metadata": {},
   "outputs": [
    {
     "data": {
      "text/plain": [
       "(60, 150)"
      ]
     },
     "execution_count": 43,
     "metadata": {},
     "output_type": "execute_result"
    }
   ],
   "source": [
    "res1 = (lambda **kwargs: sum(kwargs.values())) \n",
    "res1(a = 10 , b= 20 , c = 30) , res1(a = 10 , b= 20 , c = 30, d = 40 , e = 50)"
   ]
  },
  {
   "cell_type": "markdown",
   "id": "b97c04f0-3225-4282-a8bc-b5b3ac9e7951",
   "metadata": {},
   "source": [
    "## Higher order function\n",
    "* map\n",
    "* filter\n",
    "* reduce"
   ]
  },
  {
   "cell_type": "markdown",
   "id": "1be328d1-5243-407a-a1b9-3cc431068813",
   "metadata": {},
   "source": [
    "### map\n",
    "* The map() function applies a given function to each item of an iterable (list, tuple etc.) and returns a list of the results.\n",
    "* syntax = map(function, iteration)\n",
    "* map() function takes two Parameters:\n",
    "  1. function : The function to execute for each item of given iterable.\n",
    "  2. iterable : It is a iterable which is to be mapped.\n"
   ]
  },
  {
   "cell_type": "code",
   "execution_count": 44,
   "id": "432e950b-f62f-418e-ae6f-d72782b551d6",
   "metadata": {},
   "outputs": [
    {
     "name": "stdout",
     "output_type": "stream",
     "text": [
      "[8, 6, 3, 4]\n",
      "Multiplication by 2\n",
      "[16, 12, 6, 8]\n",
      "Cube root of a\n"
     ]
    },
    {
     "data": {
      "text/plain": [
       "[512, 216, 27, 64]"
      ]
     },
     "execution_count": 44,
     "metadata": {},
     "output_type": "execute_result"
    }
   ],
   "source": [
    "a = [8, 6, 3, 4]\n",
    "print(a)\n",
    "print('Multiplication by 2')\n",
    "# # multiply all value by 2 output also displayed as list\n",
    "print(list(map(lambda y:y*2, a)))\n",
    "\n",
    "print('Cube root of a')\n",
    "# find the cube root for the values in the list\n",
    "list(map(lambda z:z**3, a))\n"
   ]
  },
  {
   "cell_type": "code",
   "execution_count": 45,
   "id": "85d8c742-6c7c-408f-a105-efa0a06427c7",
   "metadata": {},
   "outputs": [
    {
     "data": {
      "text/plain": [
       "[2, 4, 6, 8, 10, 12, 14, 16, 18]"
      ]
     },
     "execution_count": 45,
     "metadata": {},
     "output_type": "execute_result"
    }
   ],
   "source": [
    "list1 = range(1,10)\n",
    "doubles = list(map(lambda n:n*2,list1)) # This map function will double all item\n",
    "doubles\n"
   ]
  },
  {
   "cell_type": "markdown",
   "id": "a83cb712-e7a9-419d-ac6e-08ddca92fb6d",
   "metadata": {},
   "source": [
    "### filter\n",
    "* It is used to filter the iterables/sequence as per the conditions.\n",
    "* Filter function filters the original iterable and passes the items that returns True for the function provided to filter.\n",
    "* It is normally used with Lambda functions to filter list, tuple, or sets\n",
    "* suntax = filter (function, iteration)\n",
    "* filter() function takes two Parameters:\n",
    "  1. function : function tests if elements of an iterable returns true or false.\n",
    "  2. iterable : Sequence which needs to be filtered, could be sets, lists, tuples, or any iterators.\n"
   ]
  },
  {
   "cell_type": "code",
   "execution_count": 7,
   "id": "2a517d51-a8b5-444a-a587-6e7a6289c779",
   "metadata": {},
   "outputs": [
    {
     "data": {
      "text/plain": [
       "range(1, 10)"
      ]
     },
     "execution_count": 7,
     "metadata": {},
     "output_type": "execute_result"
    }
   ],
   "source": [
    "list1"
   ]
  },
  {
   "cell_type": "code",
   "execution_count": 46,
   "id": "c5d543f0-4741-4784-91e3-c6745039aaf0",
   "metadata": {},
   "outputs": [
    {
     "data": {
      "text/plain": [
       "[1, 3, 5, 7, 9]"
      ]
     },
     "execution_count": 46,
     "metadata": {},
     "output_type": "execute_result"
    }
   ],
   "source": [
    "def odd(n):\n",
    " if n%2 == 1: \n",
    "     return True\n",
    " else: \n",
    "     return False\n",
    "\n",
    " \n",
    "odd_num = list(filter(odd,list1)) # This Filter function filters list1 and passes\n",
    "odd_num    "
   ]
  },
  {
   "cell_type": "code",
   "execution_count": 47,
   "id": "c8357657-d2de-4c60-899b-a2df5c9f54c1",
   "metadata": {},
   "outputs": [
    {
     "data": {
      "text/plain": [
       "[1, 3, 5, 7, 9, 11, 13, 15, 17, 19]"
      ]
     },
     "execution_count": 47,
     "metadata": {},
     "output_type": "execute_result"
    }
   ],
   "source": [
    "list1 = range(1, 21)\n",
    "odd_num = list(filter(lambda x:x%2==1,list1)) # This Filter function filters list1 and passes\n",
    "odd_num"
   ]
  },
  {
   "cell_type": "code",
   "execution_count": 12,
   "id": "b30e4aa5-da13-494e-8242-f22cc2941925",
   "metadata": {},
   "outputs": [
    {
     "data": {
      "text/plain": [
       "[8, 6, 8]"
      ]
     },
     "execution_count": 12,
     "metadata": {},
     "output_type": "execute_result"
    }
   ],
   "source": [
    "# give only even number\n",
    "list2 = [7, 8, 3, 6, 8, 5,9]\n",
    "list(filter(lambda x:x%2==0,list2))"
   ]
  },
  {
   "cell_type": "code",
   "execution_count": 15,
   "id": "5bc177a2-2b5e-4094-877e-abcb08ddb98d",
   "metadata": {},
   "outputs": [
    {
     "name": "stdout",
     "output_type": "stream",
     "text": [
      "Even numbers :  [2, 4, 6, 8, 10]\n",
      "Odd numbers :  [1, 3, 5, 7, 9]\n",
      "--------\n",
      "Upper content :  ['TWO', 'FOUR']\n",
      "lower content :  ['one', 'three']\n",
      "--------\n",
      "['one']\n",
      "['88', '99', '102']\n",
      "['one', 'two2', 'three3', '88', '99', '102']\n"
     ]
    }
   ],
   "source": [
    "list1 = [1,2,3,4,5,6,7,8,9,10]\n",
    "even = list(filter(lambda n: n%2 == 0 ,list1)) # Filter even numbers from the list\n",
    "odd = list(filter(lambda n: n%2 != 0 ,list1)) # Filter odd numbers from the list\n",
    "print('Even numbers : ', even)\n",
    "print('Odd numbers : ', odd)\n",
    "print('--------')\n",
    "\n",
    "list2 = ['one' , 'TWO' , 'three' , 'FOUR']\n",
    "upper = list(filter(lambda x: x.isupper() , list2)) # filter uppercase strings from the list\n",
    "lower = list(filter(lambda x: x.islower() , list2)) # filter lowercase strings from the list\n",
    "print('Upper content : ', upper)\n",
    "print('lower content : ', lower)\n",
    "print('--------')\n",
    "\n",
    "list3 = ['one' , 'two2' , 'three3' ,'88' , '99' , '102']\n",
    "numeric = list(filter(lambda x:x.isnumeric(), list3)) # filter numbers from the \n",
    "alpha = list(filter(lambda x:x.isalpha(), list3)) # filter character strings\n",
    "alphanum = list(filter(lambda x:x.isalnum(), list3)) # filtr numbers & character \n",
    "print(alpha)\n",
    "print(numeric)\n",
    "print(alphanum)\n",
    "\n"
   ]
  },
  {
   "cell_type": "markdown",
   "id": "492ca50d-3fcd-447b-8149-d9e181cf418f",
   "metadata": {},
   "source": [
    "### Reduce\n",
    "* The reduce() function is defined in the functools python module.\n",
    "* The reduce() function receives two arguments, a function and an iterable. However, it doesn't return another iterable, instead it returns a single value."
   ]
  },
  {
   "cell_type": "code",
   "execution_count": 48,
   "id": "33d1357b-7c67-4861-8470-5d2a38a78d2e",
   "metadata": {},
   "outputs": [
    {
     "data": {
      "text/plain": [
       "[2, 4, 6, 8, 10, 12, 14, 16, 18]"
      ]
     },
     "execution_count": 48,
     "metadata": {},
     "output_type": "execute_result"
    }
   ],
   "source": [
    "doubles"
   ]
  },
  {
   "cell_type": "code",
   "execution_count": 49,
   "id": "af16f579-5e1a-4d9f-9543-57db68461806",
   "metadata": {},
   "outputs": [
    {
     "data": {
      "text/plain": [
       "90"
      ]
     },
     "execution_count": 49,
     "metadata": {},
     "output_type": "execute_result"
    }
   ],
   "source": [
    "from functools import reduce\n",
    "\n",
    "def add(a,b):\n",
    " return a+b\n",
    " \n",
    "sum_all = reduce(add,doubles) # This reduce function will perform sum of all item\n",
    "sum_all"
   ]
  },
  {
   "cell_type": "code",
   "execution_count": 50,
   "id": "63d3dfe4-e8be-489a-be95-2b62f94b7f17",
   "metadata": {},
   "outputs": [
    {
     "data": {
      "text/plain": [
       "90"
      ]
     },
     "execution_count": 50,
     "metadata": {},
     "output_type": "execute_result"
    }
   ],
   "source": [
    "sum_res = reduce(lambda a,b:a+b, doubles)\n",
    "sum_res"
   ]
  },
  {
   "cell_type": "code",
   "execution_count": 25,
   "id": "0e51105a-48be-4074-a1e0-9894152132e7",
   "metadata": {},
   "outputs": [
    {
     "data": {
      "text/plain": [
       "30"
      ]
     },
     "execution_count": 25,
     "metadata": {},
     "output_type": "execute_result"
    }
   ],
   "source": [
    "a = [8, 9, 4, 3, 6]\n",
    "sum_all = reduce(lambda a,b : a+b,a)\n",
    "sum_all\n"
   ]
  },
  {
   "cell_type": "code",
   "execution_count": 20,
   "id": "b358c6fc-2997-4372-89b2-338a2553011f",
   "metadata": {},
   "outputs": [
    {
     "data": {
      "text/plain": [
       "576"
      ]
     },
     "execution_count": 20,
     "metadata": {},
     "output_type": "execute_result"
    }
   ],
   "source": [
    "product = reduce(lambda a,b : a*b,a)\n",
    "product\n"
   ]
  },
  {
   "cell_type": "markdown",
   "id": "2192b4c8-977b-4d65-98b8-149bea209ecf",
   "metadata": {},
   "source": [
    "# Scope & Namespace"
   ]
  },
  {
   "cell_type": "markdown",
   "id": "1c3665e5-0965-45a9-9441-863dea46a7fc",
   "metadata": {},
   "source": [
    "#### In a Python program, types of namespaces:\n",
    "* Built-In\n",
    "* Global\n",
    "  - The global namespace contains any names defined at the level of the main program.\n",
    "* Local\n",
    "  - That namespace is local to the function and remains in existence until the function terminates."
   ]
  },
  {
   "cell_type": "markdown",
   "id": "2d3cb3f0-3bd6-4e0c-9972-f764a1a4d943",
   "metadata": {},
   "source": [
    "##### Built-In\n",
    "- The built-in namespace contains the names of all of Python’s built-in objects. These are available at all times when Python is running."
   ]
  },
  {
   "cell_type": "code",
   "execution_count": 21,
   "id": "d84595dd-f62e-474c-b613-9914d92f489f",
   "metadata": {},
   "outputs": [
    {
     "data": {
      "text/plain": [
       "['ArithmeticError',\n",
       " 'AssertionError',\n",
       " 'AttributeError',\n",
       " 'BaseException',\n",
       " 'BaseExceptionGroup',\n",
       " 'BlockingIOError',\n",
       " 'BrokenPipeError',\n",
       " 'BufferError',\n",
       " 'BytesWarning',\n",
       " 'ChildProcessError',\n",
       " 'ConnectionAbortedError',\n",
       " 'ConnectionError',\n",
       " 'ConnectionRefusedError',\n",
       " 'ConnectionResetError',\n",
       " 'DeprecationWarning',\n",
       " 'EOFError',\n",
       " 'Ellipsis',\n",
       " 'EncodingWarning',\n",
       " 'EnvironmentError',\n",
       " 'Exception',\n",
       " 'ExceptionGroup',\n",
       " 'False',\n",
       " 'FileExistsError',\n",
       " 'FileNotFoundError',\n",
       " 'FloatingPointError',\n",
       " 'FutureWarning',\n",
       " 'GeneratorExit',\n",
       " 'IOError',\n",
       " 'ImportError',\n",
       " 'ImportWarning',\n",
       " 'IndentationError',\n",
       " 'IndexError',\n",
       " 'InterruptedError',\n",
       " 'IsADirectoryError',\n",
       " 'KeyError',\n",
       " 'KeyboardInterrupt',\n",
       " 'LookupError',\n",
       " 'MemoryError',\n",
       " 'ModuleNotFoundError',\n",
       " 'NameError',\n",
       " 'None',\n",
       " 'NotADirectoryError',\n",
       " 'NotImplemented',\n",
       " 'NotImplementedError',\n",
       " 'OSError',\n",
       " 'OverflowError',\n",
       " 'PendingDeprecationWarning',\n",
       " 'PermissionError',\n",
       " 'ProcessLookupError',\n",
       " 'RecursionError',\n",
       " 'ReferenceError',\n",
       " 'ResourceWarning',\n",
       " 'RuntimeError',\n",
       " 'RuntimeWarning',\n",
       " 'StopAsyncIteration',\n",
       " 'StopIteration',\n",
       " 'SyntaxError',\n",
       " 'SyntaxWarning',\n",
       " 'SystemError',\n",
       " 'SystemExit',\n",
       " 'TabError',\n",
       " 'TimeoutError',\n",
       " 'True',\n",
       " 'TypeError',\n",
       " 'UnboundLocalError',\n",
       " 'UnicodeDecodeError',\n",
       " 'UnicodeEncodeError',\n",
       " 'UnicodeError',\n",
       " 'UnicodeTranslateError',\n",
       " 'UnicodeWarning',\n",
       " 'UserWarning',\n",
       " 'ValueError',\n",
       " 'Warning',\n",
       " 'WindowsError',\n",
       " 'ZeroDivisionError',\n",
       " '__IPYTHON__',\n",
       " '__build_class__',\n",
       " '__debug__',\n",
       " '__doc__',\n",
       " '__import__',\n",
       " '__loader__',\n",
       " '__name__',\n",
       " '__package__',\n",
       " '__spec__',\n",
       " 'abs',\n",
       " 'aiter',\n",
       " 'all',\n",
       " 'anext',\n",
       " 'any',\n",
       " 'ascii',\n",
       " 'bin',\n",
       " 'bool',\n",
       " 'breakpoint',\n",
       " 'bytearray',\n",
       " 'bytes',\n",
       " 'callable',\n",
       " 'chr',\n",
       " 'classmethod',\n",
       " 'compile',\n",
       " 'complex',\n",
       " 'copyright',\n",
       " 'credits',\n",
       " 'delattr',\n",
       " 'dict',\n",
       " 'dir',\n",
       " 'display',\n",
       " 'divmod',\n",
       " 'enumerate',\n",
       " 'eval',\n",
       " 'exec',\n",
       " 'execfile',\n",
       " 'filter',\n",
       " 'float',\n",
       " 'format',\n",
       " 'frozenset',\n",
       " 'get_ipython',\n",
       " 'getattr',\n",
       " 'globals',\n",
       " 'hasattr',\n",
       " 'hash',\n",
       " 'help',\n",
       " 'hex',\n",
       " 'id',\n",
       " 'input',\n",
       " 'int',\n",
       " 'isinstance',\n",
       " 'issubclass',\n",
       " 'iter',\n",
       " 'len',\n",
       " 'license',\n",
       " 'list',\n",
       " 'locals',\n",
       " 'map',\n",
       " 'max',\n",
       " 'memoryview',\n",
       " 'min',\n",
       " 'next',\n",
       " 'object',\n",
       " 'oct',\n",
       " 'open',\n",
       " 'ord',\n",
       " 'pow',\n",
       " 'print',\n",
       " 'property',\n",
       " 'range',\n",
       " 'repr',\n",
       " 'reversed',\n",
       " 'round',\n",
       " 'runfile',\n",
       " 'set',\n",
       " 'setattr',\n",
       " 'slice',\n",
       " 'sorted',\n",
       " 'staticmethod',\n",
       " 'str',\n",
       " 'sum',\n",
       " 'super',\n",
       " 'tuple',\n",
       " 'type',\n",
       " 'vars',\n",
       " 'zip']"
      ]
     },
     "execution_count": 21,
     "metadata": {},
     "output_type": "execute_result"
    }
   ],
   "source": [
    "dir(__builtins__)"
   ]
  },
  {
   "cell_type": "code",
   "execution_count": 22,
   "id": "a8671ef3-ce53-4865-bad9-d62770688639",
   "metadata": {},
   "outputs": [
    {
     "ename": "UnboundLocalError",
     "evalue": "cannot access local variable 'a' where it is not associated with a value",
     "output_type": "error",
     "traceback": [
      "\u001b[1;31m---------------------------------------------------------------------------\u001b[0m",
      "\u001b[1;31mUnboundLocalError\u001b[0m                         Traceback (most recent call last)",
      "Cell \u001b[1;32mIn[22], line 6\u001b[0m\n\u001b[0;32m      3\u001b[0m \u001b[38;5;28;01mdef\u001b[39;00m \u001b[38;5;21mab\u001b[39m():\n\u001b[0;32m      4\u001b[0m     a \u001b[38;5;241m=\u001b[39m a\u001b[38;5;241m+\u001b[39m\u001b[38;5;241m5\u001b[39m\n\u001b[1;32m----> 6\u001b[0m \u001b[43mab\u001b[49m\u001b[43m(\u001b[49m\u001b[43m)\u001b[49m\n\u001b[0;32m      7\u001b[0m a\n",
      "Cell \u001b[1;32mIn[22], line 4\u001b[0m, in \u001b[0;36mab\u001b[1;34m()\u001b[0m\n\u001b[0;32m      3\u001b[0m \u001b[38;5;28;01mdef\u001b[39;00m \u001b[38;5;21mab\u001b[39m():\n\u001b[1;32m----> 4\u001b[0m     a \u001b[38;5;241m=\u001b[39m \u001b[43ma\u001b[49m\u001b[38;5;241m+\u001b[39m\u001b[38;5;241m5\u001b[39m\n",
      "\u001b[1;31mUnboundLocalError\u001b[0m: cannot access local variable 'a' where it is not associated with a value"
     ]
    }
   ],
   "source": [
    "a = 10 # global\n",
    "\n",
    "def ab():\n",
    "    a = a+5\n",
    "\n",
    "ab()\n",
    "a"
   ]
  },
  {
   "cell_type": "code",
   "execution_count": 23,
   "id": "174f984e-10ab-4b47-8f43-17d9721c17ea",
   "metadata": {},
   "outputs": [
    {
     "name": "stdout",
     "output_type": "stream",
     "text": [
      "20\n",
      "10\n"
     ]
    }
   ],
   "source": [
    "a = 10\n",
    "\n",
    "def ab():\n",
    "    a = 15\n",
    "    a = a+5\n",
    "    return a\n",
    "\n",
    "print(ab())\n",
    "print(a)"
   ]
  },
  {
   "cell_type": "code",
   "execution_count": 24,
   "id": "a218e038-0700-4a21-9e02-ff3596c47474",
   "metadata": {},
   "outputs": [
    {
     "data": {
      "text/plain": [
       "15"
      ]
     },
     "execution_count": 24,
     "metadata": {},
     "output_type": "execute_result"
    }
   ],
   "source": [
    "a = 10\n",
    "\n",
    "def ab():\n",
    "    global a\n",
    "    a = a+5\n",
    "ab()\n",
    "a"
   ]
  },
  {
   "cell_type": "code",
   "execution_count": 32,
   "id": "cdcb0cc5-f788-4b1d-b339-4e97ef557f2b",
   "metadata": {},
   "outputs": [
    {
     "name": "stdout",
     "output_type": "stream",
     "text": [
      "c-> 15\n"
     ]
    },
    {
     "data": {
      "text/plain": [
       "(3, 10)"
      ]
     },
     "execution_count": 32,
     "metadata": {},
     "output_type": "execute_result"
    }
   ],
   "source": [
    "def add(a,b):\n",
    "    c = 15  # local\n",
    "    print('c->',c)\n",
    "    \n",
    "    return a+b\n",
    "\n",
    "c  = 10\n",
    "add(1,2),c"
   ]
  },
  {
   "cell_type": "code",
   "execution_count": 30,
   "id": "09deffe0-acdd-49f4-9102-c984af6256d5",
   "metadata": {},
   "outputs": [
    {
     "name": "stdout",
     "output_type": "stream",
     "text": [
      "c-> 15\n"
     ]
    },
    {
     "data": {
      "text/plain": [
       "(3, 15)"
      ]
     },
     "execution_count": 30,
     "metadata": {},
     "output_type": "execute_result"
    }
   ],
   "source": [
    "def add(a,b):\n",
    "    global c\n",
    "    c = 15  # local\n",
    "    print('c->',c)\n",
    "    \n",
    "    return a+b\n",
    "\n",
    "c  = 10  # global\n",
    "add(1,2),c"
   ]
  },
  {
   "cell_type": "code",
   "execution_count": 33,
   "id": "ac404910-8c97-4894-859a-de03caf4545b",
   "metadata": {},
   "outputs": [
    {
     "name": "stdout",
     "output_type": "stream",
     "text": [
      "Variable   Type                          Data/Info\n",
      "--------------------------------------------------\n",
      "a          int                           15\n",
      "ab         function                      <function ab at 0x000001D84EAE3E20>\n",
      "add        function                      <function add at 0x000001D84ECF8D60>\n",
      "alpha      list                          n=1\n",
      "alphanum   list                          n=6\n",
      "c          int                           10\n",
      "doubles    list                          n=9\n",
      "even       list                          n=5\n",
      "list1      list                          n=10\n",
      "list2      list                          n=4\n",
      "list3      list                          n=6\n",
      "lower      list                          n=2\n",
      "numeric    list                          n=3\n",
      "odd        list                          n=5\n",
      "odd_num    list                          n=10\n",
      "product    int                           576\n",
      "reduce     builtin_function_or_method    <built-in function reduce>\n",
      "sum_all    int                           90\n",
      "sum_res    int                           90\n",
      "upper      list                          n=2\n"
     ]
    }
   ],
   "source": [
    "%whos"
   ]
  },
  {
   "cell_type": "markdown",
   "id": "e748d6e4-715b-4dec-9477-2f2a365123e4",
   "metadata": {},
   "source": [
    "# modules and packages"
   ]
  },
  {
   "cell_type": "code",
   "execution_count": 34,
   "id": "4d3b609f-3706-40a7-bc5e-2b4633954c53",
   "metadata": {},
   "outputs": [
    {
     "name": "stdout",
     "output_type": "stream",
     "text": [
      "35\n"
     ]
    },
    {
     "data": {
      "text/plain": [
       "['False',\n",
       " 'None',\n",
       " 'True',\n",
       " 'and',\n",
       " 'as',\n",
       " 'assert',\n",
       " 'async',\n",
       " 'await',\n",
       " 'break',\n",
       " 'class',\n",
       " 'continue',\n",
       " 'def',\n",
       " 'del',\n",
       " 'elif',\n",
       " 'else',\n",
       " 'except',\n",
       " 'finally',\n",
       " 'for',\n",
       " 'from',\n",
       " 'global',\n",
       " 'if',\n",
       " 'import',\n",
       " 'in',\n",
       " 'is',\n",
       " 'lambda',\n",
       " 'nonlocal',\n",
       " 'not',\n",
       " 'or',\n",
       " 'pass',\n",
       " 'raise',\n",
       " 'return',\n",
       " 'try',\n",
       " 'while',\n",
       " 'with',\n",
       " 'yield']"
      ]
     },
     "execution_count": 34,
     "metadata": {},
     "output_type": "execute_result"
    }
   ],
   "source": [
    "## modules and packages\n",
    "\n",
    "## modules --> files \n",
    "## packages --> the folder which contains the file \n",
    "\n",
    "## to view the list of inbuilt key words \n",
    "\n",
    "import keyword  ## reserverd words\n",
    "print(len(keyword.kwlist))\n",
    "keyword.kwlist"
   ]
  },
  {
   "cell_type": "code",
   "execution_count": 38,
   "id": "888271bc-68f4-4039-9580-d32e600889a9",
   "metadata": {},
   "outputs": [
    {
     "data": {
      "text/html": [
       "<div>\n",
       "<style scoped>\n",
       "    .dataframe tbody tr th:only-of-type {\n",
       "        vertical-align: middle;\n",
       "    }\n",
       "\n",
       "    .dataframe tbody tr th {\n",
       "        vertical-align: top;\n",
       "    }\n",
       "\n",
       "    .dataframe thead th {\n",
       "        text-align: right;\n",
       "    }\n",
       "</style>\n",
       "<table border=\"1\" class=\"dataframe\">\n",
       "  <thead>\n",
       "    <tr style=\"text-align: right;\">\n",
       "      <th></th>\n",
       "      <th>NAME</th>\n",
       "      <th>PRODUCT</th>\n",
       "      <th>SALES</th>\n",
       "    </tr>\n",
       "  </thead>\n",
       "  <tbody>\n",
       "    <tr>\n",
       "      <th>0</th>\n",
       "      <td>abc</td>\n",
       "      <td>a</td>\n",
       "      <td>5</td>\n",
       "    </tr>\n",
       "    <tr>\n",
       "      <th>1</th>\n",
       "      <td>def</td>\n",
       "      <td>b</td>\n",
       "      <td>4</td>\n",
       "    </tr>\n",
       "    <tr>\n",
       "      <th>2</th>\n",
       "      <td>abc</td>\n",
       "      <td>a</td>\n",
       "      <td>2</td>\n",
       "    </tr>\n",
       "    <tr>\n",
       "      <th>3</th>\n",
       "      <td>def</td>\n",
       "      <td>b</td>\n",
       "      <td>1</td>\n",
       "    </tr>\n",
       "  </tbody>\n",
       "</table>\n",
       "</div>"
      ],
      "text/plain": [
       "  NAME  PRODUCT  SALES\n",
       "0   abc       a      5\n",
       "1   def       b      4\n",
       "2   abc       a      2\n",
       "3   def       b      1"
      ]
     },
     "execution_count": 38,
     "metadata": {},
     "output_type": "execute_result"
    }
   ],
   "source": [
    "import pandas as pd\n",
    "\n",
    "df = pd.read_excel('D:\\Greens technologies\\Book1.xlsx')\n",
    "df"
   ]
  },
  {
   "cell_type": "code",
   "execution_count": 16,
   "id": "acb69625-1cc0-477e-ab4e-f15192111efe",
   "metadata": {},
   "outputs": [],
   "source": [
    "from sklearn.model_selection import train_test_split \n",
    "# sklearn -- package\n",
    "# model_seection -- module\n",
    "# train_test_split -- library\n",
    "from sklearn.linear_model import LinearRegression\n",
    "from sklearn.linear_model import LogisticRegression\n"
   ]
  },
  {
   "cell_type": "code",
   "execution_count": null,
   "id": "14cf1abb-5a09-438e-8613-5770697485e9",
   "metadata": {},
   "outputs": [],
   "source": []
  },
  {
   "cell_type": "code",
   "execution_count": null,
   "id": "b438b945-bbbf-457e-94f9-e18a016999fe",
   "metadata": {},
   "outputs": [],
   "source": []
  }
 ],
 "metadata": {
  "kernelspec": {
   "display_name": "Python 3 (ipykernel)",
   "language": "python",
   "name": "python3"
  },
  "language_info": {
   "codemirror_mode": {
    "name": "ipython",
    "version": 3
   },
   "file_extension": ".py",
   "mimetype": "text/x-python",
   "name": "python",
   "nbconvert_exporter": "python",
   "pygments_lexer": "ipython3",
   "version": "3.11.4"
  }
 },
 "nbformat": 4,
 "nbformat_minor": 5
}
