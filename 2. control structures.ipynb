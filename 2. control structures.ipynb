{
 "cells": [
  {
   "cell_type": "markdown",
   "id": "ff1c2d84-26dd-43b0-978b-da0fe1852710",
   "metadata": {},
   "source": [
    "# Control structure\n",
    "* if, elif, else\n",
    "* for loop\n",
    "* while loop"
   ]
  },
  {
   "cell_type": "code",
   "execution_count": null,
   "id": "a5d09bc8-a8e5-4edd-843c-a536d0c3f435",
   "metadata": {},
   "outputs": [],
   "source": [
    "# if, elif, else\n",
    "# if\n",
    "a = 5\n",
    "if a==5:\n",
    "    print(\"Yes a=5\")"
   ]
  },
  {
   "cell_type": "code",
   "execution_count": null,
   "id": "f8fe7811-7c2f-4a8a-b931-8956b30d04e6",
   "metadata": {},
   "outputs": [],
   "source": [
    "# if, elif, else\n",
    "# if\n",
    "a = 8\n",
    "if a==5:\n",
    "    print(\"Yes a=5\")"
   ]
  },
  {
   "cell_type": "code",
   "execution_count": null,
   "id": "831ab85d-70fc-467d-85b6-673589cb323a",
   "metadata": {},
   "outputs": [],
   "source": [
    "a = 5\n",
    "if a==8:\n",
    "print(\"Yes a=5\")"
   ]
  },
  {
   "cell_type": "code",
   "execution_count": null,
   "id": "2d1c727a-d2d7-41b0-90ab-7f1ef2b254aa",
   "metadata": {},
   "outputs": [],
   "source": [
    "a = 5\n",
    "if a==8:\n",
    "    c = 5+8\n",
    "    print(c)  # 13\n",
    "    print(\"Yes, the given number 8\")\n",
    "else:\n",
    "    print(\"The given number is not 8\")"
   ]
  },
  {
   "cell_type": "code",
   "execution_count": null,
   "id": "9eb7ce3d-8bce-40d9-a099-8ddb53bfe824",
   "metadata": {},
   "outputs": [],
   "source": [
    "# Identify the sub string a and d in given string ('data') using if else.\n",
    "given = 'data'   \n",
    "\n",
    "if 'a' in given:\n",
    "    print('yes')\n",
    "if 'd' in given:\n",
    "    print('yes')\n"
   ]
  },
  {
   "cell_type": "code",
   "execution_count": null,
   "id": "f206fd37-53e5-4821-8543-425ac12d10ce",
   "metadata": {},
   "outputs": [],
   "source": [
    "# Identify the sub string a, d and f in given string ('data') using if else.\n",
    "a = 'data'   \n",
    "\n",
    "if 'd' in a:\n",
    "    print('d checking')   #true\n",
    "if 'a' in a:\n",
    "    print('a checking')   #true\n",
    "if 'f' in a:\n",
    "    print('F checking')   #false\n",
    "else:\n",
    "    print(\"the given data not available\")"
   ]
  },
  {
   "cell_type": "code",
   "execution_count": null,
   "id": "4ed2b1c0-c119-4e8a-98cc-6797d9d0cee1",
   "metadata": {},
   "outputs": [],
   "source": [
    "## if,elif, else Statements\n",
    "\n",
    "a = 7 # 6, 7, 8\n",
    "    \n",
    "if a==6:\n",
    "   print('6 is here')\n",
    "elif a==1:\n",
    "    print('1 is here')\n",
    "elif a==8:\n",
    "    print(\"8 is here\")\n",
    "else:\n",
    "    print('failed')"
   ]
  },
  {
   "cell_type": "code",
   "execution_count": null,
   "id": "b49cc3ed-c3b2-43fe-a9b9-3c6a9564b154",
   "metadata": {},
   "outputs": [],
   "source": [
    "# Identify the sub string a, d and f in given string ('data') using if else.\n",
    "a = 'data'   \n",
    "\n",
    "if 'a' in a:\n",
    "    print('yes')   #true\n",
    "elif 'f' in a:\n",
    "    print('No')   #false\n",
    "elif 'd' in a:\n",
    "    print('Yes')   #True \n",
    "else:\n",
    "    print(\"the given data not available\")"
   ]
  },
  {
   "cell_type": "code",
   "execution_count": null,
   "id": "ae8eb9d7-9aa1-471a-b66d-cd2e517d3d42",
   "metadata": {},
   "outputs": [],
   "source": [
    "# identify the vowels in the string and display the length of vowels and consonents\n",
    "a = 'Datscienc'\n",
    "\n",
    "# initialize the vowel as 0\n",
    "vowel = 0\n",
    "\n",
    "# condition checking using if\n",
    "if 'a' in a:\n",
    "    vowel = vowel+1\n",
    "if 'e' in a:\n",
    "    vowel = vowel+1\n",
    "if 'i' in a:\n",
    "    vowel = vowel+1\n",
    "if 'o' in a:\n",
    "    vowel = vowel+1\n",
    "if 'u' in a:\n",
    "    vowel = vowel+1\n",
    "    \n",
    "# print the result\n",
    "vowel, len(a), len(a)- vowel\n",
    "print(\"no.of vowels : \",vowel)\n",
    "print(\"no. of Consonents : \",len(a)- vowel)"
   ]
  },
  {
   "cell_type": "code",
   "execution_count": null,
   "id": "32b1ab19-39f0-4556-9eb1-6630ec3a352a",
   "metadata": {},
   "outputs": [],
   "source": [
    "# vowels is there or not\n",
    "a = 'Data science'\n",
    "if 'a' in a:\n",
    "    print('vowel a is available')\n",
    "elif 'i' in a:\n",
    "    print('vowel i avaialble')\n",
    "elif 'u' in a:\n",
    "    print('vowel u avaialble')\n",
    "elif 'e' in a:\n",
    "    print('vowel e avaialble')\n",
    "elif 'o' in a:\n",
    "    print('vowel u avaialble')\n",
    "else:\n",
    "    print('word dont have vowel')\n"
   ]
  },
  {
   "cell_type": "code",
   "execution_count": null,
   "id": "bfc522c5-6218-4550-8460-e68501b4d6fc",
   "metadata": {},
   "outputs": [],
   "source": [
    "# vowels is there or not\n",
    "a = 'Data science'\n",
    "if 'a' in a:\n",
    "    print('vowel a is available')   # true\n",
    "if 'i' in a:\n",
    "    print('vowel i avaialble')  #true\n",
    "if 'u' in a:\n",
    "    print('vowel u avaialble')    #false\n",
    "if 'o' in a:\n",
    "    print('vowel o avaialble')   # false\n",
    "if 'e' in a:\n",
    "    print('vowel e avaialble')   #true\n",
    "else:\n",
    "    print('word dont have vowel')\n"
   ]
  },
  {
   "cell_type": "code",
   "execution_count": null,
   "id": "6254846e-f014-4d2d-8de1-77904e0ecf81",
   "metadata": {},
   "outputs": [],
   "source": [
    "# find the given number is odd or even\n",
    "a = 7561\n",
    "\n",
    "if a%2==0:\n",
    "    print(\"The given number is EVEN number\")\n",
    "else:\n",
    "    print(\"The given number is ODD number\")"
   ]
  },
  {
   "cell_type": "code",
   "execution_count": null,
   "id": "4ccfb3f3-9cf7-4333-9a84-c0937dff073b",
   "metadata": {},
   "outputs": [],
   "source": [
    "# ternary function  -->  single line code\n",
    "# syntax : value_if_true if condition else value_if_false\n",
    "'EVEN' if a%2==0 else 'ODD'"
   ]
  },
  {
   "cell_type": "markdown",
   "id": "fcae8998-1752-411a-9e35-ef0e97442c77",
   "metadata": {},
   "source": [
    "### for loop"
   ]
  },
  {
   "cell_type": "code",
   "execution_count": 32,
   "id": "00104afb-ce55-41f9-800b-02ec29c2f7b0",
   "metadata": {},
   "outputs": [
    {
     "data": {
      "text/plain": [
       "range(0, 10)"
      ]
     },
     "execution_count": 32,
     "metadata": {},
     "output_type": "execute_result"
    }
   ],
   "source": [
    "range(10)"
   ]
  },
  {
   "cell_type": "code",
   "execution_count": 30,
   "id": "27c26a41-9cda-416d-a020-74280f8bee5b",
   "metadata": {},
   "outputs": [
    {
     "name": "stdout",
     "output_type": "stream",
     "text": [
      "0\n",
      "1\n",
      "2\n",
      "3\n",
      "4\n"
     ]
    }
   ],
   "source": [
    "# For loop    # iteration\n",
    "# print upto 5 using for loop\n",
    "\n",
    "for i in range(5): # 0, 1, 2, 3, 4\n",
    "    print(i)\n",
    "\n"
   ]
  },
  {
   "cell_type": "code",
   "execution_count": 31,
   "id": "b4be089a-3afa-47a3-a3f5-f689dd16e656",
   "metadata": {},
   "outputs": [
    {
     "name": "stdout",
     "output_type": "stream",
     "text": [
      "10\n",
      "11\n",
      "12\n",
      "13\n",
      "14\n",
      "15\n",
      "16\n",
      "17\n",
      "18\n",
      "19\n",
      "20\n"
     ]
    }
   ],
   "source": [
    "# print 10 to 20 numbers\n",
    "for i in range(10, 21):\n",
    "    print(i)"
   ]
  },
  {
   "cell_type": "code",
   "execution_count": 33,
   "id": "4ce7dabc-a0c1-4966-8ece-ca31df6f4c8d",
   "metadata": {},
   "outputs": [
    {
     "name": "stdout",
     "output_type": "stream",
     "text": [
      "h\n",
      "i\n",
      " \n",
      "w\n",
      "e\n",
      "l\n",
      "c\n",
      "o\n",
      "m\n",
      "e\n"
     ]
    }
   ],
   "source": [
    "# For loop    # iteration\n",
    "\n",
    "a = \"hi welcome\"\n",
    "for i in a:\n",
    "    print(i)\n",
    "\n"
   ]
  },
  {
   "cell_type": "code",
   "execution_count": null,
   "id": "b2bdae38-1337-47df-a8c9-c02c7f3c05ac",
   "metadata": {},
   "outputs": [],
   "source": [
    "### Task - 1\n",
    "# a = 75768 using for loop "
   ]
  },
  {
   "cell_type": "markdown",
   "id": "9a510453-59f4-4027-98e6-6180c76b7b7d",
   "metadata": {},
   "source": [
    "### while loop"
   ]
  },
  {
   "cell_type": "code",
   "execution_count": 36,
   "id": "16d300c2-8e25-415b-810b-19ca7c1d950d",
   "metadata": {},
   "outputs": [
    {
     "name": "stdout",
     "output_type": "stream",
     "text": [
      "0 Vasanth\n",
      "1 asanth\n",
      "2 santh\n",
      "3 anth\n",
      "4 nth\n",
      "5 th\n",
      "6 h\n"
     ]
    },
    {
     "data": {
      "text/plain": [
       "7"
      ]
     },
     "execution_count": 36,
     "metadata": {},
     "output_type": "execute_result"
    }
   ],
   "source": [
    "# find length of string using while loop with slice\n",
    "## slicing syntax = [start:end:step]\n",
    "\n",
    "a = 'Vasanth'\n",
    "length = 0\n",
    "\n",
    "while a[length:]:    # 0 to end \n",
    "   print(length,a[length:])  #[2:]\n",
    "   length+=1\n",
    "length"
   ]
  },
  {
   "cell_type": "code",
   "execution_count": 2,
   "id": "e3705926-a955-4829-86c0-4e4dffd6da92",
   "metadata": {},
   "outputs": [
    {
     "name": "stdout",
     "output_type": "stream",
     "text": [
      "9\n",
      "96\n",
      "965\n",
      "965\n"
     ]
    }
   ],
   "source": [
    "# while loop   ---> until contion break\n",
    "\n",
    "# Ex: reverse the given number using while loop\n",
    "\n",
    "number = 569\n",
    "reversed_number=0 \n",
    "\n",
    "while number != 0:     \n",
    "        digit = number % 10    \n",
    "        reversed_number = reversed_number * 10 + digit   \n",
    "        print(reversed_number) \n",
    "        number = number // 10      \n",
    "\n",
    "print(reversed_number)\n"
   ]
  },
  {
   "cell_type": "markdown",
   "id": "8b97c173-9168-45ca-a89f-113e860f14ce",
   "metadata": {},
   "source": []
  },
  {
   "cell_type": "code",
   "execution_count": null,
   "id": "0ce02195-93ff-49da-b751-157e298ab84f",
   "metadata": {},
   "outputs": [],
   "source": []
  }
 ],
 "metadata": {
  "kernelspec": {
   "display_name": "Python 3 (ipykernel)",
   "language": "python",
   "name": "python3"
  },
  "language_info": {
   "codemirror_mode": {
    "name": "ipython",
    "version": 3
   },
   "file_extension": ".py",
   "mimetype": "text/x-python",
   "name": "python",
   "nbconvert_exporter": "python",
   "pygments_lexer": "ipython3",
   "version": "3.11.4"
  }
 },
 "nbformat": 4,
 "nbformat_minor": 5
}
