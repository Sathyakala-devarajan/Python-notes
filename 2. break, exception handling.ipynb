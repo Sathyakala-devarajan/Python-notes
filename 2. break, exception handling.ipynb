{
 "cells": [
  {
   "cell_type": "markdown",
   "id": "0713c2f3-9982-49d7-8903-9aff968775f1",
   "metadata": {},
   "source": [
    "# Control structures\n",
    "* if, elif, else\n",
    "* for loop\n",
    "* while loop"
   ]
  },
  {
   "cell_type": "markdown",
   "id": "4b3d9058-e176-46e0-8ca0-8b837c53a758",
   "metadata": {},
   "source": [
    "### if, elif, else Statements"
   ]
  },
  {
   "cell_type": "code",
   "execution_count": 1,
   "id": "18d66fcf-fb46-415f-b713-388564bc5875",
   "metadata": {},
   "outputs": [
    {
     "name": "stdout",
     "output_type": "stream",
     "text": [
      "a is available\n",
      "e is available\n",
      "i is available\n",
      "No. of vowels :  3\n",
      "Length of char :  9\n",
      "no. of con :  6\n"
     ]
    }
   ],
   "source": [
    "# find the vowels count and consonents count\n",
    "a = 'Datscienc'\n",
    "vowel = 0\n",
    "if 'a' in a: \n",
    "    vowel = vowel+1\n",
    "    print('a is available')\n",
    "if 'e' in a:\n",
    "    vowel = vowel+1\n",
    "    print('e is available')\n",
    "if 'i' in a:\n",
    "    vowel = vowel+1\n",
    "    print('i is available')\n",
    "if 'o' in a:\n",
    "    vowel = vowel+1\n",
    "    print('o is available')\n",
    "if 'u' in a:\n",
    "    vowel = vowel+1\n",
    "    print('u is available')\n",
    "\n",
    "print(\"No. of vowels : \", vowel)\n",
    "print(\"Length of char : \", len(a))\n",
    "print(\"no. of con : \", len(a)-vowel)"
   ]
  },
  {
   "cell_type": "code",
   "execution_count": 10,
   "id": "3443de82-ecd0-4d1e-bdde-1de9f676c953",
   "metadata": {},
   "outputs": [
    {
     "name": "stdout",
     "output_type": "stream",
     "text": [
      "substring not available\n",
      "No. of vowels :  0\n"
     ]
    }
   ],
   "source": [
    "a = 'Datscienc'\n",
    "\n",
    "if 'g' in a: \n",
    "    vowel = vowel+1\n",
    "    print('g is available')\n",
    "elif 'o' in a:\n",
    "    vowel = vowel+1\n",
    "    print('o is available')\n",
    "# elif 'i' in a:\n",
    "#     vowel = vowel+1\n",
    "#     print('i is available')\n",
    "# elif 'e' in a: # true\n",
    "#     vowel = vowel+1\n",
    "#     print('e is available')\n",
    "elif 'u' in a:\n",
    "    vowel = vowel+1\n",
    "    print('u is available')\n",
    "else: \n",
    "    print('substring not available')\n",
    "    \n",
    "\n"
   ]
  },
  {
   "cell_type": "code",
   "execution_count": 8,
   "id": "2e7387f6-70fe-4426-b69d-1332c7682573",
   "metadata": {},
   "outputs": [
    {
     "name": "stdout",
     "output_type": "stream",
     "text": [
      "failed\n"
     ]
    }
   ],
   "source": [
    "## if,elif, else Statements\n",
    "\n",
    "a = 5\n",
    "\n",
    "if a==6:\n",
    "   print(True)\n",
    "elif a==7:\n",
    "    print('5')\n",
    "elif a==8:\n",
    "    print(False)\n",
    "else:\n",
    "    print('failed')"
   ]
  },
  {
   "cell_type": "code",
   "execution_count": 8,
   "id": "2a8fd387-cec1-4e59-9e83-520f8cf40c5a",
   "metadata": {},
   "outputs": [
    {
     "name": "stdout",
     "output_type": "stream",
     "text": [
      "no substring\n"
     ]
    }
   ],
   "source": [
    "a = 'data'  # substring \n",
    "\n",
    "if 'i' in a:\n",
    "    print('check the i substring')\n",
    "    \n",
    "else:\n",
    "    print('no substring')"
   ]
  },
  {
   "cell_type": "code",
   "execution_count": 5,
   "id": "dc4c260c-727a-4d4f-976d-f7f299418447",
   "metadata": {},
   "outputs": [
    {
     "name": "stdout",
     "output_type": "stream",
     "text": [
      "vowel i avaialble\n"
     ]
    }
   ],
   "source": [
    "# vowels is ther or not\n",
    "a = 'sruthi'\n",
    "if 'a' in a:\n",
    "    print('vowel - yes')\n",
    "elif 'i' in a:\n",
    "    print('vowel i avaialble')\n",
    "elif 'u' in a:\n",
    "    print('vowel  avaialble')\n",
    "else:\n",
    "    print('word dont have vowel')\n"
   ]
  },
  {
   "cell_type": "code",
   "execution_count": 6,
   "id": "b7f1f41f-2bd2-40e0-88a9-5ce36484cea6",
   "metadata": {},
   "outputs": [
    {
     "name": "stdout",
     "output_type": "stream",
     "text": [
      "vowel a available\n",
      "vowel i avaialble\n",
      "word dont have vowel\n"
     ]
    }
   ],
   "source": [
    "# check what are the vowels are there\n",
    "a = 'shafika'\n",
    "if 'a' in a:\n",
    "    print('vowel a available')\n",
    "if 'i' in a:\n",
    "    print('vowel i avaialble')\n",
    "if 'u' in a:\n",
    "    print('vowel  avaialble')\n",
    "else:\n",
    "    print('word dont have vowel')"
   ]
  },
  {
   "cell_type": "code",
   "execution_count": 1,
   "id": "b8ff8413-4007-48af-8306-7042dbc82a3b",
   "metadata": {},
   "outputs": [
    {
     "name": "stdin",
     "output_type": "stream",
     "text": [
      "Enter the marks?  87\n"
     ]
    },
    {
     "name": "stdout",
     "output_type": "stream",
     "text": [
      "Congrats ! you scored grade A ...\n"
     ]
    }
   ],
   "source": [
    "# Simple Python program to understand elif statement  \n",
    "marks = int(input(\"Enter the marks? \"))    \n",
    "\n",
    "if marks > 85 and marks <= 100:  \n",
    "   print(\"Congrats ! you scored grade A ...\")    \n",
    "elif marks > 60 and marks <= 85:    \n",
    "   print(\"You scored grade B + ...\")    \n",
    "elif marks > 40 and marks <= 60:  \n",
    "   print(\"You scored grade B ...\")    \n",
    "elif (marks > 30 and marks <= 40):    \n",
    "   print(\"You scored grade C ...\")    \n",
    "else:    \n",
    "   print(\"Sorry you are fail ?\") "
   ]
  },
  {
   "cell_type": "markdown",
   "id": "2ee0308a-bf96-443b-8887-fc89f7ba8a43",
   "metadata": {},
   "source": [
    "### for loop"
   ]
  },
  {
   "cell_type": "code",
   "execution_count": 12,
   "id": "65c969c9-2ee5-40bb-bf16-9465022f3f3f",
   "metadata": {},
   "outputs": [
    {
     "name": "stdout",
     "output_type": "stream",
     "text": [
      "0\n",
      "1\n",
      "2\n",
      "3\n",
      "4\n"
     ]
    }
   ],
   "source": [
    "# for loop:  -- iterate\n",
    "range(5)  # 0, 1, 2, 3, 4\n",
    "for i in range(5): \n",
    "    print(i) \n"
   ]
  },
  {
   "cell_type": "code",
   "execution_count": 2,
   "id": "32ce3942-019a-4697-bf21-2aa281b43df9",
   "metadata": {},
   "outputs": [
    {
     "name": "stdout",
     "output_type": "stream",
     "text": [
      "The list of squares is [16, 4, 36, 49, 9, 25, 64, 100, 36, 1, 81, 4]\n"
     ]
    }
   ],
   "source": [
    "numbers = [4, 2, 6, 7, 3, 5, 8, 10, 6, 1, 9, 2]  \n",
    "square = 0  \n",
    "squares = []  \n",
    "  \n",
    "# Creating a for loop  \n",
    "for value in numbers:  \n",
    "    square = value ** 2  \n",
    "    squares.append(square)  \n",
    "print(\"The list of squares is\", squares)  "
   ]
  },
  {
   "cell_type": "code",
   "execution_count": 4,
   "id": "24c7df92-2e29-40b8-94a2-0e2758905945",
   "metadata": {},
   "outputs": [],
   "source": [
    "# excercise"
   ]
  },
  {
   "cell_type": "code",
   "execution_count": 5,
   "id": "fe29d6f6-cae4-4b4c-b756-5486904f47a1",
   "metadata": {},
   "outputs": [
    {
     "name": "stdout",
     "output_type": "stream",
     "text": [
      "length of a :  13\n",
      "length of b :  11\n",
      "index is 0 ---> a-D, b-P\n",
      "index is 1 ---> a-a, b-y\n",
      "index is 2 ---> a-t, b-t\n",
      "index is 3 ---> a-a, b-h\n",
      "index is 4 ---> a- , b-o\n",
      "index is 5 ---> a-s, b-n\n",
      "index is 6 ---> a-e, b-,\n",
      "index is 7 ---> a-c, b- \n",
      "index is 8 ---> a-i, b-s\n",
      "index is 9 ---> a-e, b-q\n",
      "index is 10 ---> a-n, b-l\n"
     ]
    }
   ],
   "source": [
    "## printing index and values using for loop \n",
    "\n",
    "a='Data secience'\n",
    "b='Python, sql'\n",
    "\n",
    "# iteration ---> for\n",
    "print('length of a : ', len(a))\n",
    "print('length of b : ', len(b))\n",
    "\n",
    "for i in range(len(b)):  # 0 to 10\n",
    "    # print(i)\n",
    "    # print(i, a[i], b[i])\n",
    "     print(f'index is {i} ---> a-{a[i]}, b-{b[i]}')    \n",
    "    "
   ]
  },
  {
   "cell_type": "code",
   "execution_count": 4,
   "id": "f7bb70df-0eeb-49dc-b4dd-78dc3f24d1a6",
   "metadata": {},
   "outputs": [
    {
     "name": "stdout",
     "output_type": "stream",
     "text": [
      "D P\n",
      "a y\n",
      "t t\n",
      "a h\n",
      "  o\n",
      "s n\n",
      "e ,\n",
      "c  \n",
      "i s\n",
      "e q\n",
      "n l\n"
     ]
    }
   ],
   "source": [
    "# zip\n",
    "## to use the iteration and indexing use case for both strings we use the index of min len string\n",
    "\n",
    "# printing index and values using zip\n",
    "\n",
    "# a='tillo'\n",
    "# b = 'ashwanth'\n",
    "\n",
    "for i,j in zip(a,b): \n",
    "    print(i,j)\n",
    "    "
   ]
  },
  {
   "cell_type": "code",
   "execution_count": 31,
   "id": "f064536e-a9e5-4cd0-a746-4a97a2fb7fde",
   "metadata": {},
   "outputs": [
    {
     "data": {
      "text/plain": [
       "7"
      ]
     },
     "execution_count": 31,
     "metadata": {},
     "output_type": "execute_result"
    }
   ],
   "source": [
    "a = \"Vasanth\"\n",
    "len(a)  # -- len = inbuilt function"
   ]
  },
  {
   "cell_type": "code",
   "execution_count": 19,
   "id": "4bbbbe41-5b99-4908-a668-2c9002c76de3",
   "metadata": {},
   "outputs": [
    {
     "name": "stdout",
     "output_type": "stream",
     "text": [
      "7\n"
     ]
    }
   ],
   "source": [
    "# find length of string using for loop\n",
    "\n",
    "length = 0\n",
    "a = 'Vasanth'\n",
    "\n",
    "for i in a:\n",
    "    # print(i)\n",
    "    length = length + 1\n",
    "    \n",
    "print(length)"
   ]
  },
  {
   "cell_type": "markdown",
   "id": "c2d1f8ae-2a3b-403e-9d51-52f5f06ef74e",
   "metadata": {},
   "source": [
    "### while loop"
   ]
  },
  {
   "cell_type": "code",
   "execution_count": 7,
   "id": "f314e9e7-ba8e-4b29-922e-3a2a84c5068e",
   "metadata": {},
   "outputs": [
    {
     "name": "stdout",
     "output_type": "stream",
     "text": [
      "0 Vasanth\n",
      "1 asanth\n",
      "2 santh\n",
      "3 anth\n",
      "4 nth\n",
      "5 th\n",
      "6 h\n"
     ]
    },
    {
     "data": {
      "text/plain": [
       "7"
      ]
     },
     "execution_count": 7,
     "metadata": {},
     "output_type": "execute_result"
    }
   ],
   "source": [
    "# find length of string using while loop with slice\n",
    "## slicing syntax = [start:end:step]\n",
    "\n",
    "a = 'Vasanth'\n",
    "length = 0\n",
    "\n",
    "while a[length:]:    # 0 to end \n",
    "   print(length,a[length:])  #[2:]\n",
    "   length+=1\n",
    "length"
   ]
  },
  {
   "cell_type": "code",
   "execution_count": 21,
   "id": "231e0c4f-baf5-4445-b5ed-7865cb42d077",
   "metadata": {},
   "outputs": [
    {
     "data": {
      "text/plain": [
       "'965'"
      ]
     },
     "execution_count": 21,
     "metadata": {},
     "output_type": "execute_result"
    }
   ],
   "source": [
    "number = 569\n",
    "a = str(number)\n",
    "a[::-1]"
   ]
  },
  {
   "cell_type": "code",
   "execution_count": 9,
   "id": "26b49f2e-a83c-4385-a3bc-4212d6e05262",
   "metadata": {},
   "outputs": [
    {
     "name": "stdout",
     "output_type": "stream",
     "text": [
      "965\n"
     ]
    }
   ],
   "source": [
    "# Ex: reverse the given number using while loop\n",
    "# %, //\n",
    "# divide by 10\n",
    "\n",
    "number = 569\n",
    "reversed_number=0 \n",
    "\n",
    "while number != 0:  # 56 , 5  , 0\n",
    "        digit = number % 10    # 569 / 10 = 9 , 56 / 10 = 6, 5/10 = 5\n",
    "        reversed_number = reversed_number * 10 + digit  # 0 *10 +9 = 9 , 9 *10 + 6 =96 , 96 *10 +5= 965\n",
    "        # print(reversed_number) \n",
    "        number = number // 10   # 569 / 10 = 56, 56/10 = 5 , 5/10 = 0  \n",
    "\n",
    "print(reversed_number)\n"
   ]
  },
  {
   "cell_type": "markdown",
   "id": "696741ec-9901-44d1-bb90-2fa5f247e603",
   "metadata": {},
   "source": [
    "### ternanry operator"
   ]
  },
  {
   "cell_type": "code",
   "execution_count": 10,
   "id": "3b7e5b1a-99b9-47e1-8fb8-88759e7f3501",
   "metadata": {},
   "outputs": [
    {
     "name": "stdout",
     "output_type": "stream",
     "text": [
      "odd\n"
     ]
    }
   ],
   "source": [
    "# using if condition check even or odd\n",
    "a = 9857\n",
    "if a%2==0:\n",
    "    print('Even')\n",
    "else:\n",
    "    print('odd')"
   ]
  },
  {
   "cell_type": "code",
   "execution_count": 12,
   "id": "d7cde756-2b55-4d09-8136-5745324fa555",
   "metadata": {},
   "outputs": [
    {
     "data": {
      "text/plain": [
       "'false, odd'"
      ]
     },
     "execution_count": 12,
     "metadata": {},
     "output_type": "execute_result"
    }
   ],
   "source": [
    "# syntax: value_if_true if condition else value_if_false\n",
    "# find even or odd\n",
    "a = 585\n",
    "out = 'True, Even' if a%2==0 else 'false, odd'  ## ternanry operator\n",
    "out"
   ]
  },
  {
   "cell_type": "markdown",
   "id": "4a5e313e-7e4f-459e-9e9b-f8b780378a41",
   "metadata": {},
   "source": [
    "### break, Continue & pass"
   ]
  },
  {
   "cell_type": "code",
   "execution_count": 6,
   "id": "2cd4e82f-43fa-4cdb-a390-49164ef48faa",
   "metadata": {},
   "outputs": [
    {
     "name": "stdout",
     "output_type": "stream",
     "text": [
      "6\n",
      "yes\n",
      "7\n",
      "yes\n",
      "8\n",
      "yes\n",
      "9\n",
      "yes\n",
      "10\n",
      "the task completed\n"
     ]
    }
   ],
   "source": [
    "# break\n",
    "## un expected scnario condition breakes \n",
    "## example purchasing products from other region sites \n",
    "# braking scnario - illegal searches /block words \n",
    "\n",
    "a=5\n",
    "while a == 5:\n",
    " while True:\n",
    "    a+=1   # a = a + 1\n",
    "    print(a)\n",
    "    if a==10:  # if there is hacking, then break\n",
    "        break                      # loop will break\n",
    "    if a!=10:\n",
    "        print('yes')\n",
    " print(\"the task completed\")\n",
    " # print(a)"
   ]
  },
  {
   "cell_type": "code",
   "execution_count": 8,
   "id": "09aa1993-1b5d-4eb7-8144-a7e84f76cb2d",
   "metadata": {},
   "outputs": [
    {
     "name": "stdout",
     "output_type": "stream",
     "text": [
      "6\n",
      "continue\n",
      "7\n",
      "continue\n",
      "8\n",
      "continue\n",
      "9\n",
      "continue\n",
      "10\n",
      "before break\n"
     ]
    }
   ],
   "source": [
    "# break\n",
    "\n",
    "a=5\n",
    "\n",
    "while a!=12: \n",
    "    a+=1\n",
    "    print(a)\n",
    "    if a==10: \n",
    "        print('before break')\n",
    "        break                         # it will endup the loop\n",
    "        print('after break')\n",
    "    print('continue')"
   ]
  },
  {
   "cell_type": "code",
   "execution_count": 10,
   "id": "e336b50b-63a9-4c2d-8e83-c9b120efabb9",
   "metadata": {},
   "outputs": [
    {
     "name": "stdout",
     "output_type": "stream",
     "text": [
      "6\n",
      "continue\n",
      "7\n",
      "continue\n",
      "8\n",
      "continue\n",
      "9\n",
      "continue\n",
      "10\n",
      "before continue\n",
      "11\n",
      "continue\n",
      "12\n",
      "continue\n"
     ]
    }
   ],
   "source": [
    "#continue\n",
    "\n",
    "a=5\n",
    "\n",
    "while a!=12:\n",
    "    a+=1\n",
    "    print(a)\n",
    "    if a==10: \n",
    "        print('before continue')\n",
    "        continue                         # while loop will continue\n",
    "        print('after continue')\n",
    "    print('continue')"
   ]
  },
  {
   "cell_type": "code",
   "execution_count": 11,
   "id": "a7a1c0da-9314-4365-8948-95e73b98a9b8",
   "metadata": {},
   "outputs": [
    {
     "name": "stdout",
     "output_type": "stream",
     "text": [
      "6\n",
      "continue\n",
      "7\n",
      "continue\n",
      "8\n",
      "continue\n",
      "9\n",
      "continue\n",
      "10\n",
      "before pass\n",
      "after pass\n",
      "continue\n",
      "11\n",
      "continue\n",
      "12\n",
      "continue\n"
     ]
    }
   ],
   "source": [
    "# pass\n",
    "\n",
    "a=5\n",
    "\n",
    "while a!=12:\n",
    "    a+=1\n",
    "    print(a)\n",
    "    if a==10: \n",
    "        print('before pass')\n",
    "        pass                         # it will procede next function after pass statement\n",
    "        print('after pass')\n",
    "    print('continue')"
   ]
  },
  {
   "cell_type": "code",
   "execution_count": 12,
   "id": "9908084a-5816-41b8-8242-162858aa3d4c",
   "metadata": {},
   "outputs": [
    {
     "name": "stdout",
     "output_type": "stream",
     "text": [
      "Current Letter:  P\n",
      "Current Letter:  y\n",
      "Current Letter:  t\n",
      "Current Letter:  h\n",
      "Current Letter:  o\n",
      "Current Letter:  n\n",
      "Current Letter:   \n"
     ]
    }
   ],
   "source": [
    "for string in \"Python Loops\":  \n",
    "    if string == 'L':  \n",
    "         break  \n",
    "    print('Current Letter: ', string)  "
   ]
  },
  {
   "cell_type": "code",
   "execution_count": 13,
   "id": "a3fce9de-15f3-477b-b961-cab6d94e6a5b",
   "metadata": {},
   "outputs": [
    {
     "name": "stdout",
     "output_type": "stream",
     "text": [
      "Current Letter: P\n",
      "Current Letter: y\n",
      "Current Letter: t\n",
      "Current Letter: h\n",
      "Current Letter: n\n",
      "Current Letter:  \n",
      "Current Letter: L\n",
      "Current Letter: p\n",
      "Current Letter: s\n"
     ]
    }
   ],
   "source": [
    "for string in \"Python Loops\":  \n",
    "    if string == \"o\":  \n",
    "         continue  \n",
    "    print('Current Letter:', string) "
   ]
  },
  {
   "cell_type": "code",
   "execution_count": 21,
   "id": "93234539-15b1-49f8-894b-c0818eb1fb97",
   "metadata": {},
   "outputs": [
    {
     "name": "stdout",
     "output_type": "stream",
     "text": [
      "Letter: o\n",
      "Letter: o\n",
      "Letter: o\n"
     ]
    }
   ],
   "source": [
    "for string in \"Python Loops\":  \n",
    "    if string == \"o\":# or string == \"p\" or string == \"t\":  \n",
    "        pass  \n",
    "        print( 'Letter:', string)   "
   ]
  },
  {
   "cell_type": "code",
   "execution_count": null,
   "id": "a4f05a0f-e56b-4c60-94aa-337702142dfb",
   "metadata": {},
   "outputs": [],
   "source": [
    "# Armstrong number: It is a number that is equal to the sum of cubes of its digits.\n",
    "# ex: a = 153\n",
    "# length = 3\n",
    "1**3 + 5**3 + 3**3\n",
    "\n",
    "a = 370, 371 \n",
    "b = len(str(a))\n",
    "\n",
    "3**3 + 7**3 + 1**3\n"
   ]
  },
  {
   "cell_type": "code",
   "execution_count": 23,
   "id": "865d1bee-34f3-4df4-a7a0-f9b0290a2ac6",
   "metadata": {},
   "outputs": [
    {
     "data": {
      "text/plain": [
       "9474"
      ]
     },
     "execution_count": 23,
     "metadata": {},
     "output_type": "execute_result"
    }
   ],
   "source": [
    "a = 9474\n",
    "length = 4\n",
    "9**4 + 4**4 + 7**4 + 4**4"
   ]
  },
  {
   "cell_type": "code",
   "execution_count": 24,
   "id": "961aa84a-6df0-48d7-9c69-9b8c8bfaedf2",
   "metadata": {},
   "outputs": [
    {
     "data": {
      "text/plain": [
       "11889"
      ]
     },
     "execution_count": 24,
     "metadata": {},
     "output_type": "execute_result"
    }
   ],
   "source": [
    "a = 7868   # not a armstrong number\n",
    "len = 4\n",
    "7 ** 4 + 8 ** 4 + 6 ** 4 + 8 ** 4"
   ]
  },
  {
   "cell_type": "code",
   "execution_count": 26,
   "id": "78344d8c-bc8c-4dfb-88de-544201f113ad",
   "metadata": {},
   "outputs": [
    {
     "name": "stdout",
     "output_type": "stream",
     "text": [
      "37 is not an Armstrong number.\n"
     ]
    }
   ],
   "source": [
    "number = 37 # 370, 153\n",
    "\n",
    "# Convert number to string to find its length\n",
    "num_str= str(number)\n",
    "num_digits = len(num_str)\n",
    "\n",
    "# Initialize sum of powered digits\n",
    "sum = 0\n",
    "\n",
    "# Calculate sum of powered digits\n",
    "for digit in num_str:\n",
    "    sum += int(digit) ** num_digits\n",
    "\n",
    "# Check if the sum is equal to the original number\n",
    "if sum == number:\n",
    "    print(number, \"is an Armstrong number.\")\n",
    "else:\n",
    "    print(number, \"is not an Armstrong number.\")\n"
   ]
  },
  {
   "cell_type": "code",
   "execution_count": 1,
   "id": "a75499b2-fe4c-49f7-82a5-4ec42ea71936",
   "metadata": {},
   "outputs": [],
   "source": [
    "# anagram: string that contains the same characters, only the order of characters can be different.\n",
    "\n",
    "# Ex: dog, god\n",
    "# listen, silent, intels\n",
    "# super, purse"
   ]
  },
  {
   "cell_type": "code",
   "execution_count": 28,
   "id": "36c2b9e4-98f3-44fe-ad44-dcca613453bf",
   "metadata": {},
   "outputs": [
    {
     "name": "stdout",
     "output_type": "stream",
     "text": [
      "['e', 'i', 'l', 'n', 's', 't'] ['e', 'i', 'l', 'n', 's', 't']\n",
      "Anagram\n"
     ]
    }
   ],
   "source": [
    "## anagram\n",
    "\n",
    "# a = 5637\n",
    "# b = 6753\n",
    "a = 'listen'\n",
    "b = 'silent'\n",
    "\n",
    "\n",
    "print(sorted(str(a)), sorted(str(b))) \n",
    "\n",
    "if sorted(str(a)) == sorted(str(b)):\n",
    "    print('Anagram')\n",
    "else:\n",
    "    print('not Anagram')"
   ]
  },
  {
   "cell_type": "code",
   "execution_count": 67,
   "id": "d79bf7e6-2516-4de8-b813-fde18e939963",
   "metadata": {},
   "outputs": [
    {
     "name": "stdout",
     "output_type": "stream",
     "text": [
      "inbuilt method---> ['e', 'i', 'l', 'n', 's', 't'] ['e', 'i', 'l', 'n', 's', 't'] True\n",
      "l s\n",
      "l i\n",
      "l l\n",
      "cnt----> 1\n",
      "i s\n",
      "i i\n",
      "cnt----> 2\n",
      "s s\n",
      "cnt----> 3\n",
      "t s\n",
      "t i\n",
      "t l\n",
      "t e\n",
      "t n\n",
      "t t\n",
      "cnt----> 4\n",
      "e s\n",
      "e i\n",
      "e l\n",
      "e e\n",
      "cnt----> 5\n",
      "n s\n",
      "n i\n",
      "n l\n",
      "n e\n",
      "n n\n",
      "cnt----> 6\n",
      "Anagram\n"
     ]
    }
   ],
   "source": [
    "## anagram\n",
    "\n",
    "\n",
    "a = 'listen'\n",
    "b = 'silent'\n",
    "\n",
    "\n",
    "print('inbuilt method--->',sorted(a) ,sorted(b), sorted(a) == sorted(b)) \n",
    "cnt = 0 # initialize\n",
    "for i in a:  # a iterate l, i\n",
    "    for j in b: # b iteration i\n",
    "         print(i,j) # l s, l i, l, l, i s, i i\n",
    "         if i==j:  #true\n",
    "            cnt +=1 # cnt = cnt + 1   1 , 2\n",
    "            break\n",
    "    print('cnt---->',cnt) #1 2\n",
    "    \n",
    "if sorted(str(a)) == sorted(str(b)):\n",
    "    print('Anagram')\n",
    "else:\n",
    "    print('not Anagram')"
   ]
  },
  {
   "cell_type": "markdown",
   "id": "99f7eb00-0465-4aa1-afba-566aee8f4c4b",
   "metadata": {},
   "source": [
    "### Exception handling"
   ]
  },
  {
   "cell_type": "code",
   "execution_count": 29,
   "id": "98262e3e-b0ad-48c4-9baf-1ad73ca206ae",
   "metadata": {},
   "outputs": [
    {
     "name": "stdout",
     "output_type": "stream",
     "text": [
      "user 1 pgm\n",
      "11\n",
      "user 2 pgm\n",
      "welcome\n",
      "user 3 pgm\n"
     ]
    },
    {
     "ename": "ZeroDivisionError",
     "evalue": "division by zero",
     "output_type": "error",
     "traceback": [
      "\u001b[1;31m---------------------------------------------------------------------------\u001b[0m",
      "\u001b[1;31mZeroDivisionError\u001b[0m                         Traceback (most recent call last)",
      "Cell \u001b[1;32mIn[29], line 12\u001b[0m\n\u001b[0;32m     10\u001b[0m \u001b[38;5;66;03m# user 3  ---> program\u001b[39;00m\n\u001b[0;32m     11\u001b[0m \u001b[38;5;28mprint\u001b[39m(\u001b[38;5;124m\"\u001b[39m\u001b[38;5;124muser 3 pgm\u001b[39m\u001b[38;5;124m\"\u001b[39m)\n\u001b[1;32m---> 12\u001b[0m e \u001b[38;5;241m=\u001b[39m \u001b[38;5;241;43m10\u001b[39;49m\u001b[38;5;241;43m/\u001b[39;49m\u001b[38;5;241;43m0\u001b[39;49m\n\u001b[0;32m     13\u001b[0m e\n",
      "\u001b[1;31mZeroDivisionError\u001b[0m: division by zero"
     ]
    }
   ],
   "source": [
    "# user 1 ---> program\n",
    "print(\"user 1 pgm\")\n",
    "c = 5 + 6\n",
    "print(c)\n",
    "\n",
    "# user 2 ---> program\n",
    "print(\"user 2 pgm\")\n",
    "print (\"welcome\")\n",
    "\n",
    "# user 3  ---> program\n",
    "print(\"user 3 pgm\")\n",
    "e = 10/0\n",
    "e\n",
    "\n"
   ]
  },
  {
   "cell_type": "code",
   "execution_count": 30,
   "id": "2b050c5e-d70d-4583-8abe-a0238a63467f",
   "metadata": {},
   "outputs": [
    {
     "name": "stdout",
     "output_type": "stream",
     "text": [
      "user 1 pgm\n",
      "11\n",
      "user 2 pgm\n"
     ]
    },
    {
     "ename": "ZeroDivisionError",
     "evalue": "division by zero",
     "output_type": "error",
     "traceback": [
      "\u001b[1;31m---------------------------------------------------------------------------\u001b[0m",
      "\u001b[1;31mZeroDivisionError\u001b[0m                         Traceback (most recent call last)",
      "Cell \u001b[1;32mIn[30], line 9\u001b[0m\n\u001b[0;32m      7\u001b[0m \u001b[38;5;66;03m# user 2  ---> program\u001b[39;00m\n\u001b[0;32m      8\u001b[0m \u001b[38;5;28mprint\u001b[39m(\u001b[38;5;124m\"\u001b[39m\u001b[38;5;124muser 2 pgm\u001b[39m\u001b[38;5;124m\"\u001b[39m)\n\u001b[1;32m----> 9\u001b[0m e \u001b[38;5;241m=\u001b[39m \u001b[38;5;241;43m10\u001b[39;49m\u001b[38;5;241;43m/\u001b[39;49m\u001b[38;5;241;43m0\u001b[39;49m\n\u001b[0;32m     10\u001b[0m e\n\u001b[0;32m     12\u001b[0m \u001b[38;5;66;03m# user 3 ---> program\u001b[39;00m\n",
      "\u001b[1;31mZeroDivisionError\u001b[0m: division by zero"
     ]
    }
   ],
   "source": [
    "# user 1 ---> program\n",
    "print(\"user 1 pgm\")\n",
    "c = 5 + 6\n",
    "print(c)\n",
    "\n",
    "\n",
    "# user 2  ---> program\n",
    "print(\"user 2 pgm\")\n",
    "e = 10/0\n",
    "e\n",
    "\n",
    "# user 3 ---> program\n",
    "print(\"user 3 pgm\")\n",
    "print (\"welcome\")\n",
    "\n",
    "\n"
   ]
  },
  {
   "cell_type": "markdown",
   "id": "776fe499-9f2e-40a4-99ca-68acf11549e8",
   "metadata": {},
   "source": [
    "* try\n",
    "* except\n",
    "* else\n",
    "* finally"
   ]
  },
  {
   "cell_type": "code",
   "execution_count": 31,
   "id": "92acb7d4-b96f-4b8a-8f16-53c9fb172698",
   "metadata": {},
   "outputs": [
    {
     "name": "stdout",
     "output_type": "stream",
     "text": [
      "user 2 pgm\n",
      "division by zero\n",
      "user 1 pgm\n",
      "11\n"
     ]
    }
   ],
   "source": [
    "try:\n",
    "    print(\"user 2 pgm\")\n",
    "    var = 10/0\n",
    "    var\n",
    "except ZeroDivisionError as e:\n",
    "    # user 1 ---> program\n",
    "    print(e)\n",
    "    print(\"user 1 pgm\")\n",
    "    c = 5 + 6\n",
    "    print(c)\n"
   ]
  },
  {
   "cell_type": "code",
   "execution_count": 32,
   "id": "d9809fbd-c87b-4a67-a6e7-74af911ef527",
   "metadata": {},
   "outputs": [
    {
     "name": "stdout",
     "output_type": "stream",
     "text": [
      "user 2 pgm\n",
      "division by zero\n",
      "user 1 pgm\n",
      "11\n"
     ]
    }
   ],
   "source": [
    "try:\n",
    "    print(\"user 2 pgm\")\n",
    "    var = 10/0\n",
    "    var\n",
    "except Exception as e:\n",
    "    # user 1 ---> program\n",
    "    print(e)\n",
    "    print(\"user 1 pgm\")\n",
    "    c = 5 + 6\n",
    "    print(c)\n"
   ]
  },
  {
   "cell_type": "code",
   "execution_count": 24,
   "id": "b60d03ba-a1eb-4468-a43d-e174e8594532",
   "metadata": {},
   "outputs": [
    {
     "name": "stdout",
     "output_type": "stream",
     "text": [
      "division by zero\n",
      "6\n"
     ]
    }
   ],
   "source": [
    "try:\n",
    "    val = 1/0\n",
    "    a = 6\n",
    "except ZeroDivisionError as e:\n",
    "    print(e)\n",
    "    print(6)"
   ]
  },
  {
   "cell_type": "code",
   "execution_count": 25,
   "id": "598027d5-fddc-4770-8f4a-ffe9b370ecde",
   "metadata": {},
   "outputs": [
    {
     "ename": "ModuleNotFoundError",
     "evalue": "No module named 'rkgyu'",
     "output_type": "error",
     "traceback": [
      "\u001b[1;31m---------------------------------------------------------------------------\u001b[0m",
      "\u001b[1;31mModuleNotFoundError\u001b[0m                       Traceback (most recent call last)",
      "Cell \u001b[1;32mIn[25], line 1\u001b[0m\n\u001b[1;32m----> 1\u001b[0m \u001b[38;5;28;01mimport\u001b[39;00m \u001b[38;5;21;01mrkgyu\u001b[39;00m\n",
      "\u001b[1;31mModuleNotFoundError\u001b[0m: No module named 'rkgyu'"
     ]
    }
   ],
   "source": [
    "import rkgyu"
   ]
  },
  {
   "cell_type": "code",
   "execution_count": 8,
   "id": "7574809b-50c1-46b0-8075-b7c8505a480f",
   "metadata": {},
   "outputs": [
    {
     "name": "stdout",
     "output_type": "stream",
     "text": [
      "No module named 'rk'\n",
      "user 1 output\n",
      "11\n"
     ]
    }
   ],
   "source": [
    "try:\n",
    "    import rk\n",
    "    \n",
    "except ModuleNotFoundError as e:\n",
    "    print(e)\n",
    "    print(\"user 1 output\")\n",
    "    c = 5 + 6\n",
    "    print(c)\n",
    "\n",
    "    "
   ]
  },
  {
   "cell_type": "code",
   "execution_count": 27,
   "id": "d9621a3e-1e79-4fb2-b6ac-15acf45290b6",
   "metadata": {},
   "outputs": [
    {
     "name": "stdout",
     "output_type": "stream",
     "text": [
      "No module named 'rk'\n",
      "user 1 output\n",
      "11\n"
     ]
    }
   ],
   "source": [
    "try:\n",
    "    import rk\n",
    "except Exception as e:\n",
    "    print(e)\n",
    "    print(\"user 1 output\")\n",
    "    c = 5 + 6\n",
    "    print(c)\n"
   ]
  },
  {
   "cell_type": "code",
   "execution_count": 11,
   "id": "a05ba2b0-1df4-40ee-9e28-2c372d5b8d79",
   "metadata": {},
   "outputs": [
    {
     "name": "stdout",
     "output_type": "stream",
     "text": [
      "Module is in python framework\n"
     ]
    }
   ],
   "source": [
    "try:\n",
    "    import pandas\n",
    "    \n",
    "except ModuleNotFoundError as e:\n",
    "    print(e)\n",
    "    print(\"user 1 output\")\n",
    "    c = 5 + 6\n",
    "    print(c)\n",
    "else:\n",
    "    print('Module is in python framework')\n",
    "    # print(\"user 1 output\")\n",
    "    # c = 5 + 6\n",
    "    # print(c)"
   ]
  },
  {
   "cell_type": "code",
   "execution_count": 35,
   "id": "8a13cf27-8880-4bdb-9599-19ca4b60a656",
   "metadata": {},
   "outputs": [
    {
     "name": "stdin",
     "output_type": "stream",
     "text": [
      "Enter number a 9\n",
      "Enter number b 8\n"
     ]
    },
    {
     "name": "stdout",
     "output_type": "stream",
     "text": [
      "b (Denominator) is not a zero\n",
      "1.125\n",
      "Thank you\n"
     ]
    }
   ],
   "source": [
    "# example\n",
    "try:\n",
    "    a = int(input('Enter number a'))\n",
    "    b = int(input('Enter number b'))\n",
    "    a/b\n",
    "except Exception as e:\n",
    "    print(e)\n",
    "    # b = 1\n",
    "    # print(a/b)\n",
    "else:\n",
    "    print('b (Denominator) is not a zero')\n",
    "    print(a/b)\n",
    "finally:\n",
    "    print('Thank you')"
   ]
  },
  {
   "cell_type": "code",
   "execution_count": 16,
   "id": "3a55849f-2af3-4337-bbd3-ea3f838ac871",
   "metadata": {},
   "outputs": [
    {
     "name": "stdin",
     "output_type": "stream",
     "text": [
      "Enter number a 6\n",
      "Enter number b 7\n"
     ]
    },
    {
     "name": "stdout",
     "output_type": "stream",
     "text": [
      "b is valid number\n",
      "Thank you\n"
     ]
    }
   ],
   "source": [
    "try:\n",
    "    a = int(input('Enter number a'))\n",
    "    b = int(input('Enter number b'))\n",
    "    a/b\n",
    "except ZeroDivisionError as e:\n",
    "    b = 1\n",
    "    print(a/b)\n",
    "else:\n",
    "    print('b is valid number')\n",
    "finally:\n",
    "    print('Thank you')"
   ]
  },
  {
   "cell_type": "code",
   "execution_count": null,
   "id": "f1aa23c6-31a5-4c26-90ca-b30c13c280d9",
   "metadata": {},
   "outputs": [],
   "source": [
    "# Task : convert number in words\n",
    "#Example = 456 - Four hundred fifty six"
   ]
  },
  {
   "cell_type": "code",
   "execution_count": null,
   "id": "398dc2bd-d72e-4168-8887-e4d93d0f4de3",
   "metadata": {},
   "outputs": [],
   "source": []
  }
 ],
 "metadata": {
  "kernelspec": {
   "display_name": "Python 3 (ipykernel)",
   "language": "python",
   "name": "python3"
  },
  "language_info": {
   "codemirror_mode": {
    "name": "ipython",
    "version": 3
   },
   "file_extension": ".py",
   "mimetype": "text/x-python",
   "name": "python",
   "nbconvert_exporter": "python",
   "pygments_lexer": "ipython3",
   "version": "3.11.4"
  }
 },
 "nbformat": 4,
 "nbformat_minor": 5
}
