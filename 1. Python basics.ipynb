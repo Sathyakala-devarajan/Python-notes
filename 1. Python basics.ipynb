{
 "cells": [
  {
   "cell_type": "markdown",
   "id": "667ca849-f06c-43d4-8285-304803060e0f",
   "metadata": {},
   "source": [
    "# Python Introduction"
   ]
  },
  {
   "cell_type": "markdown",
   "id": "f5ad49fa-cb33-4d07-aa37-1a5d8161a70b",
   "metadata": {},
   "source": [
    "## WHY PYTHON ?\n",
    "\n",
    "* Simple and Easy to learn\n",
    "* Open Source\n",
    "* Interpreted  - Reads line by line\n",
    "* High Level Language - which converts human readle to machine code\n",
    "* Dynamic Typed\n",
    "* Memory Management (garbage collector)"
   ]
  },
  {
   "cell_type": "code",
   "execution_count": 1,
   "id": "ac74b194-71e3-435d-97dd-a3b6df64a8d3",
   "metadata": {},
   "outputs": [
    {
     "data": {
      "text/plain": [
       "11"
      ]
     },
     "execution_count": 1,
     "metadata": {},
     "output_type": "execute_result"
    }
   ],
   "source": [
    "5+6 # simple"
   ]
  },
  {
   "cell_type": "markdown",
   "id": "3f81aa90-b8c6-4eed-bf86-a79c5225e68d",
   "metadata": {},
   "source": [
    "### Data types:\n",
    "* Languages where datatype allocation happens automatically are **dynamically typed**."
   ]
  },
  {
   "cell_type": "code",
   "execution_count": 3,
   "id": "2d042aa1-8384-4b91-b784-5042c535733b",
   "metadata": {},
   "outputs": [
    {
     "data": {
      "text/plain": [
       "int"
      ]
     },
     "execution_count": 3,
     "metadata": {},
     "output_type": "execute_result"
    }
   ],
   "source": [
    "a = 456 # integer\n",
    "a\n",
    "type(a)"
   ]
  },
  {
   "cell_type": "code",
   "execution_count": 4,
   "id": "053304ed-1e9b-434c-ab6a-ff838a90f6c8",
   "metadata": {},
   "outputs": [
    {
     "data": {
      "text/plain": [
       "str"
      ]
     },
     "execution_count": 4,
     "metadata": {},
     "output_type": "execute_result"
    }
   ],
   "source": [
    "a = '678'  # string\n",
    "type(a)"
   ]
  },
  {
   "cell_type": "code",
   "execution_count": 6,
   "id": "7721606f-e8de-4e8d-880e-9ac7bf542d62",
   "metadata": {},
   "outputs": [
    {
     "data": {
      "text/plain": [
       "complex"
      ]
     },
     "execution_count": 6,
     "metadata": {},
     "output_type": "execute_result"
    }
   ],
   "source": [
    "a = 8j+9  # complex = real + imaginary (j)\n",
    "a\n",
    "type(a)"
   ]
  },
  {
   "cell_type": "code",
   "execution_count": 7,
   "id": "80cd8c4b-b7a5-4004-b3e2-9643e54d8df4",
   "metadata": {},
   "outputs": [
    {
     "data": {
      "text/plain": [
       "complex"
      ]
     },
     "execution_count": 7,
     "metadata": {},
     "output_type": "execute_result"
    }
   ],
   "source": [
    "a = 5j\n",
    "type(a)"
   ]
  },
  {
   "cell_type": "code",
   "execution_count": 9,
   "id": "e0dcfbeb-8931-4aae-8936-0b6aa9b65980",
   "metadata": {},
   "outputs": [
    {
     "ename": "SyntaxError",
     "evalue": "invalid decimal literal (1956321832.py, line 1)",
     "output_type": "error",
     "traceback": [
      "\u001b[1;36m  Cell \u001b[1;32mIn[9], line 1\u001b[1;36m\u001b[0m\n\u001b[1;33m    a = 9i\u001b[0m\n\u001b[1;37m        ^\u001b[0m\n\u001b[1;31mSyntaxError\u001b[0m\u001b[1;31m:\u001b[0m invalid decimal literal\n"
     ]
    }
   ],
   "source": [
    "a = 9i\n",
    "type(a)"
   ]
  },
  {
   "cell_type": "code",
   "execution_count": 10,
   "id": "42dca579-af8b-417d-ab4c-bef537f7507e",
   "metadata": {},
   "outputs": [
    {
     "data": {
      "text/plain": [
       "float"
      ]
     },
     "execution_count": 10,
     "metadata": {},
     "output_type": "execute_result"
    }
   ],
   "source": [
    "a = 98687.987  # float\n",
    "type(a)"
   ]
  },
  {
   "cell_type": "code",
   "execution_count": null,
   "id": "fedccdf0-7a15-45ab-a8be-76907c0a1ee3",
   "metadata": {},
   "outputs": [],
   "source": [
    "# a = 0 -- False, 1 -- True"
   ]
  },
  {
   "cell_type": "code",
   "execution_count": 12,
   "id": "a5055841-0274-4dab-9f18-b1823625c1dc",
   "metadata": {},
   "outputs": [
    {
     "data": {
      "text/plain": [
       "bool"
      ]
     },
     "execution_count": 12,
     "metadata": {},
     "output_type": "execute_result"
    }
   ],
   "source": [
    "a = True  # boolean (0, 1)\n",
    "type(a)"
   ]
  },
  {
   "cell_type": "code",
   "execution_count": 11,
   "id": "b20905a1-ccb1-4f25-bed6-71baaa84968c",
   "metadata": {},
   "outputs": [
    {
     "data": {
      "text/plain": [
       "int"
      ]
     },
     "execution_count": 11,
     "metadata": {},
     "output_type": "execute_result"
    }
   ],
   "source": [
    "a = 0\n",
    "type(a)"
   ]
  },
  {
   "cell_type": "code",
   "execution_count": 13,
   "id": "16e5a110-097e-4aeb-83ff-6047d09a3670",
   "metadata": {},
   "outputs": [
    {
     "data": {
      "text/plain": [
       "bool"
      ]
     },
     "execution_count": 13,
     "metadata": {},
     "output_type": "execute_result"
    }
   ],
   "source": [
    "a = False\n",
    "type(a)"
   ]
  },
  {
   "cell_type": "code",
   "execution_count": 14,
   "id": "caddb965-d889-4865-a6fd-2ba191fb08c6",
   "metadata": {},
   "outputs": [
    {
     "name": "stdout",
     "output_type": "stream",
     "text": [
      "hello world\n"
     ]
    }
   ],
   "source": [
    "# to print hello world\n",
    "print('hello world')"
   ]
  },
  {
   "cell_type": "code",
   "execution_count": 15,
   "id": "c5862eeb-e6f1-47c0-b4b1-9ee7e039ce41",
   "metadata": {},
   "outputs": [
    {
     "name": "stdout",
     "output_type": "stream",
     "text": [
      "8633\n"
     ]
    }
   ],
   "source": [
    "print(57+8576)"
   ]
  },
  {
   "cell_type": "code",
   "execution_count": 16,
   "id": "afb07f4b-76b9-41e6-b346-8abfa11793b2",
   "metadata": {},
   "outputs": [
    {
     "name": "stdout",
     "output_type": "stream",
     "text": [
      "57+8576\n"
     ]
    }
   ],
   "source": [
    "print('57+8576')"
   ]
  },
  {
   "cell_type": "code",
   "execution_count": 17,
   "id": "afcd8177-43bb-4fe4-a832-54eba76f2778",
   "metadata": {},
   "outputs": [
    {
     "name": "stdout",
     "output_type": "stream",
     "text": [
      "56987\n"
     ]
    }
   ],
   "source": [
    "print('56'+'987')"
   ]
  },
  {
   "cell_type": "code",
   "execution_count": 12,
   "id": "4946bd0b-c7ab-4f06-875e-09c441faf5b0",
   "metadata": {},
   "outputs": [
    {
     "data": {
      "text/plain": [
       "'hello world'"
      ]
     },
     "execution_count": 12,
     "metadata": {},
     "output_type": "execute_result"
    }
   ],
   "source": [
    "'hello world'"
   ]
  },
  {
   "cell_type": "code",
   "execution_count": 18,
   "id": "390df26f-f296-4929-8808-fdb7550ec3c9",
   "metadata": {},
   "outputs": [
    {
     "name": "stdout",
     "output_type": "stream",
     "text": [
      "hi, welcome\n"
     ]
    }
   ],
   "source": [
    "print('hi, welcome')"
   ]
  },
  {
   "cell_type": "code",
   "execution_count": 19,
   "id": "b62ebd42-df39-4c5c-8914-9bf474deee1c",
   "metadata": {},
   "outputs": [
    {
     "name": "stdout",
     "output_type": "stream",
     "text": [
      "Welcome to Data science world!\n"
     ]
    }
   ],
   "source": [
    "print('Welcome to Data science world!')"
   ]
  },
  {
   "cell_type": "code",
   "execution_count": 20,
   "id": "6e028f4e-c3ed-4ed1-9838-61eb6ef874b5",
   "metadata": {},
   "outputs": [
    {
     "data": {
      "text/plain": [
       "'Tha data science class starts from today (16-04-2024)'"
      ]
     },
     "execution_count": 20,
     "metadata": {},
     "output_type": "execute_result"
    }
   ],
   "source": [
    "'Tha data science class starts from today (16-04-2024)'"
   ]
  },
  {
   "cell_type": "markdown",
   "id": "6ab3b8fc-18a0-4d17-b7c0-87a8bcb5470e",
   "metadata": {},
   "source": [
    "### Interpreter - line by line execution"
   ]
  },
  {
   "cell_type": "code",
   "execution_count": 28,
   "id": "6e193281-7133-401b-a3b0-f38d7f531509",
   "metadata": {},
   "outputs": [
    {
     "name": "stdout",
     "output_type": "stream",
     "text": [
      "5\n",
      "9\n",
      "9 5\n",
      "<class 'str'>\n",
      "35\n"
     ]
    }
   ],
   "source": [
    "b = '5'    \n",
    "b   # line 1\n",
    "a = 3 + 6\n",
    "a  # line 2 execution\n",
    "a, b # line 3\n",
    "type(b) # line 4\n",
    "d = '3'+'5'\n",
    "d\n",
    "print(b)\n",
    "print(a)\n",
    "print(a,b)\n",
    "print(type(b))\n",
    "print(d)"
   ]
  },
  {
   "cell_type": "code",
   "execution_count": 30,
   "id": "3c7c5ffc-b5c9-4970-9bd4-9f37edf65cf3",
   "metadata": {},
   "outputs": [
    {
     "name": "stdout",
     "output_type": "stream",
     "text": [
      "welcome\n",
      "line: 2----> Hello world\n"
     ]
    },
    {
     "ename": "ZeroDivisionError",
     "evalue": "division by zero",
     "output_type": "error",
     "traceback": [
      "\u001b[1;31m---------------------------------------------------------------------------\u001b[0m",
      "\u001b[1;31mZeroDivisionError\u001b[0m                         Traceback (most recent call last)",
      "Cell \u001b[1;32mIn[30], line 3\u001b[0m\n\u001b[0;32m      1\u001b[0m \u001b[38;5;28mprint\u001b[39m(\u001b[38;5;124m\"\u001b[39m\u001b[38;5;124mwelcome\u001b[39m\u001b[38;5;124m\"\u001b[39m)\n\u001b[0;32m      2\u001b[0m \u001b[38;5;28mprint\u001b[39m(\u001b[38;5;124m'\u001b[39m\u001b[38;5;124mline: 2----> Hello world\u001b[39m\u001b[38;5;124m'\u001b[39m)\n\u001b[1;32m----> 3\u001b[0m \u001b[38;5;28mprint\u001b[39m(\u001b[38;5;241;43m1\u001b[39;49m\u001b[38;5;241;43m/\u001b[39;49m\u001b[38;5;241;43m0\u001b[39;49m)\n\u001b[0;32m      4\u001b[0m \u001b[38;5;28mprint\u001b[39m(\u001b[38;5;124m'\u001b[39m\u001b[38;5;124mHello world\u001b[39m\u001b[38;5;124m'\u001b[39m)\n",
      "\u001b[1;31mZeroDivisionError\u001b[0m: division by zero"
     ]
    }
   ],
   "source": [
    "print(\"welcome\")\n",
    "print('line: 2----> Hello world')\n",
    "print(1/0)\n",
    "print('Hello world')\n"
   ]
  },
  {
   "cell_type": "code",
   "execution_count": 31,
   "id": "c1c6fb4c-2ad1-4fb1-8d74-9067bc43b862",
   "metadata": {},
   "outputs": [
    {
     "data": {
      "text/plain": [
       "(140736451765160, 140736451765160)"
      ]
     },
     "execution_count": 31,
     "metadata": {},
     "output_type": "execute_result"
    }
   ],
   "source": [
    "c = 5\n",
    "d = 5\n",
    "id(c), id(d)   # Memory management"
   ]
  },
  {
   "cell_type": "code",
   "execution_count": 30,
   "id": "0aa05fbc-07f0-4e6d-98db-d376bcc3f394",
   "metadata": {},
   "outputs": [
    {
     "data": {
      "text/plain": [
       "(140730212213704, 140730212213800)"
      ]
     },
     "execution_count": 30,
     "metadata": {},
     "output_type": "execute_result"
    }
   ],
   "source": [
    "c = 6\n",
    "d = 9\n",
    "id(c), id(d)"
   ]
  },
  {
   "cell_type": "code",
   "execution_count": 32,
   "id": "8c360d79-4311-489e-b015-f6a96965603a",
   "metadata": {},
   "outputs": [
    {
     "ename": "SyntaxError",
     "evalue": "incomplete input (3927587337.py, line 1)",
     "output_type": "error",
     "traceback": [
      "\u001b[1;36m  Cell \u001b[1;32mIn[32], line 1\u001b[1;36m\u001b[0m\n\u001b[1;33m    print(\"hi\"\u001b[0m\n\u001b[1;37m              ^\u001b[0m\n\u001b[1;31mSyntaxError\u001b[0m\u001b[1;31m:\u001b[0m incomplete input\n"
     ]
    }
   ],
   "source": [
    "print(\"hi\""
   ]
  },
  {
   "cell_type": "code",
   "execution_count": 35,
   "id": "17e4c35a-9eb4-4378-91f3-d5ae4fe7ab39",
   "metadata": {},
   "outputs": [
    {
     "ename": "SyntaxError",
     "evalue": "unterminated string literal (detected at line 1) (2771999186.py, line 1)",
     "output_type": "error",
     "traceback": [
      "\u001b[1;36m  Cell \u001b[1;32mIn[35], line 1\u001b[1;36m\u001b[0m\n\u001b[1;33m    print(\"hi)\u001b[0m\n\u001b[1;37m          ^\u001b[0m\n\u001b[1;31mSyntaxError\u001b[0m\u001b[1;31m:\u001b[0m unterminated string literal (detected at line 1)\n"
     ]
    }
   ],
   "source": [
    "print(\"hi)"
   ]
  },
  {
   "cell_type": "code",
   "execution_count": 28,
   "id": "beced931-b786-4d69-860a-ddb5fd369562",
   "metadata": {},
   "outputs": [
    {
     "ename": "ModuleNotFoundError",
     "evalue": "No module named 'hkg'",
     "output_type": "error",
     "traceback": [
      "\u001b[1;31m---------------------------------------------------------------------------\u001b[0m",
      "\u001b[1;31mModuleNotFoundError\u001b[0m                       Traceback (most recent call last)",
      "Cell \u001b[1;32mIn[28], line 1\u001b[0m\n\u001b[1;32m----> 1\u001b[0m \u001b[38;5;28;01mimport\u001b[39;00m \u001b[38;5;21;01mhkg\u001b[39;00m\n",
      "\u001b[1;31mModuleNotFoundError\u001b[0m: No module named 'hkg'"
     ]
    }
   ],
   "source": [
    "import hkg"
   ]
  },
  {
   "cell_type": "code",
   "execution_count": 38,
   "id": "a3d624c1-3ff9-4a39-8a78-08a6da1defd0",
   "metadata": {},
   "outputs": [
    {
     "ename": "SyntaxError",
     "evalue": "expected ':' (2217853272.py, line 2)",
     "output_type": "error",
     "traceback": [
      "\u001b[1;36m  Cell \u001b[1;32mIn[38], line 2\u001b[1;36m\u001b[0m\n\u001b[1;33m    if a<5\u001b[0m\n\u001b[1;37m          ^\u001b[0m\n\u001b[1;31mSyntaxError\u001b[0m\u001b[1;31m:\u001b[0m expected ':'\n"
     ]
    }
   ],
   "source": [
    "a = 2\n",
    "if a<5\n",
    "    print('welcome')\n"
   ]
  },
  {
   "cell_type": "code",
   "execution_count": 36,
   "id": "5ab88557-a618-4e1e-8376-d8315881facf",
   "metadata": {},
   "outputs": [
    {
     "ename": "IndentationError",
     "evalue": "expected an indented block after 'if' statement on line 2 (1510143126.py, line 3)",
     "output_type": "error",
     "traceback": [
      "\u001b[1;36m  Cell \u001b[1;32mIn[36], line 3\u001b[1;36m\u001b[0m\n\u001b[1;33m    print('available')\u001b[0m\n\u001b[1;37m    ^\u001b[0m\n\u001b[1;31mIndentationError\u001b[0m\u001b[1;31m:\u001b[0m expected an indented block after 'if' statement on line 2\n"
     ]
    }
   ],
   "source": [
    "a = 'Hi'\n",
    "if 'i' in a:\n",
    "print('available')\n",
    "    "
   ]
  },
  {
   "cell_type": "markdown",
   "id": "16410dc0-edd1-4622-a7cf-5499c2beb913",
   "metadata": {},
   "source": [
    "## Applications of python\n",
    "\n",
    "* Web Development        -  Django,Flask \n",
    "* Data Science           -  Pandas, Numpy, Matplotlib, seaborn\n",
    "* Machine Learning & AI  -  Scikit Learn (sklearn),\n",
    "* Deeplearning           -  Tensorflow,keras\n",
    "* Automation (webscrapping)      -  Beautifulsoup, request, Selenium\n",
    "* Desktop GUI            -  Tkinter,Pyqt\n",
    "* Gaming                 -  Turtle, Pygame\n",
    "* Networking             -  Paramiko"
   ]
  },
  {
   "cell_type": "code",
   "execution_count": 1,
   "id": "d9a7608a-7fd8-4245-98b4-26ac93d0201f",
   "metadata": {},
   "outputs": [],
   "source": [
    "# Python is both compiled and interpreted.  - Strongly Typed\n",
    "# Compiler - TRANSLATES - Source code to byte code AT ONE SHOT. \n",
    "# Interpreter - EXECUTIION - Of code line by line."
   ]
  },
  {
   "cell_type": "markdown",
   "id": "faf531a8-9983-4a3e-970d-25b6dd47db0c",
   "metadata": {},
   "source": [
    "## INTERPRETER\n",
    "\n",
    "<img src='https://i.ytimg.com/vi/VsjJfaUdFO8/maxresdefault.jpg'/>"
   ]
  },
  {
   "cell_type": "markdown",
   "id": "22aa3368-56ee-4b77-8287-f90b5fbfac6d",
   "metadata": {},
   "source": [
    "## LEXING:\n",
    "\n",
    "Breaks lines of code to tokens\n",
    "\n",
    "if tokens is invalid like typo then lexical error will be raised\n"
   ]
  },
  {
   "cell_type": "code",
   "execution_count": 36,
   "id": "0edc46c4-534d-4d52-b237-3d8f18efc50b",
   "metadata": {},
   "outputs": [
    {
     "data": {
      "text/plain": [
       "3"
      ]
     },
     "execution_count": 36,
     "metadata": {},
     "output_type": "execute_result"
    }
   ],
   "source": [
    "def add(a,b):\n",
    "    return a+b\n",
    "add(1,2)"
   ]
  },
  {
   "cell_type": "code",
   "execution_count": 32,
   "id": "95321c93-a8f9-4d48-bf95-316b66527428",
   "metadata": {},
   "outputs": [
    {
     "data": {
      "text/plain": [
       "'def add(a,b):\\n    return a+b\\n'"
      ]
     },
     "execution_count": 32,
     "metadata": {},
     "output_type": "execute_result"
    }
   ],
   "source": [
    "import inspect\n",
    "\n",
    "code = inspect.getsource(add)\n",
    "code"
   ]
  },
  {
   "cell_type": "code",
   "execution_count": 33,
   "id": "371594a2-d828-4005-8ac7-7afabdc7cb39",
   "metadata": {},
   "outputs": [
    {
     "data": {
      "text/plain": [
       "[TokenInfo(type=63 (ENCODING), string='utf-8', start=(0, 0), end=(0, 0), line=''),\n",
       " TokenInfo(type=1 (NAME), string='def', start=(1, 0), end=(1, 3), line='def add(a,b):\\n'),\n",
       " TokenInfo(type=1 (NAME), string='add', start=(1, 4), end=(1, 7), line='def add(a,b):\\n'),\n",
       " TokenInfo(type=54 (OP), string='(', start=(1, 7), end=(1, 8), line='def add(a,b):\\n'),\n",
       " TokenInfo(type=1 (NAME), string='a', start=(1, 8), end=(1, 9), line='def add(a,b):\\n'),\n",
       " TokenInfo(type=54 (OP), string=',', start=(1, 9), end=(1, 10), line='def add(a,b):\\n'),\n",
       " TokenInfo(type=1 (NAME), string='b', start=(1, 10), end=(1, 11), line='def add(a,b):\\n'),\n",
       " TokenInfo(type=54 (OP), string=')', start=(1, 11), end=(1, 12), line='def add(a,b):\\n'),\n",
       " TokenInfo(type=54 (OP), string=':', start=(1, 12), end=(1, 13), line='def add(a,b):\\n'),\n",
       " TokenInfo(type=4 (NEWLINE), string='\\n', start=(1, 13), end=(1, 14), line='def add(a,b):\\n'),\n",
       " TokenInfo(type=5 (INDENT), string='    ', start=(2, 0), end=(2, 4), line='    return a+b\\n'),\n",
       " TokenInfo(type=1 (NAME), string='return', start=(2, 4), end=(2, 10), line='    return a+b\\n'),\n",
       " TokenInfo(type=1 (NAME), string='a', start=(2, 11), end=(2, 12), line='    return a+b\\n'),\n",
       " TokenInfo(type=54 (OP), string='+', start=(2, 12), end=(2, 13), line='    return a+b\\n'),\n",
       " TokenInfo(type=1 (NAME), string='b', start=(2, 13), end=(2, 14), line='    return a+b\\n'),\n",
       " TokenInfo(type=4 (NEWLINE), string='\\n', start=(2, 14), end=(2, 15), line='    return a+b\\n'),\n",
       " TokenInfo(type=6 (DEDENT), string='', start=(3, 0), end=(3, 0), line=''),\n",
       " TokenInfo(type=0 (ENDMARKER), string='', start=(3, 0), end=(3, 0), line='')]"
      ]
     },
     "execution_count": 33,
     "metadata": {},
     "output_type": "execute_result"
    }
   ],
   "source": [
    "import tokenize\n",
    "from io import BytesIO\n",
    "\n",
    "list(tokenize.tokenize(BytesIO(code.encode('utf-8')).readline))"
   ]
  },
  {
   "cell_type": "markdown",
   "id": "d598d1dc-1057-4125-9b89-e0cc5d7787dc",
   "metadata": {},
   "source": [
    "## Parsing\n",
    "\n",
    "Parser uses the token to generate structure - Abstract Structure Tree( AST) to describe relation between tokens by creating tree like structure\n",
    "\n",
    "if invalid structure like missing parenthesis or indentation , parsing error will be raised"
   ]
  },
  {
   "cell_type": "code",
   "execution_count": 8,
   "id": "a897ca16-9288-4c01-b522-e13a4625b5aa",
   "metadata": {},
   "outputs": [
    {
     "data": {
      "text/plain": [
       "\"Module(body=[FunctionDef(name='add', args=arguments(posonlyargs=[], args=[arg(arg='a'), arg(arg='b')], kwonlyargs=[], kw_defaults=[], defaults=[]), body=[Return(value=BinOp(left=Name(id='a', ctx=Load()), op=Add(), right=Name(id='b', ctx=Load())))], decorator_list=[])], type_ignores=[])\""
      ]
     },
     "execution_count": 8,
     "metadata": {},
     "output_type": "execute_result"
    }
   ],
   "source": [
    "import ast\n",
    "\n",
    "ast.dump(ast.parse(code))"
   ]
  },
  {
   "cell_type": "markdown",
   "id": "f1c8cb18-cd8c-4dc0-ba94-4b846512d26d",
   "metadata": {},
   "source": [
    "## Compiler\n",
    "\n",
    "Converts AST into byte code(.pyc) - Platform independent\n",
    "\n",
    "if error related to reference to undefined varaiable or mismatch ,then semanti error will be raised\n",
    "\n",
    "## PVM - Python Virtual Machine (PVM) \n",
    "PVM is a program which provides programming environment.\n",
    "\n",
    "PVM loads bytecode an convert into machine execuable code (o's & 1's)\n",
    "\n",
    "if error related out of bound or division by zero, runtime error will be raised\n",
    "\n",
    "## pyc\n",
    "\n",
    "pyc files are compiled bytecode files that are generated by the Python interpreter when a Python script is imported or executed.\n",
    "\n",
    "pyc files are used to improve performance of subsequent runs. Pyc files are saved with timestamp, so there is no modification in code m pvm will uses pyc file directly by skipping other methods"
   ]
  },
  {
   "cell_type": "markdown",
   "id": "65b27a04-23cd-4889-b29b-cce4d1b0a6a4",
   "metadata": {},
   "source": [
    "# Operators:\n",
    "* Arithmetic  ---> +, -, *, /, //, %\n",
    "* Logical   ---> and, or, not\n",
    "* Conditional  ---> <, >, <=, >=, ==, !=, ~(tilt)\n"
   ]
  },
  {
   "cell_type": "code",
   "execution_count": 37,
   "id": "1e4aa541-8502-4924-a9cd-9d5ad29b1816",
   "metadata": {},
   "outputs": [],
   "source": [
    "a = 5\n",
    "b = 9\n",
    "c = 10\n",
    "d = 6"
   ]
  },
  {
   "cell_type": "code",
   "execution_count": 38,
   "id": "dc03f7fc-91c4-4510-b7a6-1319a183a61b",
   "metadata": {},
   "outputs": [
    {
     "data": {
      "text/plain": [
       "(14, 14, 8851)"
      ]
     },
     "execution_count": 38,
     "metadata": {},
     "output_type": "execute_result"
    }
   ],
   "source": [
    "#addition\n",
    "a+b , b+a, 86 + 8765"
   ]
  },
  {
   "cell_type": "code",
   "execution_count": 39,
   "id": "bda70944-7017-4190-b8ab-247a513881fc",
   "metadata": {},
   "outputs": [
    {
     "data": {
      "text/plain": [
       "(-4, 4, -23)"
      ]
     },
     "execution_count": 39,
     "metadata": {},
     "output_type": "execute_result"
    }
   ],
   "source": [
    "# subtraction\n",
    "a - b, b-a, 67-90"
   ]
  },
  {
   "cell_type": "code",
   "execution_count": 40,
   "id": "84d4ca34-779f-43e6-8ced-4ddd4c82cfd4",
   "metadata": {},
   "outputs": [
    {
     "data": {
      "text/plain": [
       "(45, 56225)"
      ]
     },
     "execution_count": 40,
     "metadata": {},
     "output_type": "execute_result"
    }
   ],
   "source": [
    "# mul\n",
    "a * b, 865 *65"
   ]
  },
  {
   "cell_type": "code",
   "execution_count": 42,
   "id": "53ae5948-292d-4308-8e39-dc32743f7321",
   "metadata": {},
   "outputs": [
    {
     "data": {
      "text/plain": [
       "(2.5, 12.25)"
      ]
     },
     "execution_count": 42,
     "metadata": {},
     "output_type": "execute_result"
    }
   ],
   "source": [
    "a = 5\n",
    "b = 2\n",
    "a / b, 98/8 # division\n"
   ]
  },
  {
   "cell_type": "code",
   "execution_count": 46,
   "id": "597caa12-e439-49db-a14b-db81e2fd05c6",
   "metadata": {},
   "outputs": [
    {
     "name": "stdout",
     "output_type": "stream",
     "text": [
      "Divide:  2.5\n",
      "Remainder:  1\n",
      "Quo:  2\n"
     ]
    }
   ],
   "source": [
    "a = 5\n",
    "b = 2\n",
    "print('Divide: ',a / b) # division\n",
    "print('Remainder: ',a % b)  # modulus (R)\n",
    "print('Quo: ',a // b) # floor division (Q)\n"
   ]
  },
  {
   "cell_type": "code",
   "execution_count": 47,
   "id": "9dcfe9bc-b861-43cc-9271-480768eb6f4e",
   "metadata": {},
   "outputs": [
    {
     "data": {
      "text/plain": [
       "2"
      ]
     },
     "execution_count": 47,
     "metadata": {},
     "output_type": "execute_result"
    }
   ],
   "source": [
    "a // b   # floor (Q)\n"
   ]
  },
  {
   "cell_type": "code",
   "execution_count": 50,
   "id": "849f7c53-0062-44c8-8673-e6e6e24e7ac3",
   "metadata": {},
   "outputs": [
    {
     "name": "stdout",
     "output_type": "stream",
     "text": [
      "125\n"
     ]
    },
    {
     "data": {
      "text/plain": [
       "125"
      ]
     },
     "execution_count": 50,
     "metadata": {},
     "output_type": "execute_result"
    }
   ],
   "source": [
    "# power\n",
    "a = 5\n",
    "print(a ** 3)  # 5 * 5 * 55\n",
    "5 ** 3"
   ]
  },
  {
   "cell_type": "code",
   "execution_count": 51,
   "id": "9965fd6c-a9f8-4ccb-a10c-dfed2b417587",
   "metadata": {},
   "outputs": [
    {
     "ename": "NameError",
     "evalue": "name 'log' is not defined",
     "output_type": "error",
     "traceback": [
      "\u001b[1;31m---------------------------------------------------------------------------\u001b[0m",
      "\u001b[1;31mNameError\u001b[0m                                 Traceback (most recent call last)",
      "Cell \u001b[1;32mIn[51], line 1\u001b[0m\n\u001b[1;32m----> 1\u001b[0m \u001b[43mlog\u001b[49m(a)\n",
      "\u001b[1;31mNameError\u001b[0m: name 'log' is not defined"
     ]
    }
   ],
   "source": [
    "log(a)"
   ]
  },
  {
   "cell_type": "code",
   "execution_count": 52,
   "id": "7f9706b1-503d-4bd8-a6ca-18071d1f5bbc",
   "metadata": {},
   "outputs": [
    {
     "ename": "NameError",
     "evalue": "name 'sin' is not defined",
     "output_type": "error",
     "traceback": [
      "\u001b[1;31m---------------------------------------------------------------------------\u001b[0m",
      "\u001b[1;31mNameError\u001b[0m                                 Traceback (most recent call last)",
      "Cell \u001b[1;32mIn[52], line 1\u001b[0m\n\u001b[1;32m----> 1\u001b[0m \u001b[43msin\u001b[49m(a)\n",
      "\u001b[1;31mNameError\u001b[0m: name 'sin' is not defined"
     ]
    }
   ],
   "source": [
    "sin(a)"
   ]
  },
  {
   "cell_type": "code",
   "execution_count": 54,
   "id": "2ea95e79-7096-49a7-8163-b1eb9d0d875f",
   "metadata": {},
   "outputs": [
    {
     "data": {
      "text/plain": [
       "2.302585092994046"
      ]
     },
     "execution_count": 54,
     "metadata": {},
     "output_type": "execute_result"
    }
   ],
   "source": [
    "import math\n",
    "a = 10\n",
    "math.log(a)"
   ]
  },
  {
   "cell_type": "code",
   "execution_count": 55,
   "id": "7bea1ea9-355a-4f62-ae6d-53eacc34d1dd",
   "metadata": {},
   "outputs": [
    {
     "data": {
      "text/plain": [
       "-0.5440211108893698"
      ]
     },
     "execution_count": 55,
     "metadata": {},
     "output_type": "execute_result"
    }
   ],
   "source": [
    "math.sin(a)"
   ]
  },
  {
   "cell_type": "code",
   "execution_count": 56,
   "id": "3b85bc74-5ad7-4fb9-978b-10a519c47e7f",
   "metadata": {
    "scrolled": true
   },
   "outputs": [
    {
     "name": "stdout",
     "output_type": "stream",
     "text": [
      "Help on built-in module math:\n",
      "\n",
      "NAME\n",
      "    math\n",
      "\n",
      "DESCRIPTION\n",
      "    This module provides access to the mathematical functions\n",
      "    defined by the C standard.\n",
      "\n",
      "FUNCTIONS\n",
      "    acos(x, /)\n",
      "        Return the arc cosine (measured in radians) of x.\n",
      "        \n",
      "        The result is between 0 and pi.\n",
      "    \n",
      "    acosh(x, /)\n",
      "        Return the inverse hyperbolic cosine of x.\n",
      "    \n",
      "    asin(x, /)\n",
      "        Return the arc sine (measured in radians) of x.\n",
      "        \n",
      "        The result is between -pi/2 and pi/2.\n",
      "    \n",
      "    asinh(x, /)\n",
      "        Return the inverse hyperbolic sine of x.\n",
      "    \n",
      "    atan(x, /)\n",
      "        Return the arc tangent (measured in radians) of x.\n",
      "        \n",
      "        The result is between -pi/2 and pi/2.\n",
      "    \n",
      "    atan2(y, x, /)\n",
      "        Return the arc tangent (measured in radians) of y/x.\n",
      "        \n",
      "        Unlike atan(y/x), the signs of both x and y are considered.\n",
      "    \n",
      "    atanh(x, /)\n",
      "        Return the inverse hyperbolic tangent of x.\n",
      "    \n",
      "    cbrt(x, /)\n",
      "        Return the cube root of x.\n",
      "    \n",
      "    ceil(x, /)\n",
      "        Return the ceiling of x as an Integral.\n",
      "        \n",
      "        This is the smallest integer >= x.\n",
      "    \n",
      "    comb(n, k, /)\n",
      "        Number of ways to choose k items from n items without repetition and without order.\n",
      "        \n",
      "        Evaluates to n! / (k! * (n - k)!) when k <= n and evaluates\n",
      "        to zero when k > n.\n",
      "        \n",
      "        Also called the binomial coefficient because it is equivalent\n",
      "        to the coefficient of k-th term in polynomial expansion of the\n",
      "        expression (1 + x)**n.\n",
      "        \n",
      "        Raises TypeError if either of the arguments are not integers.\n",
      "        Raises ValueError if either of the arguments are negative.\n",
      "    \n",
      "    copysign(x, y, /)\n",
      "        Return a float with the magnitude (absolute value) of x but the sign of y.\n",
      "        \n",
      "        On platforms that support signed zeros, copysign(1.0, -0.0)\n",
      "        returns -1.0.\n",
      "    \n",
      "    cos(x, /)\n",
      "        Return the cosine of x (measured in radians).\n",
      "    \n",
      "    cosh(x, /)\n",
      "        Return the hyperbolic cosine of x.\n",
      "    \n",
      "    degrees(x, /)\n",
      "        Convert angle x from radians to degrees.\n",
      "    \n",
      "    dist(p, q, /)\n",
      "        Return the Euclidean distance between two points p and q.\n",
      "        \n",
      "        The points should be specified as sequences (or iterables) of\n",
      "        coordinates.  Both inputs must have the same dimension.\n",
      "        \n",
      "        Roughly equivalent to:\n",
      "            sqrt(sum((px - qx) ** 2.0 for px, qx in zip(p, q)))\n",
      "    \n",
      "    erf(x, /)\n",
      "        Error function at x.\n",
      "    \n",
      "    erfc(x, /)\n",
      "        Complementary error function at x.\n",
      "    \n",
      "    exp(x, /)\n",
      "        Return e raised to the power of x.\n",
      "    \n",
      "    exp2(x, /)\n",
      "        Return 2 raised to the power of x.\n",
      "    \n",
      "    expm1(x, /)\n",
      "        Return exp(x)-1.\n",
      "        \n",
      "        This function avoids the loss of precision involved in the direct evaluation of exp(x)-1 for small x.\n",
      "    \n",
      "    fabs(x, /)\n",
      "        Return the absolute value of the float x.\n",
      "    \n",
      "    factorial(n, /)\n",
      "        Find n!.\n",
      "        \n",
      "        Raise a ValueError if x is negative or non-integral.\n",
      "    \n",
      "    floor(x, /)\n",
      "        Return the floor of x as an Integral.\n",
      "        \n",
      "        This is the largest integer <= x.\n",
      "    \n",
      "    fmod(x, y, /)\n",
      "        Return fmod(x, y), according to platform C.\n",
      "        \n",
      "        x % y may differ.\n",
      "    \n",
      "    frexp(x, /)\n",
      "        Return the mantissa and exponent of x, as pair (m, e).\n",
      "        \n",
      "        m is a float and e is an int, such that x = m * 2.**e.\n",
      "        If x is 0, m and e are both 0.  Else 0.5 <= abs(m) < 1.0.\n",
      "    \n",
      "    fsum(seq, /)\n",
      "        Return an accurate floating point sum of values in the iterable seq.\n",
      "        \n",
      "        Assumes IEEE-754 floating point arithmetic.\n",
      "    \n",
      "    gamma(x, /)\n",
      "        Gamma function at x.\n",
      "    \n",
      "    gcd(*integers)\n",
      "        Greatest Common Divisor.\n",
      "    \n",
      "    hypot(...)\n",
      "        hypot(*coordinates) -> value\n",
      "        \n",
      "        Multidimensional Euclidean distance from the origin to a point.\n",
      "        \n",
      "        Roughly equivalent to:\n",
      "            sqrt(sum(x**2 for x in coordinates))\n",
      "        \n",
      "        For a two dimensional point (x, y), gives the hypotenuse\n",
      "        using the Pythagorean theorem:  sqrt(x*x + y*y).\n",
      "        \n",
      "        For example, the hypotenuse of a 3/4/5 right triangle is:\n",
      "        \n",
      "            >>> hypot(3.0, 4.0)\n",
      "            5.0\n",
      "    \n",
      "    isclose(a, b, *, rel_tol=1e-09, abs_tol=0.0)\n",
      "        Determine whether two floating point numbers are close in value.\n",
      "        \n",
      "          rel_tol\n",
      "            maximum difference for being considered \"close\", relative to the\n",
      "            magnitude of the input values\n",
      "          abs_tol\n",
      "            maximum difference for being considered \"close\", regardless of the\n",
      "            magnitude of the input values\n",
      "        \n",
      "        Return True if a is close in value to b, and False otherwise.\n",
      "        \n",
      "        For the values to be considered close, the difference between them\n",
      "        must be smaller than at least one of the tolerances.\n",
      "        \n",
      "        -inf, inf and NaN behave similarly to the IEEE 754 Standard.  That\n",
      "        is, NaN is not close to anything, even itself.  inf and -inf are\n",
      "        only close to themselves.\n",
      "    \n",
      "    isfinite(x, /)\n",
      "        Return True if x is neither an infinity nor a NaN, and False otherwise.\n",
      "    \n",
      "    isinf(x, /)\n",
      "        Return True if x is a positive or negative infinity, and False otherwise.\n",
      "    \n",
      "    isnan(x, /)\n",
      "        Return True if x is a NaN (not a number), and False otherwise.\n",
      "    \n",
      "    isqrt(n, /)\n",
      "        Return the integer part of the square root of the input.\n",
      "    \n",
      "    lcm(*integers)\n",
      "        Least Common Multiple.\n",
      "    \n",
      "    ldexp(x, i, /)\n",
      "        Return x * (2**i).\n",
      "        \n",
      "        This is essentially the inverse of frexp().\n",
      "    \n",
      "    lgamma(x, /)\n",
      "        Natural logarithm of absolute value of Gamma function at x.\n",
      "    \n",
      "    log(...)\n",
      "        log(x, [base=math.e])\n",
      "        Return the logarithm of x to the given base.\n",
      "        \n",
      "        If the base not specified, returns the natural logarithm (base e) of x.\n",
      "    \n",
      "    log10(x, /)\n",
      "        Return the base 10 logarithm of x.\n",
      "    \n",
      "    log1p(x, /)\n",
      "        Return the natural logarithm of 1+x (base e).\n",
      "        \n",
      "        The result is computed in a way which is accurate for x near zero.\n",
      "    \n",
      "    log2(x, /)\n",
      "        Return the base 2 logarithm of x.\n",
      "    \n",
      "    modf(x, /)\n",
      "        Return the fractional and integer parts of x.\n",
      "        \n",
      "        Both results carry the sign of x and are floats.\n",
      "    \n",
      "    nextafter(x, y, /)\n",
      "        Return the next floating-point value after x towards y.\n",
      "    \n",
      "    perm(n, k=None, /)\n",
      "        Number of ways to choose k items from n items without repetition and with order.\n",
      "        \n",
      "        Evaluates to n! / (n - k)! when k <= n and evaluates\n",
      "        to zero when k > n.\n",
      "        \n",
      "        If k is not specified or is None, then k defaults to n\n",
      "        and the function returns n!.\n",
      "        \n",
      "        Raises TypeError if either of the arguments are not integers.\n",
      "        Raises ValueError if either of the arguments are negative.\n",
      "    \n",
      "    pow(x, y, /)\n",
      "        Return x**y (x to the power of y).\n",
      "    \n",
      "    prod(iterable, /, *, start=1)\n",
      "        Calculate the product of all the elements in the input iterable.\n",
      "        \n",
      "        The default start value for the product is 1.\n",
      "        \n",
      "        When the iterable is empty, return the start value.  This function is\n",
      "        intended specifically for use with numeric values and may reject\n",
      "        non-numeric types.\n",
      "    \n",
      "    radians(x, /)\n",
      "        Convert angle x from degrees to radians.\n",
      "    \n",
      "    remainder(x, y, /)\n",
      "        Difference between x and the closest integer multiple of y.\n",
      "        \n",
      "        Return x - n*y where n*y is the closest integer multiple of y.\n",
      "        In the case where x is exactly halfway between two multiples of\n",
      "        y, the nearest even value of n is used. The result is always exact.\n",
      "    \n",
      "    sin(x, /)\n",
      "        Return the sine of x (measured in radians).\n",
      "    \n",
      "    sinh(x, /)\n",
      "        Return the hyperbolic sine of x.\n",
      "    \n",
      "    sqrt(x, /)\n",
      "        Return the square root of x.\n",
      "    \n",
      "    tan(x, /)\n",
      "        Return the tangent of x (measured in radians).\n",
      "    \n",
      "    tanh(x, /)\n",
      "        Return the hyperbolic tangent of x.\n",
      "    \n",
      "    trunc(x, /)\n",
      "        Truncates the Real x to the nearest Integral toward 0.\n",
      "        \n",
      "        Uses the __trunc__ magic method.\n",
      "    \n",
      "    ulp(x, /)\n",
      "        Return the value of the least significant bit of the float x.\n",
      "\n",
      "DATA\n",
      "    e = 2.718281828459045\n",
      "    inf = inf\n",
      "    nan = nan\n",
      "    pi = 3.141592653589793\n",
      "    tau = 6.283185307179586\n",
      "\n",
      "FILE\n",
      "    (built-in)\n",
      "\n",
      "\n"
     ]
    }
   ],
   "source": [
    "help(math)"
   ]
  },
  {
   "cell_type": "markdown",
   "id": "fdda5c74-e97a-4e1d-be14-eca5803bdb6b",
   "metadata": {},
   "source": [
    "### Logical operation\n",
    "* bit wise operation\n",
    "* from LSB = 2^4, 2^3, 2^2 ,2^1, 2^0"
   ]
  },
  {
   "cell_type": "code",
   "execution_count": 57,
   "id": "ddab21e2-bab5-45d9-b351-8cb447c3ebe7",
   "metadata": {},
   "outputs": [
    {
     "data": {
      "text/plain": [
       "10"
      ]
     },
     "execution_count": 57,
     "metadata": {},
     "output_type": "execute_result"
    }
   ],
   "source": [
    "a = 15 # decimal converted to binary  1 1 1 1   \n",
    "b = 10                          #     1 0 1 0\n",
    "a and b                         #     1 0 1 0\n",
    "                                # and - bitwise multiplication"
   ]
  },
  {
   "cell_type": "code",
   "execution_count": 59,
   "id": "f417f7ae-a5d0-4387-bafa-e30a7a29bf83",
   "metadata": {},
   "outputs": [
    {
     "data": {
      "text/plain": [
       "15"
      ]
     },
     "execution_count": 59,
     "metadata": {},
     "output_type": "execute_result"
    }
   ],
   "source": [
    "a or b                 # bit wise add operation      1 1 1 1"
   ]
  },
  {
   "cell_type": "code",
   "execution_count": 57,
   "id": "ed94dd68-bd0c-4b28-bba9-896ce8678078",
   "metadata": {},
   "outputs": [
    {
     "data": {
      "text/plain": [
       "False"
      ]
     },
     "execution_count": 57,
     "metadata": {},
     "output_type": "execute_result"
    }
   ],
   "source": [
    "not a\n",
    "not b"
   ]
  },
  {
   "cell_type": "code",
   "execution_count": 58,
   "id": "314cd8d6-2608-41ea-9a19-ed0525b704da",
   "metadata": {},
   "outputs": [
    {
     "data": {
      "text/plain": [
       "True"
      ]
     },
     "execution_count": 58,
     "metadata": {},
     "output_type": "execute_result"
    }
   ],
   "source": [
    "a = 0\n",
    "not a"
   ]
  },
  {
   "cell_type": "markdown",
   "id": "b7558d90-5c2f-4d52-ad8c-e447c1925e1c",
   "metadata": {},
   "source": [
    "# conditional operation"
   ]
  },
  {
   "cell_type": "code",
   "execution_count": 60,
   "id": "e653829d-f7d9-4594-8541-9b7535f1c4df",
   "metadata": {},
   "outputs": [
    {
     "name": "stdout",
     "output_type": "stream",
     "text": [
      "False\n"
     ]
    }
   ],
   "source": [
    "a = '16' # string\n",
    "b = 16  # int\n",
    "print(a == b) # equality checker"
   ]
  },
  {
   "cell_type": "code",
   "execution_count": 61,
   "id": "0ecbad38-4dbe-4ebe-89c0-e0876b474736",
   "metadata": {},
   "outputs": [
    {
     "name": "stdout",
     "output_type": "stream",
     "text": [
      "True\n"
     ]
    }
   ],
   "source": [
    "a = 18\n",
    "b = 18\n",
    "print(a == b) # equality checker"
   ]
  },
  {
   "cell_type": "code",
   "execution_count": 64,
   "id": "15a43912-26d9-40db-a6b0-9c0da9154e8c",
   "metadata": {},
   "outputs": [
    {
     "name": "stdout",
     "output_type": "stream",
     "text": [
      "True\n"
     ]
    }
   ],
   "source": [
    "a = 9\n",
    "b= 2\n",
    "print(a!=b) # Not equal ckecking"
   ]
  },
  {
   "cell_type": "code",
   "execution_count": 65,
   "id": "d24e6176-8ffe-42e6-bec3-d9f667340e95",
   "metadata": {},
   "outputs": [
    {
     "name": "stdout",
     "output_type": "stream",
     "text": [
      "False\n"
     ]
    }
   ],
   "source": [
    "a = 25\n",
    "b = 6\n",
    "print(a < b) # less than"
   ]
  },
  {
   "cell_type": "code",
   "execution_count": 66,
   "id": "9c83ec8d-7573-4281-99e3-ade688e9af87",
   "metadata": {},
   "outputs": [
    {
     "name": "stdout",
     "output_type": "stream",
     "text": [
      "True\n"
     ]
    }
   ],
   "source": [
    "print(a>b) # greater than"
   ]
  },
  {
   "cell_type": "code",
   "execution_count": 64,
   "id": "34b69062-9794-4202-852f-038e3bc01fbb",
   "metadata": {},
   "outputs": [
    {
     "name": "stdout",
     "output_type": "stream",
     "text": [
      "False\n"
     ]
    }
   ],
   "source": [
    "a = 12\n",
    "b = 10\n",
    "print(a <= b)"
   ]
  },
  {
   "cell_type": "code",
   "execution_count": 65,
   "id": "d2b04e96-0160-4fc9-ba89-252c079d98a6",
   "metadata": {},
   "outputs": [
    {
     "name": "stdout",
     "output_type": "stream",
     "text": [
      "True\n"
     ]
    }
   ],
   "source": [
    "print(a >= b)"
   ]
  },
  {
   "cell_type": "code",
   "execution_count": 68,
   "id": "9a7effa5-c30d-4315-a29f-571c309bd7be",
   "metadata": {},
   "outputs": [
    {
     "data": {
      "text/plain": [
       "-1.6666666666666667"
      ]
     },
     "execution_count": 68,
     "metadata": {},
     "output_type": "execute_result"
    }
   ],
   "source": [
    "# find the output of following expression ---- > BODMAS\n",
    "(3+7)/6*(2-3)   "
   ]
  },
  {
   "cell_type": "code",
   "execution_count": 67,
   "id": "a2a70257-6b8f-47b9-9fb9-a874e60565ba",
   "metadata": {},
   "outputs": [
    {
     "data": {
      "text/plain": [
       "2.333333333333334"
      ]
     },
     "execution_count": 67,
     "metadata": {},
     "output_type": "execute_result"
    }
   ],
   "source": [
    "# find the output of following expression\n",
    "3+7/6*2-3"
   ]
  },
  {
   "cell_type": "markdown",
   "id": "20df2f22-f575-467c-956f-0b80ecf6e8ab",
   "metadata": {},
   "source": [
    "## Data structures\n",
    "<img src='https://miro.medium.com/max/746/1*VdLFpmSutr5BSbEeAtpmrQ.jpeg'>"
   ]
  },
  {
   "cell_type": "markdown",
   "id": "bd09c183-abfa-4b3a-8984-2ce971616feb",
   "metadata": {},
   "source": [
    "## Numbers"
   ]
  },
  {
   "cell_type": "code",
   "execution_count": 49,
   "id": "45aacce6-b283-4221-a4f6-d5aff4d64ab1",
   "metadata": {},
   "outputs": [
    {
     "data": {
      "text/plain": [
       "14"
      ]
     },
     "execution_count": 49,
     "metadata": {},
     "output_type": "execute_result"
    }
   ],
   "source": [
    "### Add\n",
    "4 + 10\n"
   ]
  },
  {
   "cell_type": "code",
   "execution_count": 50,
   "id": "78f6db2a-5d37-47ce-b967-68c17bf1973a",
   "metadata": {},
   "outputs": [
    {
     "data": {
      "text/plain": [
       "-2"
      ]
     },
     "execution_count": 50,
     "metadata": {},
     "output_type": "execute_result"
    }
   ],
   "source": [
    "# sub\n",
    "4-6"
   ]
  },
  {
   "cell_type": "code",
   "execution_count": 51,
   "id": "6a1b2214-e6b9-45e0-a862-cdf017f9babd",
   "metadata": {},
   "outputs": [
    {
     "data": {
      "text/plain": [
       "30"
      ]
     },
     "execution_count": 51,
     "metadata": {},
     "output_type": "execute_result"
    }
   ],
   "source": [
    "#multiply\n",
    "6*5"
   ]
  },
  {
   "cell_type": "code",
   "execution_count": 52,
   "id": "c3c86253-8731-4ff4-b69c-6479c03e41ab",
   "metadata": {},
   "outputs": [
    {
     "data": {
      "text/plain": [
       "125"
      ]
     },
     "execution_count": 52,
     "metadata": {},
     "output_type": "execute_result"
    }
   ],
   "source": [
    "#power\n",
    "5**3"
   ]
  },
  {
   "cell_type": "code",
   "execution_count": 53,
   "id": "c03de6e1-b413-4474-9c92-7305f5ebc588",
   "metadata": {},
   "outputs": [
    {
     "data": {
      "text/plain": [
       "(1.5, float)"
      ]
     },
     "execution_count": 53,
     "metadata": {},
     "output_type": "execute_result"
    }
   ],
   "source": [
    "3/2,type(3/2)  # Division"
   ]
  },
  {
   "cell_type": "code",
   "execution_count": 54,
   "id": "c86646c8-6aa8-4152-8994-11661e1c6c57",
   "metadata": {},
   "outputs": [
    {
     "data": {
      "text/plain": [
       "1"
      ]
     },
     "execution_count": 54,
     "metadata": {},
     "output_type": "execute_result"
    }
   ],
   "source": [
    "3//2 # floor  division "
   ]
  },
  {
   "cell_type": "code",
   "execution_count": 55,
   "id": "917a1f12-0cca-4fa6-970e-51decb264ca4",
   "metadata": {},
   "outputs": [
    {
     "data": {
      "text/plain": [
       "0"
      ]
     },
     "execution_count": 55,
     "metadata": {},
     "output_type": "execute_result"
    }
   ],
   "source": [
    "4%2 # Modulus "
   ]
  },
  {
   "cell_type": "code",
   "execution_count": 57,
   "id": "2ba382ea-4b3d-41bd-9801-00e945827ebd",
   "metadata": {},
   "outputs": [
    {
     "data": {
      "text/plain": [
       "20"
      ]
     },
     "execution_count": 57,
     "metadata": {},
     "output_type": "execute_result"
    }
   ],
   "source": [
    "10 and 20"
   ]
  },
  {
   "cell_type": "code",
   "execution_count": 58,
   "id": "b369bd7c-e217-4b97-8f21-160603820ddd",
   "metadata": {},
   "outputs": [
    {
     "data": {
      "text/plain": [
       "30"
      ]
     },
     "execution_count": 58,
     "metadata": {},
     "output_type": "execute_result"
    }
   ],
   "source": [
    "30 or 40"
   ]
  },
  {
   "cell_type": "markdown",
   "id": "df643b5b-6cc6-4107-ba36-b30767207a8e",
   "metadata": {},
   "source": [
    "## Variable \n",
    "\n",
    "Refer to a object stored in memory"
   ]
  },
  {
   "cell_type": "code",
   "execution_count": 62,
   "id": "907c26cf-125d-4aac-b011-ced102092a2c",
   "metadata": {},
   "outputs": [
    {
     "data": {
      "text/plain": [
       "19"
      ]
     },
     "execution_count": 62,
     "metadata": {},
     "output_type": "execute_result"
    }
   ],
   "source": [
    "a = 9\n",
    "b = 10\n",
    "a+b"
   ]
  },
  {
   "cell_type": "code",
   "execution_count": 63,
   "id": "6b76b9e0-2a9a-46b4-a183-270a56b0e2dc",
   "metadata": {},
   "outputs": [
    {
     "data": {
      "text/plain": [
       "7.5"
      ]
     },
     "execution_count": 63,
     "metadata": {},
     "output_type": "execute_result"
    }
   ],
   "source": [
    "\n",
    "a = 3+4.5\n",
    "a"
   ]
  },
  {
   "cell_type": "code",
   "execution_count": 69,
   "id": "7aaa1916-c7c1-422b-8180-e5384f3cfd38",
   "metadata": {},
   "outputs": [
    {
     "name": "stdout",
     "output_type": "stream",
     "text": [
      "Variable   Type        Data/Info\n",
      "--------------------------------\n",
      "BytesIO    type        <class '_io.BytesIO'>\n",
      "a          int         12\n",
      "add        function    <function add at 0x00000216FE15C360>\n",
      "b          int         10\n",
      "c          int         10\n",
      "code       str         def add(a,b):\\n    return a+b\\n\n",
      "d          int         6\n",
      "inspect    module      <module 'inspect' from 'C<...>hon311\\\\Lib\\\\inspect.py'>\n",
      "math       module      <module 'math' (built-in)>\n",
      "tokenize   module      <module 'tokenize' from '<...>on311\\\\Lib\\\\tokenize.py'>\n"
     ]
    }
   ],
   "source": [
    "%whos"
   ]
  },
  {
   "cell_type": "markdown",
   "id": "8d7a20d8-cd6b-426e-bfd3-0d00fd54908f",
   "metadata": {},
   "source": [
    "#### Rules\n",
    "* It should be meaningful\n",
    "* Key words or reserved words never used to as varible\n",
    "* Variable not start with number\n",
    "* Varible does not contains space\n",
    "* Special characters not allowed in varible"
   ]
  },
  {
   "cell_type": "code",
   "execution_count": 71,
   "id": "36bf9cf5-3cd9-4f47-9101-173e0aa17c77",
   "metadata": {},
   "outputs": [
    {
     "name": "stdout",
     "output_type": "stream",
     "text": [
      "35\n"
     ]
    },
    {
     "data": {
      "text/plain": [
       "['False',\n",
       " 'None',\n",
       " 'True',\n",
       " 'and',\n",
       " 'as',\n",
       " 'assert',\n",
       " 'async',\n",
       " 'await',\n",
       " 'break',\n",
       " 'class',\n",
       " 'continue',\n",
       " 'def',\n",
       " 'del',\n",
       " 'elif',\n",
       " 'else',\n",
       " 'except',\n",
       " 'finally',\n",
       " 'for',\n",
       " 'from',\n",
       " 'global',\n",
       " 'if',\n",
       " 'import',\n",
       " 'in',\n",
       " 'is',\n",
       " 'lambda',\n",
       " 'nonlocal',\n",
       " 'not',\n",
       " 'or',\n",
       " 'pass',\n",
       " 'raise',\n",
       " 'return',\n",
       " 'try',\n",
       " 'while',\n",
       " 'with',\n",
       " 'yield']"
      ]
     },
     "execution_count": 71,
     "metadata": {},
     "output_type": "execute_result"
    }
   ],
   "source": [
    "# reserved words\n",
    "import keyword  ## reserverd words\n",
    "print(len(keyword.kwlist))\n",
    "keyword.kwlist"
   ]
  },
  {
   "cell_type": "code",
   "execution_count": 72,
   "id": "05807825-807f-44cf-9644-f9e4b417d310",
   "metadata": {},
   "outputs": [
    {
     "ename": "SyntaxError",
     "evalue": "cannot assign to True (1177100085.py, line 1)",
     "output_type": "error",
     "traceback": [
      "\u001b[1;36m  Cell \u001b[1;32mIn[72], line 1\u001b[1;36m\u001b[0m\n\u001b[1;33m    True = 5\u001b[0m\n\u001b[1;37m    ^\u001b[0m\n\u001b[1;31mSyntaxError\u001b[0m\u001b[1;31m:\u001b[0m cannot assign to True\n"
     ]
    }
   ],
   "source": [
    "True = 5\n"
   ]
  },
  {
   "cell_type": "code",
   "execution_count": 73,
   "id": "63c4542b-76c1-48c3-8cef-29ffcbded625",
   "metadata": {},
   "outputs": [
    {
     "data": {
      "text/plain": [
       "(5, 10)"
      ]
     },
     "execution_count": 73,
     "metadata": {},
     "output_type": "execute_result"
    }
   ],
   "source": [
    "true = 5  # true not a keyword\n",
    "TRUE = 10\n",
    "true, TRUE"
   ]
  },
  {
   "cell_type": "code",
   "execution_count": 75,
   "id": "027197c5-76c5-42ed-b200-ea0d7e541040",
   "metadata": {},
   "outputs": [
    {
     "data": {
      "text/plain": [
       "(3, 4)"
      ]
     },
     "execution_count": 75,
     "metadata": {},
     "output_type": "execute_result"
    }
   ],
   "source": [
    "# variable assigned within limit\n",
    "x, y = 3, 4\n",
    "x, y"
   ]
  },
  {
   "cell_type": "code",
   "execution_count": 76,
   "id": "1c96ea47-b496-4a65-80c7-24bc67065fda",
   "metadata": {},
   "outputs": [
    {
     "ename": "ValueError",
     "evalue": "too many values to unpack (expected 2)",
     "output_type": "error",
     "traceback": [
      "\u001b[1;31m---------------------------------------------------------------------------\u001b[0m",
      "\u001b[1;31mValueError\u001b[0m                                Traceback (most recent call last)",
      "Cell \u001b[1;32mIn[76], line 2\u001b[0m\n\u001b[0;32m      1\u001b[0m \u001b[38;5;66;03m# variable assigned exceed the limit\u001b[39;00m\n\u001b[1;32m----> 2\u001b[0m x, y \u001b[38;5;241m=\u001b[39m \u001b[38;5;241m3\u001b[39m, \u001b[38;5;241m4\u001b[39m, \u001b[38;5;241m0\u001b[39m\n\u001b[0;32m      3\u001b[0m x, y\n",
      "\u001b[1;31mValueError\u001b[0m: too many values to unpack (expected 2)"
     ]
    }
   ],
   "source": [
    "# variable assigned exceed the limit\n",
    "x, y = 3, 4, 0\n",
    "x, y"
   ]
  },
  {
   "cell_type": "code",
   "execution_count": 77,
   "id": "f7e9e60c-3c74-4ad9-a6ec-cbc5b4d19b4c",
   "metadata": {},
   "outputs": [
    {
     "ename": "SyntaxError",
     "evalue": "invalid decimal literal (3714683224.py, line 2)",
     "output_type": "error",
     "traceback": [
      "\u001b[1;36m  Cell \u001b[1;32mIn[77], line 2\u001b[1;36m\u001b[0m\n\u001b[1;33m    5a = 'Hi'\u001b[0m\n\u001b[1;37m    ^\u001b[0m\n\u001b[1;31mSyntaxError\u001b[0m\u001b[1;31m:\u001b[0m invalid decimal literal\n"
     ]
    }
   ],
   "source": [
    "# Variable not start with number\n",
    "5a = 'Hi'\n",
    "5a"
   ]
  },
  {
   "cell_type": "code",
   "execution_count": 78,
   "id": "36c6d6b4-bd1b-468e-bc7d-704dd542ac75",
   "metadata": {},
   "outputs": [
    {
     "data": {
      "text/plain": [
       "9"
      ]
     },
     "execution_count": 78,
     "metadata": {},
     "output_type": "execute_result"
    }
   ],
   "source": [
    "a3 = 9\n",
    "a3"
   ]
  },
  {
   "cell_type": "code",
   "execution_count": 79,
   "id": "a8980b29-3e48-49bd-998e-b803254bb8b6",
   "metadata": {},
   "outputs": [
    {
     "ename": "SyntaxError",
     "evalue": "invalid syntax (1005392114.py, line 2)",
     "output_type": "error",
     "traceback": [
      "\u001b[1;36m  Cell \u001b[1;32mIn[79], line 2\u001b[1;36m\u001b[0m\n\u001b[1;33m    python notes = \"variable assignment, operators, data structures\"\u001b[0m\n\u001b[1;37m           ^\u001b[0m\n\u001b[1;31mSyntaxError\u001b[0m\u001b[1;31m:\u001b[0m invalid syntax\n"
     ]
    }
   ],
   "source": [
    "# Varible does not contains space\n",
    "python notes = \"variable assignment, operators, data structures\"\n",
    "python notes"
   ]
  },
  {
   "cell_type": "code",
   "execution_count": 80,
   "id": "3c46a648-c7d5-46d0-8388-9043ce547ad8",
   "metadata": {},
   "outputs": [
    {
     "data": {
      "text/plain": [
       "'variable assignment, operators, data structures'"
      ]
     },
     "execution_count": 80,
     "metadata": {},
     "output_type": "execute_result"
    }
   ],
   "source": [
    "python_notes = \"variable assignment, operators, data structures\"\n",
    "python_notes"
   ]
  },
  {
   "cell_type": "code",
   "execution_count": 81,
   "id": "63e3385e-99ae-455b-8395-5c2dc3b58049",
   "metadata": {},
   "outputs": [
    {
     "data": {
      "text/plain": [
       "'variable assignment, operators, data structures'"
      ]
     },
     "execution_count": 81,
     "metadata": {},
     "output_type": "execute_result"
    }
   ],
   "source": [
    "pythonnotes = \"variable assignment, operators, data structures\"\n",
    "pythonnotes"
   ]
  },
  {
   "cell_type": "code",
   "execution_count": 82,
   "id": "ff9284ad-b4cd-42c2-96ed-2306847d69f9",
   "metadata": {},
   "outputs": [
    {
     "ename": "SyntaxError",
     "evalue": "cannot assign to expression here. Maybe you meant '==' instead of '='? (1070655547.py, line 2)",
     "output_type": "error",
     "traceback": [
      "\u001b[1;36m  Cell \u001b[1;32mIn[82], line 2\u001b[1;36m\u001b[0m\n\u001b[1;33m    python&sql_notes = \"joins, aggregate function, variable assignment, operators, data structures\"\u001b[0m\n\u001b[1;37m    ^\u001b[0m\n\u001b[1;31mSyntaxError\u001b[0m\u001b[1;31m:\u001b[0m cannot assign to expression here. Maybe you meant '==' instead of '='?\n"
     ]
    }
   ],
   "source": [
    "# Special characters not allowed in varible\n",
    "python&sql_notes = \"joins, aggregate function, variable assignment, operators, data structures\"\n",
    "python&sql_notes"
   ]
  },
  {
   "cell_type": "code",
   "execution_count": 83,
   "id": "4f95a466-928d-4bff-8e1b-ddf611807d88",
   "metadata": {},
   "outputs": [
    {
     "ename": "NameError",
     "evalue": "name 'python' is not defined",
     "output_type": "error",
     "traceback": [
      "\u001b[1;31m---------------------------------------------------------------------------\u001b[0m",
      "\u001b[1;31mNameError\u001b[0m                                 Traceback (most recent call last)",
      "Cell \u001b[1;32mIn[83], line 2\u001b[0m\n\u001b[0;32m      1\u001b[0m \u001b[38;5;66;03m# Special characters not allowed in varible\u001b[39;00m\n\u001b[1;32m----> 2\u001b[0m \u001b[43mpython\u001b[49m\u001b[38;5;241m^\u001b[39msql_notes \u001b[38;5;241m==\u001b[39m \u001b[38;5;124m\"\u001b[39m\u001b[38;5;124mjoins, aggregate function, variable assignment, operators, data structures\u001b[39m\u001b[38;5;124m\"\u001b[39m\n\u001b[0;32m      3\u001b[0m python\u001b[38;5;241m^\u001b[39msql_notes\n",
      "\u001b[1;31mNameError\u001b[0m: name 'python' is not defined"
     ]
    }
   ],
   "source": [
    "# Special characters not allowed in varible\n",
    "python^sql_notes == \"joins, aggregate function, variable assignment, operators, data structures\"\n",
    "python^sql_notes"
   ]
  },
  {
   "cell_type": "code",
   "execution_count": 84,
   "id": "80665106-b128-4462-a63f-ddbd99ece969",
   "metadata": {},
   "outputs": [
    {
     "data": {
      "text/plain": [
       "(9, 5)"
      ]
     },
     "execution_count": 84,
     "metadata": {},
     "output_type": "execute_result"
    }
   ],
   "source": [
    "# Swap the variables\n",
    "\n",
    "a = 5\n",
    "b = 9\n",
    "\n",
    "temp = a    # temp = 5\n",
    "a = b    # a = 9\n",
    "b =temp   # b = 5\n",
    "a, b\n",
    "# It is used in other programming language"
   ]
  },
  {
   "cell_type": "code",
   "execution_count": 85,
   "id": "6a25ff2a-b3b9-47dd-9797-850da443f2bf",
   "metadata": {},
   "outputs": [
    {
     "data": {
      "text/plain": [
       "(9, 5)"
      ]
     },
     "execution_count": 85,
     "metadata": {},
     "output_type": "execute_result"
    }
   ],
   "source": [
    "# in python we can do in simple way\n",
    "a = 5\n",
    "b = 9\n",
    "a, b = b, a\n",
    "a, b"
   ]
  },
  {
   "cell_type": "code",
   "execution_count": null,
   "id": "f8e7a531-a1c1-4aec-a6d4-5ba348421777",
   "metadata": {},
   "outputs": [],
   "source": []
  }
 ],
 "metadata": {
  "kernelspec": {
   "display_name": "Python 3 (ipykernel)",
   "language": "python",
   "name": "python3"
  },
  "language_info": {
   "codemirror_mode": {
    "name": "ipython",
    "version": 3
   },
   "file_extension": ".py",
   "mimetype": "text/x-python",
   "name": "python",
   "nbconvert_exporter": "python",
   "pygments_lexer": "ipython3",
   "version": "3.11.4"
  }
 },
 "nbformat": 4,
 "nbformat_minor": 5
}
